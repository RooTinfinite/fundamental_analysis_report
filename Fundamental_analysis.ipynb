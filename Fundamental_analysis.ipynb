{
 "cells": [
  {
   "cell_type": "markdown",
   "id": "bfaa4a05",
   "metadata": {},
   "source": [
    "<a id=\"index\"></a>\n",
    "# Index\n",
    "\n",
    "Initialize:\n",
    "- [Define company ticker](#ticker)\n",
    "- [Import python modules](#imports)\n",
    "- [Remove previous files](#remove_previous_files)\n",
    "\n",
    "Import Data:\n",
    "- [Import data from Financial Modeling Prep](#fmp_import)\n",
    "- [Filter dataframe for selected period and sort descending](#filter_df2)\n",
    "- [Get company currency](#get_company_currency)\n",
    "- [Download the company image](#download_company_image)\n",
    "\n",
    "Process Data\n",
    "- [Create  graphs:](#graph_df)\n",
    "    - [[Graph] Balance Sheet: Nominal and Common size](#bs_graph)\n",
    "    - [[Graph] Income Statement: Nominal and Common size](#is_graph)\n",
    "    - [[Graph] Cash Flow Statement](#CF_graph)\n",
    "    - [[DataFrame] Equity Uses](#equity_uses_table)\n",
    "    - [[Graph] Equity Uses](#equity_uses)\n",
    "\n",
    "- [Create financial statements:](#statements)\n",
    "    - [[Table] Income statement](#table_is)\n",
    "    - [[Table] Common size income statement](#table_cs_is)\n",
    "    - [[Table] Balance Sheet](#table_bs)\n",
    "    - [[Table] Common Size Balance Sheet ](#table_cs_bs)\n",
    "    - [[Table] Cash Flow Statement ](#table_cf)\n",
    "    \n",
    " - [Create Key Metrics tables](#metrics)\n",
    "    - [[Table] Market Ratios ](#table_market)\n",
    "    - [[Table] Debt, Liquidity and Solvency Ratios ](#table_debt)\n",
    "    - [[Table] Profit Ratios ](#table_profit)\n",
    "    - [[Table] Efficiency Ratios ](#table_efficiency)\n",
    "    - [[Table] Key Metrics ](#table_metrics)\n",
    "\n",
    "Outputs\n",
    "- [Exporting as a PDF file](#export_pdf)\n",
    "    - [PDF Variables](#variables_pdf)\n",
    "    - [Defining Classes ](#defining_classes_pdf)\n",
    "    - [Instantiation of Class  ](#class_instantiation_pdf)\n",
    "    - [Page 1: Company Description ](#page1_pdf)\n",
    "    - [Page 2: Financial Statements ](#page2_pdf)\n",
    "    - [Page 3: Internal Company Metrics ](#page3_pdf)\n",
    "    - [Page 4: Market Ratios ](#page4_pdf)\n",
    "    - [Page 5: Financial Statement Graphs ](#page5_pdf)\n",
    "    - [Page 6: Common Size Financial Statement Graphs](#page6_pdf)\n",
    "    - [Save output as PDF ](#save_output_pdf)"
   ]
  },
  {
   "cell_type": "markdown",
   "id": "7f7465bb-f1e1-40b1-a393-e984fc80de30",
   "metadata": {},
   "source": [
    "# Initialize"
   ]
  },
  {
   "cell_type": "markdown",
   "id": "684e12f6-b33d-481c-ac61-6a5d1127efba",
   "metadata": {
    "tags": []
   },
   "source": [
    "<a id=\"ticker\"></a>\n",
    "### Define company ticker [*](#index)"
   ]
  },
  {
   "cell_type": "code",
   "execution_count": 1,
   "id": "830e306d-be1d-47ea-bd13-443b8d714ac5",
   "metadata": {
    "tags": []
   },
   "outputs": [
    {
     "name": "stdout",
     "output_type": "stream",
     "text": [
      "\n",
      "Company report for: AAPL\n",
      "Years Analysed: 5\n"
     ]
    }
   ],
   "source": [
    "# Define company ticker\n",
    "company = \"AAPL\"\n",
    "print(\"\\nCompany report for: \"+company)\n",
    "\n",
    "# Define years to analyse company\n",
    "years = 5\n",
    "print(\"Years Analysed: \"+str(years))"
   ]
  },
  {
   "cell_type": "markdown",
   "id": "f6f7cc2a-733b-46d3-a9eb-44544ef8a9f6",
   "metadata": {},
   "source": [
    "<a id=\"imports\"></a>\n",
    "### Import python modules [*](#index)"
   ]
  },
  {
   "cell_type": "code",
   "execution_count": 2,
   "id": "2aebac69-8f59-4308-945f-a1d0df5c5eff",
   "metadata": {},
   "outputs": [
    {
     "name": "stdout",
     "output_type": "stream",
     "text": [
      "Python modules imported.\n",
      "\n",
      "Displaying Max Rows in Pandas.\n",
      "\n"
     ]
    }
   ],
   "source": [
    "# Import python modules\n",
    "import os\n",
    "import shutil\n",
    "import requests\n",
    "import pandas as pd\n",
    "import datetime as dt\n",
    "from fpdf import FPDF\n",
    "from PIL import Image\n",
    "import dataframe_image as dfi\n",
    "import plotly.graph_objects as go\n",
    "\n",
    "print(\"Python modules imported.\\n\")\n",
    "\n",
    "# Display full pandas dataframe\n",
    "pd.set_option(\"display.max_rows\", None, \"display.max_columns\", None)\n",
    "print(\"Displaying Max Rows in Pandas.\\n\")"
   ]
  },
  {
   "cell_type": "markdown",
   "id": "ffa442fa-966e-4c74-83ff-cf6775387c59",
   "metadata": {},
   "source": [
    "<a id=\"remove_previous_files\"></a>\n",
    "### Remove previous files [*](#index)\n"
   ]
  },
  {
   "cell_type": "code",
   "execution_count": 3,
   "id": "45c89c76-5f5f-4cce-8568-bc82ae01b345",
   "metadata": {},
   "outputs": [
    {
     "name": "stdout",
     "output_type": "stream",
     "text": [
      "\n",
      " All Previous files removed.\n",
      "\n"
     ]
    }
   ],
   "source": [
    "# Remove previous files\n",
    "# To make sure report does not contain images from another company\n",
    "shutil.rmtree('images/output')\n",
    "os.makedirs('images/output')\n",
    "print(\"\\n All Previous files removed.\\n\")"
   ]
  },
  {
   "cell_type": "markdown",
   "id": "65c79938-d402-4724-92da-ead7ac86742a",
   "metadata": {},
   "source": [
    "# Import Data:"
   ]
  },
  {
   "cell_type": "markdown",
   "id": "6d8de668",
   "metadata": {},
   "source": [
    "<a id=\"fmp_import\"></a>\n",
    "### Importing data from Financial Modeling Prep [*](#index)"
   ]
  },
  {
   "cell_type": "code",
   "execution_count": 4,
   "id": "66088f30",
   "metadata": {},
   "outputs": [],
   "source": [
    "# Importing data from Financial Modeling Prep\n",
    "\n",
    "# Financial Modeling Prep API Key\n",
    "api = os.environ.get(\"token_finmodelprep2\")\n",
    "\n",
    "www = 'https://financialmodelingprep.com/api/v3'\n",
    "www4 = 'https://financialmodelingprep.com/api/v4'\n",
    "is_www = '/income-statement/'\n",
    "bs_www = '/balance-sheet-statement/'\n",
    "cf_www = '/cash-flow-statement/'\n",
    "r_www = '/ratios/'\n",
    "km_www = '/key-metrics/'\n",
    "p_www = '/profile/'\n",
    "rtg_www = '/rating/'\n",
    "es_www = '/earnings-surprises/'\n",
    "# sp_www = \"/stock_peers\"\n",
    "\n",
    "# Data to Import\n",
    "IS = requests.get(f'{www}{is_www}{company}?apikey={api}').json()\n",
    "BS = requests.get(f'{www}{bs_www}{company}?apikey={api}').json()\n",
    "CF = requests.get(f'{www}{cf_www}{company}?apikey={api}').json()\n",
    "Ratios = requests.get(f'{www}{r_www}{company}?apikey={api}').json()\n",
    "Metrics = requests.get(f'{www}{km_www}{company}?apikey={api}').json()\n",
    "Profile = requests.get(f'{www}{p_www}{company}?apikey={api}').json()\n",
    "Raiting = requests.get(f'{www}{rtg_www}{company}?apikey={api}').json()\n",
    "Surprises = requests.get(f'{www}{es_www}{company}?apikey={api}').json()\n",
    "# Peers = requests.get(f'{www4}{sp_www}?symbol={company}&apikey={api}').json()\n",
    "# Stock peers is an endpoint for a paid plan so its commented out. "
   ]
  },
  {
   "cell_type": "markdown",
   "id": "5bb4c0af",
   "metadata": {},
   "source": [
    "<a id=\"fmp_to_df\"></a>\n",
    "### Transforming the downloaded data to a dataframe[*](#index)"
   ]
  },
  {
   "cell_type": "code",
   "execution_count": 5,
   "id": "1e0d1659",
   "metadata": {},
   "outputs": [
    {
     "name": "stdout",
     "output_type": "stream",
     "text": [
      "Done importing FMP to pandas.\n",
      "\n"
     ]
    }
   ],
   "source": [
    "# Exploring the downloaded information:\n",
    "is_df = pd.DataFrame(IS)\n",
    "bs_df = pd.DataFrame(BS)\n",
    "cf_df = pd.DataFrame(CF)\n",
    "ratios_df = pd.DataFrame(Ratios)\n",
    "metrics_df = pd.DataFrame(Metrics)\n",
    "profile_df = pd.DataFrame(Profile)\n",
    "raiting_df = pd.DataFrame(Raiting)\n",
    "surprises_df = pd.DataFrame(Surprises)\n",
    "# stock_peers_df = pd.DataFrame(Peers)\n",
    "\n",
    "print(\"Done importing FMP to pandas.\\n\")\n",
    "\n",
    "# Uncomment to explore dataframe:\n",
    "# is_df.head(10)\n",
    "# bs_df.head()\n",
    "# cf_df.head()\n",
    "# ratios_df.head(10)\n",
    "# metrics_df.head()\n",
    "# profile_df.head()\n",
    "# raiting_df.head()\n",
    "# surprises_df.head()\n",
    "# symbol_df.head()\n",
    "# stock_peers_df.head()"
   ]
  },
  {
   "cell_type": "markdown",
   "id": "8fc696cc-a416-4647-bd1b-83da91627a7e",
   "metadata": {},
   "source": [
    "<a id=\"filter_df2\"></a>\n",
    "### Filter dataframe for selected period and sort descending[*](#index)"
   ]
  },
  {
   "cell_type": "code",
   "execution_count": 6,
   "id": "41528a70-5d1f-4fad-b1f5-9af3af96944d",
   "metadata": {},
   "outputs": [
    {
     "name": "stdout",
     "output_type": "stream",
     "text": [
      "Done sorting the dates in descending order.\n",
      "\n"
     ]
    }
   ],
   "source": [
    "# Sort the data years in descending order (2020 -> 2021 -> 2022)\n",
    "bs_df.sort_index(ascending=False, inplace=True)\n",
    "is_df.sort_index(ascending=False, inplace=True)\n",
    "cf_df.sort_index(ascending=False, inplace=True)\n",
    "\n",
    "print(\"Done sorting the dates in descending order.\\n\")"
   ]
  },
  {
   "cell_type": "code",
   "execution_count": 7,
   "id": "3cad5715",
   "metadata": {},
   "outputs": [
    {
     "name": "stdout",
     "output_type": "stream",
     "text": [
      "Done filtering dataframes for 5 years.\n",
      "\n"
     ]
    }
   ],
   "source": [
    "# Filter databases for the selected number of years\n",
    "# Useful for paid plan\n",
    "bs_df = bs_df.iloc[-years:]\n",
    "is_df = is_df.iloc[-years:]\n",
    "cf_df = cf_df.iloc[-years:]\n",
    "\n",
    "print(\"Done filtering dataframes for\", years, \"years.\\n\")"
   ]
  },
  {
   "cell_type": "markdown",
   "id": "6bba9faa-1fff-45f7-9626-6ebb8a39307e",
   "metadata": {},
   "source": [
    "<a id=\"get_company_currency\"></a>\n",
    "### Get company currency[*](#index)"
   ]
  },
  {
   "cell_type": "code",
   "execution_count": 8,
   "id": "37aca5fa-bf2e-4baf-95b3-bb72778f7917",
   "metadata": {},
   "outputs": [
    {
     "name": "stdout",
     "output_type": "stream",
     "text": [
      "The currency for company AAPL is: USD\n"
     ]
    }
   ],
   "source": [
    "# Get company Currency\n",
    "currency = bs_df.iloc[0][\"reportedCurrency\"]\n",
    "print(\"The currency for company \"+company+\" is: \"+currency)"
   ]
  },
  {
   "cell_type": "markdown",
   "id": "2241c1c5-13b6-4d9e-bd64-c8265ad7364c",
   "metadata": {},
   "source": [
    "<a id=\"download_company_image\"></a>\n",
    "### Download company image[*](#index)"
   ]
  },
  {
   "cell_type": "code",
   "execution_count": 9,
   "id": "49a82db0-5d93-4370-83e4-be6fc5d0ff58",
   "metadata": {},
   "outputs": [
    {
     "name": "stdout",
     "output_type": "stream",
     "text": [
      "Company Logo downloaded\n",
      "\n"
     ]
    }
   ],
   "source": [
    "# Download the company image\n",
    "try:\n",
    "    imageurl = profile_df.iloc[0]['image']\n",
    "    r = requests.get(imageurl)\n",
    "    with open(\"images/output/company_logo.png\", \"wb\") as f:\n",
    "        f.write(r.content)\n",
    "    print(\"Company Logo downloaded\\n\")\n",
    "except Exception:\n",
    "    print(\"Could not download company logo\")\n",
    "    pass"
   ]
  },
  {
   "cell_type": "markdown",
   "id": "aa0e4aba-44a3-4d2f-8d9d-a2a9b96ee315",
   "metadata": {},
   "source": [
    "# Process Data"
   ]
  },
  {
   "cell_type": "markdown",
   "id": "cae24c62-87b2-41ae-a4ac-2602e5877f31",
   "metadata": {},
   "source": [
    "<a id=\"graph_df\"></a>\n",
    "### Create graphs [*](#index)"
   ]
  },
  {
   "cell_type": "markdown",
   "id": "ae84b54e-9b79-4c92-8727-fdc6e6f51438",
   "metadata": {},
   "source": [
    "<a id=\"bs_graph\"></a>\n",
    "### [Graph] Balance Sheet: Nominal and Common size [*](#index)"
   ]
  },
  {
   "cell_type": "code",
   "execution_count": 10,
   "id": "faa57a36-cd16-49fd-afb6-21eae20c0585",
   "metadata": {
    "tags": []
   },
   "outputs": [
    {
     "name": "stdout",
     "output_type": "stream",
     "text": [
      "Balance sheet graph created.\n",
      "\n"
     ]
    },
    {
     "data": {
      "application/vnd.plotly.v1+json": {
       "config": {
        "plotlyServerURL": "https://plot.ly"
       },
       "data": [
        {
         "marker": {
          "color": "#003B73"
         },
         "name": "Assets",
         "offsetgroup": "0",
         "textposition": "inside",
         "texttemplate": "%{y:.2s}",
         "type": "bar",
         "x": [
          "2017",
          "2018",
          "2019",
          "2020",
          "2021"
         ],
         "y": [
          375319000000,
          365725000000,
          338516000000,
          323888000000,
          351002000000
         ]
        },
        {
         "marker": {
          "color": "#01949a"
         },
         "name": "Equity",
         "offsetgroup": "1",
         "textposition": "inside",
         "texttemplate": "%{y:.2s}",
         "type": "bar",
         "x": [
          "2017",
          "2018",
          "2019",
          "2020",
          "2021"
         ],
         "y": [
          134047000000,
          107147000000,
          90488000000,
          65339000000,
          63090000000
         ]
        },
        {
         "base": [
          134047000000,
          107147000000,
          90488000000,
          65339000000,
          63090000000
         ],
         "marker": {
          "color": "#db1f48"
         },
         "name": "Liabilities",
         "offsetgroup": "1",
         "textposition": "inside",
         "texttemplate": "%{y:.2s}",
         "type": "bar",
         "x": [
          "2017",
          "2018",
          "2019",
          "2020",
          "2021"
         ],
         "y": [
          241272000000,
          258578000000,
          248028000000,
          258549000000,
          287912000000
         ]
        },
        {
         "marker": {
          "color": "#746C70"
         },
         "name": "GW & Intangibles",
         "offsetgroup": "2",
         "textposition": "inside",
         "texttemplate": "%{y:.2s}",
         "type": "bar",
         "x": [
          "2017",
          "2018",
          "2019",
          "2020",
          "2021"
         ],
         "y": [
          8015000000,
          0,
          0,
          0,
          0
         ]
        }
       ],
       "layout": {
        "barmode": "group",
        "height": 400,
        "legend": {
         "orientation": "h",
         "x": 1,
         "xanchor": "right",
         "y": 1,
         "yanchor": "bottom"
        },
        "template": {
         "data": {
          "bar": [
           {
            "error_x": {
             "color": "#2a3f5f"
            },
            "error_y": {
             "color": "#2a3f5f"
            },
            "marker": {
             "line": {
              "color": "#E5ECF6",
              "width": 0.5
             },
             "pattern": {
              "fillmode": "overlay",
              "size": 10,
              "solidity": 0.2
             }
            },
            "type": "bar"
           }
          ],
          "barpolar": [
           {
            "marker": {
             "line": {
              "color": "#E5ECF6",
              "width": 0.5
             },
             "pattern": {
              "fillmode": "overlay",
              "size": 10,
              "solidity": 0.2
             }
            },
            "type": "barpolar"
           }
          ],
          "carpet": [
           {
            "aaxis": {
             "endlinecolor": "#2a3f5f",
             "gridcolor": "white",
             "linecolor": "white",
             "minorgridcolor": "white",
             "startlinecolor": "#2a3f5f"
            },
            "baxis": {
             "endlinecolor": "#2a3f5f",
             "gridcolor": "white",
             "linecolor": "white",
             "minorgridcolor": "white",
             "startlinecolor": "#2a3f5f"
            },
            "type": "carpet"
           }
          ],
          "choropleth": [
           {
            "colorbar": {
             "outlinewidth": 0,
             "ticks": ""
            },
            "type": "choropleth"
           }
          ],
          "contour": [
           {
            "colorbar": {
             "outlinewidth": 0,
             "ticks": ""
            },
            "colorscale": [
             [
              0,
              "#0d0887"
             ],
             [
              0.1111111111111111,
              "#46039f"
             ],
             [
              0.2222222222222222,
              "#7201a8"
             ],
             [
              0.3333333333333333,
              "#9c179e"
             ],
             [
              0.4444444444444444,
              "#bd3786"
             ],
             [
              0.5555555555555556,
              "#d8576b"
             ],
             [
              0.6666666666666666,
              "#ed7953"
             ],
             [
              0.7777777777777778,
              "#fb9f3a"
             ],
             [
              0.8888888888888888,
              "#fdca26"
             ],
             [
              1,
              "#f0f921"
             ]
            ],
            "type": "contour"
           }
          ],
          "contourcarpet": [
           {
            "colorbar": {
             "outlinewidth": 0,
             "ticks": ""
            },
            "type": "contourcarpet"
           }
          ],
          "heatmap": [
           {
            "colorbar": {
             "outlinewidth": 0,
             "ticks": ""
            },
            "colorscale": [
             [
              0,
              "#0d0887"
             ],
             [
              0.1111111111111111,
              "#46039f"
             ],
             [
              0.2222222222222222,
              "#7201a8"
             ],
             [
              0.3333333333333333,
              "#9c179e"
             ],
             [
              0.4444444444444444,
              "#bd3786"
             ],
             [
              0.5555555555555556,
              "#d8576b"
             ],
             [
              0.6666666666666666,
              "#ed7953"
             ],
             [
              0.7777777777777778,
              "#fb9f3a"
             ],
             [
              0.8888888888888888,
              "#fdca26"
             ],
             [
              1,
              "#f0f921"
             ]
            ],
            "type": "heatmap"
           }
          ],
          "heatmapgl": [
           {
            "colorbar": {
             "outlinewidth": 0,
             "ticks": ""
            },
            "colorscale": [
             [
              0,
              "#0d0887"
             ],
             [
              0.1111111111111111,
              "#46039f"
             ],
             [
              0.2222222222222222,
              "#7201a8"
             ],
             [
              0.3333333333333333,
              "#9c179e"
             ],
             [
              0.4444444444444444,
              "#bd3786"
             ],
             [
              0.5555555555555556,
              "#d8576b"
             ],
             [
              0.6666666666666666,
              "#ed7953"
             ],
             [
              0.7777777777777778,
              "#fb9f3a"
             ],
             [
              0.8888888888888888,
              "#fdca26"
             ],
             [
              1,
              "#f0f921"
             ]
            ],
            "type": "heatmapgl"
           }
          ],
          "histogram": [
           {
            "marker": {
             "pattern": {
              "fillmode": "overlay",
              "size": 10,
              "solidity": 0.2
             }
            },
            "type": "histogram"
           }
          ],
          "histogram2d": [
           {
            "colorbar": {
             "outlinewidth": 0,
             "ticks": ""
            },
            "colorscale": [
             [
              0,
              "#0d0887"
             ],
             [
              0.1111111111111111,
              "#46039f"
             ],
             [
              0.2222222222222222,
              "#7201a8"
             ],
             [
              0.3333333333333333,
              "#9c179e"
             ],
             [
              0.4444444444444444,
              "#bd3786"
             ],
             [
              0.5555555555555556,
              "#d8576b"
             ],
             [
              0.6666666666666666,
              "#ed7953"
             ],
             [
              0.7777777777777778,
              "#fb9f3a"
             ],
             [
              0.8888888888888888,
              "#fdca26"
             ],
             [
              1,
              "#f0f921"
             ]
            ],
            "type": "histogram2d"
           }
          ],
          "histogram2dcontour": [
           {
            "colorbar": {
             "outlinewidth": 0,
             "ticks": ""
            },
            "colorscale": [
             [
              0,
              "#0d0887"
             ],
             [
              0.1111111111111111,
              "#46039f"
             ],
             [
              0.2222222222222222,
              "#7201a8"
             ],
             [
              0.3333333333333333,
              "#9c179e"
             ],
             [
              0.4444444444444444,
              "#bd3786"
             ],
             [
              0.5555555555555556,
              "#d8576b"
             ],
             [
              0.6666666666666666,
              "#ed7953"
             ],
             [
              0.7777777777777778,
              "#fb9f3a"
             ],
             [
              0.8888888888888888,
              "#fdca26"
             ],
             [
              1,
              "#f0f921"
             ]
            ],
            "type": "histogram2dcontour"
           }
          ],
          "mesh3d": [
           {
            "colorbar": {
             "outlinewidth": 0,
             "ticks": ""
            },
            "type": "mesh3d"
           }
          ],
          "parcoords": [
           {
            "line": {
             "colorbar": {
              "outlinewidth": 0,
              "ticks": ""
             }
            },
            "type": "parcoords"
           }
          ],
          "pie": [
           {
            "automargin": true,
            "type": "pie"
           }
          ],
          "scatter": [
           {
            "fillpattern": {
             "fillmode": "overlay",
             "size": 10,
             "solidity": 0.2
            },
            "type": "scatter"
           }
          ],
          "scatter3d": [
           {
            "line": {
             "colorbar": {
              "outlinewidth": 0,
              "ticks": ""
             }
            },
            "marker": {
             "colorbar": {
              "outlinewidth": 0,
              "ticks": ""
             }
            },
            "type": "scatter3d"
           }
          ],
          "scattercarpet": [
           {
            "marker": {
             "colorbar": {
              "outlinewidth": 0,
              "ticks": ""
             }
            },
            "type": "scattercarpet"
           }
          ],
          "scattergeo": [
           {
            "marker": {
             "colorbar": {
              "outlinewidth": 0,
              "ticks": ""
             }
            },
            "type": "scattergeo"
           }
          ],
          "scattergl": [
           {
            "marker": {
             "colorbar": {
              "outlinewidth": 0,
              "ticks": ""
             }
            },
            "type": "scattergl"
           }
          ],
          "scattermapbox": [
           {
            "marker": {
             "colorbar": {
              "outlinewidth": 0,
              "ticks": ""
             }
            },
            "type": "scattermapbox"
           }
          ],
          "scatterpolar": [
           {
            "marker": {
             "colorbar": {
              "outlinewidth": 0,
              "ticks": ""
             }
            },
            "type": "scatterpolar"
           }
          ],
          "scatterpolargl": [
           {
            "marker": {
             "colorbar": {
              "outlinewidth": 0,
              "ticks": ""
             }
            },
            "type": "scatterpolargl"
           }
          ],
          "scatterternary": [
           {
            "marker": {
             "colorbar": {
              "outlinewidth": 0,
              "ticks": ""
             }
            },
            "type": "scatterternary"
           }
          ],
          "surface": [
           {
            "colorbar": {
             "outlinewidth": 0,
             "ticks": ""
            },
            "colorscale": [
             [
              0,
              "#0d0887"
             ],
             [
              0.1111111111111111,
              "#46039f"
             ],
             [
              0.2222222222222222,
              "#7201a8"
             ],
             [
              0.3333333333333333,
              "#9c179e"
             ],
             [
              0.4444444444444444,
              "#bd3786"
             ],
             [
              0.5555555555555556,
              "#d8576b"
             ],
             [
              0.6666666666666666,
              "#ed7953"
             ],
             [
              0.7777777777777778,
              "#fb9f3a"
             ],
             [
              0.8888888888888888,
              "#fdca26"
             ],
             [
              1,
              "#f0f921"
             ]
            ],
            "type": "surface"
           }
          ],
          "table": [
           {
            "cells": {
             "fill": {
              "color": "#EBF0F8"
             },
             "line": {
              "color": "white"
             }
            },
            "header": {
             "fill": {
              "color": "#C8D4E3"
             },
             "line": {
              "color": "white"
             }
            },
            "type": "table"
           }
          ]
         },
         "layout": {
          "annotationdefaults": {
           "arrowcolor": "#2a3f5f",
           "arrowhead": 0,
           "arrowwidth": 1
          },
          "autotypenumbers": "strict",
          "coloraxis": {
           "colorbar": {
            "outlinewidth": 0,
            "ticks": ""
           }
          },
          "colorscale": {
           "diverging": [
            [
             0,
             "#8e0152"
            ],
            [
             0.1,
             "#c51b7d"
            ],
            [
             0.2,
             "#de77ae"
            ],
            [
             0.3,
             "#f1b6da"
            ],
            [
             0.4,
             "#fde0ef"
            ],
            [
             0.5,
             "#f7f7f7"
            ],
            [
             0.6,
             "#e6f5d0"
            ],
            [
             0.7,
             "#b8e186"
            ],
            [
             0.8,
             "#7fbc41"
            ],
            [
             0.9,
             "#4d9221"
            ],
            [
             1,
             "#276419"
            ]
           ],
           "sequential": [
            [
             0,
             "#0d0887"
            ],
            [
             0.1111111111111111,
             "#46039f"
            ],
            [
             0.2222222222222222,
             "#7201a8"
            ],
            [
             0.3333333333333333,
             "#9c179e"
            ],
            [
             0.4444444444444444,
             "#bd3786"
            ],
            [
             0.5555555555555556,
             "#d8576b"
            ],
            [
             0.6666666666666666,
             "#ed7953"
            ],
            [
             0.7777777777777778,
             "#fb9f3a"
            ],
            [
             0.8888888888888888,
             "#fdca26"
            ],
            [
             1,
             "#f0f921"
            ]
           ],
           "sequentialminus": [
            [
             0,
             "#0d0887"
            ],
            [
             0.1111111111111111,
             "#46039f"
            ],
            [
             0.2222222222222222,
             "#7201a8"
            ],
            [
             0.3333333333333333,
             "#9c179e"
            ],
            [
             0.4444444444444444,
             "#bd3786"
            ],
            [
             0.5555555555555556,
             "#d8576b"
            ],
            [
             0.6666666666666666,
             "#ed7953"
            ],
            [
             0.7777777777777778,
             "#fb9f3a"
            ],
            [
             0.8888888888888888,
             "#fdca26"
            ],
            [
             1,
             "#f0f921"
            ]
           ]
          },
          "colorway": [
           "#636efa",
           "#EF553B",
           "#00cc96",
           "#ab63fa",
           "#FFA15A",
           "#19d3f3",
           "#FF6692",
           "#B6E880",
           "#FF97FF",
           "#FECB52"
          ],
          "font": {
           "color": "#2a3f5f"
          },
          "geo": {
           "bgcolor": "white",
           "lakecolor": "white",
           "landcolor": "#E5ECF6",
           "showlakes": true,
           "showland": true,
           "subunitcolor": "white"
          },
          "hoverlabel": {
           "align": "left"
          },
          "hovermode": "closest",
          "mapbox": {
           "style": "light"
          },
          "paper_bgcolor": "white",
          "plot_bgcolor": "#E5ECF6",
          "polar": {
           "angularaxis": {
            "gridcolor": "white",
            "linecolor": "white",
            "ticks": ""
           },
           "bgcolor": "#E5ECF6",
           "radialaxis": {
            "gridcolor": "white",
            "linecolor": "white",
            "ticks": ""
           }
          },
          "scene": {
           "xaxis": {
            "backgroundcolor": "#E5ECF6",
            "gridcolor": "white",
            "gridwidth": 2,
            "linecolor": "white",
            "showbackground": true,
            "ticks": "",
            "zerolinecolor": "white"
           },
           "yaxis": {
            "backgroundcolor": "#E5ECF6",
            "gridcolor": "white",
            "gridwidth": 2,
            "linecolor": "white",
            "showbackground": true,
            "ticks": "",
            "zerolinecolor": "white"
           },
           "zaxis": {
            "backgroundcolor": "#E5ECF6",
            "gridcolor": "white",
            "gridwidth": 2,
            "linecolor": "white",
            "showbackground": true,
            "ticks": "",
            "zerolinecolor": "white"
           }
          },
          "shapedefaults": {
           "line": {
            "color": "#2a3f5f"
           }
          },
          "ternary": {
           "aaxis": {
            "gridcolor": "white",
            "linecolor": "white",
            "ticks": ""
           },
           "baxis": {
            "gridcolor": "white",
            "linecolor": "white",
            "ticks": ""
           },
           "bgcolor": "#E5ECF6",
           "caxis": {
            "gridcolor": "white",
            "linecolor": "white",
            "ticks": ""
           }
          },
          "title": {
           "x": 0.05
          },
          "xaxis": {
           "automargin": true,
           "gridcolor": "white",
           "linecolor": "white",
           "ticks": "",
           "title": {
            "standoff": 15
           },
           "zerolinecolor": "white",
           "zerolinewidth": 2
          },
          "yaxis": {
           "automargin": true,
           "gridcolor": "white",
           "linecolor": "white",
           "ticks": "",
           "title": {
            "standoff": 15
           },
           "zerolinecolor": "white",
           "zerolinewidth": 2
          }
         }
        },
        "title": {
         "text": "Balance Sheet for: AAPL"
        },
        "width": 800,
        "xaxis": {
         "title": {
          "text": "Year"
         }
        },
        "yaxis": {
         "title": {
          "text": "Amount $ USD"
         }
        }
       }
      }
     },
     "metadata": {},
     "output_type": "display_data"
    },
    {
     "name": "stdout",
     "output_type": "stream",
     "text": [
      "Common size balance sheet graph created.\n",
      "\n"
     ]
    },
    {
     "data": {
      "application/vnd.plotly.v1+json": {
       "config": {
        "plotlyServerURL": "https://plot.ly"
       },
       "data": [
        {
         "marker": {
          "color": "#003B73"
         },
         "name": "Assets",
         "offsetgroup": "0",
         "textposition": "inside",
         "texttemplate": "%{y:.2s}",
         "type": "bar",
         "x": [
          "2017",
          "2018",
          "2019",
          "2020",
          "2021"
         ],
         "y": [
          100,
          100,
          100,
          100,
          100
         ]
        },
        {
         "marker": {
          "color": "#01949a"
         },
         "name": "Equity",
         "offsetgroup": "1",
         "textposition": "inside",
         "texttemplate": "%{y:.2s}",
         "type": "bar",
         "x": [
          "2017",
          "2018",
          "2019",
          "2020",
          "2021"
         ],
         "y": [
          35.715484694353336,
          29.297149497573315,
          26.730789682023893,
          20.173331522007608,
          17.974256556942695
         ]
        },
        {
         "base": [
          35.715484694353336,
          29.297149497573315,
          26.730789682023893,
          20.173331522007608,
          17.974256556942695
         ],
         "marker": {
          "color": "#db1f48"
         },
         "name": "Liabilities",
         "offsetgroup": "1",
         "textposition": "inside",
         "texttemplate": "%{y:.2s}",
         "type": "bar",
         "x": [
          "2017",
          "2018",
          "2019",
          "2020",
          "2021"
         ],
         "y": [
          64.28451530564666,
          70.70285050242668,
          73.2692103179761,
          79.82666847799238,
          82.02574344305731
         ]
        },
        {
         "marker": {
          "color": "#746C70"
         },
         "name": "GW & Intangibles",
         "offsetgroup": "2",
         "textposition": "inside",
         "texttemplate": "%{y:.2s}",
         "type": "bar",
         "x": [
          "2017",
          "2018",
          "2019",
          "2020",
          "2021"
         ],
         "y": [
          2.1355167204431433,
          0,
          0,
          0,
          0
         ]
        }
       ],
       "layout": {
        "barmode": "group",
        "height": 400,
        "legend": {
         "orientation": "h",
         "x": 1,
         "xanchor": "right",
         "y": 1,
         "yanchor": "bottom"
        },
        "template": {
         "data": {
          "bar": [
           {
            "error_x": {
             "color": "#2a3f5f"
            },
            "error_y": {
             "color": "#2a3f5f"
            },
            "marker": {
             "line": {
              "color": "#E5ECF6",
              "width": 0.5
             },
             "pattern": {
              "fillmode": "overlay",
              "size": 10,
              "solidity": 0.2
             }
            },
            "type": "bar"
           }
          ],
          "barpolar": [
           {
            "marker": {
             "line": {
              "color": "#E5ECF6",
              "width": 0.5
             },
             "pattern": {
              "fillmode": "overlay",
              "size": 10,
              "solidity": 0.2
             }
            },
            "type": "barpolar"
           }
          ],
          "carpet": [
           {
            "aaxis": {
             "endlinecolor": "#2a3f5f",
             "gridcolor": "white",
             "linecolor": "white",
             "minorgridcolor": "white",
             "startlinecolor": "#2a3f5f"
            },
            "baxis": {
             "endlinecolor": "#2a3f5f",
             "gridcolor": "white",
             "linecolor": "white",
             "minorgridcolor": "white",
             "startlinecolor": "#2a3f5f"
            },
            "type": "carpet"
           }
          ],
          "choropleth": [
           {
            "colorbar": {
             "outlinewidth": 0,
             "ticks": ""
            },
            "type": "choropleth"
           }
          ],
          "contour": [
           {
            "colorbar": {
             "outlinewidth": 0,
             "ticks": ""
            },
            "colorscale": [
             [
              0,
              "#0d0887"
             ],
             [
              0.1111111111111111,
              "#46039f"
             ],
             [
              0.2222222222222222,
              "#7201a8"
             ],
             [
              0.3333333333333333,
              "#9c179e"
             ],
             [
              0.4444444444444444,
              "#bd3786"
             ],
             [
              0.5555555555555556,
              "#d8576b"
             ],
             [
              0.6666666666666666,
              "#ed7953"
             ],
             [
              0.7777777777777778,
              "#fb9f3a"
             ],
             [
              0.8888888888888888,
              "#fdca26"
             ],
             [
              1,
              "#f0f921"
             ]
            ],
            "type": "contour"
           }
          ],
          "contourcarpet": [
           {
            "colorbar": {
             "outlinewidth": 0,
             "ticks": ""
            },
            "type": "contourcarpet"
           }
          ],
          "heatmap": [
           {
            "colorbar": {
             "outlinewidth": 0,
             "ticks": ""
            },
            "colorscale": [
             [
              0,
              "#0d0887"
             ],
             [
              0.1111111111111111,
              "#46039f"
             ],
             [
              0.2222222222222222,
              "#7201a8"
             ],
             [
              0.3333333333333333,
              "#9c179e"
             ],
             [
              0.4444444444444444,
              "#bd3786"
             ],
             [
              0.5555555555555556,
              "#d8576b"
             ],
             [
              0.6666666666666666,
              "#ed7953"
             ],
             [
              0.7777777777777778,
              "#fb9f3a"
             ],
             [
              0.8888888888888888,
              "#fdca26"
             ],
             [
              1,
              "#f0f921"
             ]
            ],
            "type": "heatmap"
           }
          ],
          "heatmapgl": [
           {
            "colorbar": {
             "outlinewidth": 0,
             "ticks": ""
            },
            "colorscale": [
             [
              0,
              "#0d0887"
             ],
             [
              0.1111111111111111,
              "#46039f"
             ],
             [
              0.2222222222222222,
              "#7201a8"
             ],
             [
              0.3333333333333333,
              "#9c179e"
             ],
             [
              0.4444444444444444,
              "#bd3786"
             ],
             [
              0.5555555555555556,
              "#d8576b"
             ],
             [
              0.6666666666666666,
              "#ed7953"
             ],
             [
              0.7777777777777778,
              "#fb9f3a"
             ],
             [
              0.8888888888888888,
              "#fdca26"
             ],
             [
              1,
              "#f0f921"
             ]
            ],
            "type": "heatmapgl"
           }
          ],
          "histogram": [
           {
            "marker": {
             "pattern": {
              "fillmode": "overlay",
              "size": 10,
              "solidity": 0.2
             }
            },
            "type": "histogram"
           }
          ],
          "histogram2d": [
           {
            "colorbar": {
             "outlinewidth": 0,
             "ticks": ""
            },
            "colorscale": [
             [
              0,
              "#0d0887"
             ],
             [
              0.1111111111111111,
              "#46039f"
             ],
             [
              0.2222222222222222,
              "#7201a8"
             ],
             [
              0.3333333333333333,
              "#9c179e"
             ],
             [
              0.4444444444444444,
              "#bd3786"
             ],
             [
              0.5555555555555556,
              "#d8576b"
             ],
             [
              0.6666666666666666,
              "#ed7953"
             ],
             [
              0.7777777777777778,
              "#fb9f3a"
             ],
             [
              0.8888888888888888,
              "#fdca26"
             ],
             [
              1,
              "#f0f921"
             ]
            ],
            "type": "histogram2d"
           }
          ],
          "histogram2dcontour": [
           {
            "colorbar": {
             "outlinewidth": 0,
             "ticks": ""
            },
            "colorscale": [
             [
              0,
              "#0d0887"
             ],
             [
              0.1111111111111111,
              "#46039f"
             ],
             [
              0.2222222222222222,
              "#7201a8"
             ],
             [
              0.3333333333333333,
              "#9c179e"
             ],
             [
              0.4444444444444444,
              "#bd3786"
             ],
             [
              0.5555555555555556,
              "#d8576b"
             ],
             [
              0.6666666666666666,
              "#ed7953"
             ],
             [
              0.7777777777777778,
              "#fb9f3a"
             ],
             [
              0.8888888888888888,
              "#fdca26"
             ],
             [
              1,
              "#f0f921"
             ]
            ],
            "type": "histogram2dcontour"
           }
          ],
          "mesh3d": [
           {
            "colorbar": {
             "outlinewidth": 0,
             "ticks": ""
            },
            "type": "mesh3d"
           }
          ],
          "parcoords": [
           {
            "line": {
             "colorbar": {
              "outlinewidth": 0,
              "ticks": ""
             }
            },
            "type": "parcoords"
           }
          ],
          "pie": [
           {
            "automargin": true,
            "type": "pie"
           }
          ],
          "scatter": [
           {
            "fillpattern": {
             "fillmode": "overlay",
             "size": 10,
             "solidity": 0.2
            },
            "type": "scatter"
           }
          ],
          "scatter3d": [
           {
            "line": {
             "colorbar": {
              "outlinewidth": 0,
              "ticks": ""
             }
            },
            "marker": {
             "colorbar": {
              "outlinewidth": 0,
              "ticks": ""
             }
            },
            "type": "scatter3d"
           }
          ],
          "scattercarpet": [
           {
            "marker": {
             "colorbar": {
              "outlinewidth": 0,
              "ticks": ""
             }
            },
            "type": "scattercarpet"
           }
          ],
          "scattergeo": [
           {
            "marker": {
             "colorbar": {
              "outlinewidth": 0,
              "ticks": ""
             }
            },
            "type": "scattergeo"
           }
          ],
          "scattergl": [
           {
            "marker": {
             "colorbar": {
              "outlinewidth": 0,
              "ticks": ""
             }
            },
            "type": "scattergl"
           }
          ],
          "scattermapbox": [
           {
            "marker": {
             "colorbar": {
              "outlinewidth": 0,
              "ticks": ""
             }
            },
            "type": "scattermapbox"
           }
          ],
          "scatterpolar": [
           {
            "marker": {
             "colorbar": {
              "outlinewidth": 0,
              "ticks": ""
             }
            },
            "type": "scatterpolar"
           }
          ],
          "scatterpolargl": [
           {
            "marker": {
             "colorbar": {
              "outlinewidth": 0,
              "ticks": ""
             }
            },
            "type": "scatterpolargl"
           }
          ],
          "scatterternary": [
           {
            "marker": {
             "colorbar": {
              "outlinewidth": 0,
              "ticks": ""
             }
            },
            "type": "scatterternary"
           }
          ],
          "surface": [
           {
            "colorbar": {
             "outlinewidth": 0,
             "ticks": ""
            },
            "colorscale": [
             [
              0,
              "#0d0887"
             ],
             [
              0.1111111111111111,
              "#46039f"
             ],
             [
              0.2222222222222222,
              "#7201a8"
             ],
             [
              0.3333333333333333,
              "#9c179e"
             ],
             [
              0.4444444444444444,
              "#bd3786"
             ],
             [
              0.5555555555555556,
              "#d8576b"
             ],
             [
              0.6666666666666666,
              "#ed7953"
             ],
             [
              0.7777777777777778,
              "#fb9f3a"
             ],
             [
              0.8888888888888888,
              "#fdca26"
             ],
             [
              1,
              "#f0f921"
             ]
            ],
            "type": "surface"
           }
          ],
          "table": [
           {
            "cells": {
             "fill": {
              "color": "#EBF0F8"
             },
             "line": {
              "color": "white"
             }
            },
            "header": {
             "fill": {
              "color": "#C8D4E3"
             },
             "line": {
              "color": "white"
             }
            },
            "type": "table"
           }
          ]
         },
         "layout": {
          "annotationdefaults": {
           "arrowcolor": "#2a3f5f",
           "arrowhead": 0,
           "arrowwidth": 1
          },
          "autotypenumbers": "strict",
          "coloraxis": {
           "colorbar": {
            "outlinewidth": 0,
            "ticks": ""
           }
          },
          "colorscale": {
           "diverging": [
            [
             0,
             "#8e0152"
            ],
            [
             0.1,
             "#c51b7d"
            ],
            [
             0.2,
             "#de77ae"
            ],
            [
             0.3,
             "#f1b6da"
            ],
            [
             0.4,
             "#fde0ef"
            ],
            [
             0.5,
             "#f7f7f7"
            ],
            [
             0.6,
             "#e6f5d0"
            ],
            [
             0.7,
             "#b8e186"
            ],
            [
             0.8,
             "#7fbc41"
            ],
            [
             0.9,
             "#4d9221"
            ],
            [
             1,
             "#276419"
            ]
           ],
           "sequential": [
            [
             0,
             "#0d0887"
            ],
            [
             0.1111111111111111,
             "#46039f"
            ],
            [
             0.2222222222222222,
             "#7201a8"
            ],
            [
             0.3333333333333333,
             "#9c179e"
            ],
            [
             0.4444444444444444,
             "#bd3786"
            ],
            [
             0.5555555555555556,
             "#d8576b"
            ],
            [
             0.6666666666666666,
             "#ed7953"
            ],
            [
             0.7777777777777778,
             "#fb9f3a"
            ],
            [
             0.8888888888888888,
             "#fdca26"
            ],
            [
             1,
             "#f0f921"
            ]
           ],
           "sequentialminus": [
            [
             0,
             "#0d0887"
            ],
            [
             0.1111111111111111,
             "#46039f"
            ],
            [
             0.2222222222222222,
             "#7201a8"
            ],
            [
             0.3333333333333333,
             "#9c179e"
            ],
            [
             0.4444444444444444,
             "#bd3786"
            ],
            [
             0.5555555555555556,
             "#d8576b"
            ],
            [
             0.6666666666666666,
             "#ed7953"
            ],
            [
             0.7777777777777778,
             "#fb9f3a"
            ],
            [
             0.8888888888888888,
             "#fdca26"
            ],
            [
             1,
             "#f0f921"
            ]
           ]
          },
          "colorway": [
           "#636efa",
           "#EF553B",
           "#00cc96",
           "#ab63fa",
           "#FFA15A",
           "#19d3f3",
           "#FF6692",
           "#B6E880",
           "#FF97FF",
           "#FECB52"
          ],
          "font": {
           "color": "#2a3f5f"
          },
          "geo": {
           "bgcolor": "white",
           "lakecolor": "white",
           "landcolor": "#E5ECF6",
           "showlakes": true,
           "showland": true,
           "subunitcolor": "white"
          },
          "hoverlabel": {
           "align": "left"
          },
          "hovermode": "closest",
          "mapbox": {
           "style": "light"
          },
          "paper_bgcolor": "white",
          "plot_bgcolor": "#E5ECF6",
          "polar": {
           "angularaxis": {
            "gridcolor": "white",
            "linecolor": "white",
            "ticks": ""
           },
           "bgcolor": "#E5ECF6",
           "radialaxis": {
            "gridcolor": "white",
            "linecolor": "white",
            "ticks": ""
           }
          },
          "scene": {
           "xaxis": {
            "backgroundcolor": "#E5ECF6",
            "gridcolor": "white",
            "gridwidth": 2,
            "linecolor": "white",
            "showbackground": true,
            "ticks": "",
            "zerolinecolor": "white"
           },
           "yaxis": {
            "backgroundcolor": "#E5ECF6",
            "gridcolor": "white",
            "gridwidth": 2,
            "linecolor": "white",
            "showbackground": true,
            "ticks": "",
            "zerolinecolor": "white"
           },
           "zaxis": {
            "backgroundcolor": "#E5ECF6",
            "gridcolor": "white",
            "gridwidth": 2,
            "linecolor": "white",
            "showbackground": true,
            "ticks": "",
            "zerolinecolor": "white"
           }
          },
          "shapedefaults": {
           "line": {
            "color": "#2a3f5f"
           }
          },
          "ternary": {
           "aaxis": {
            "gridcolor": "white",
            "linecolor": "white",
            "ticks": ""
           },
           "baxis": {
            "gridcolor": "white",
            "linecolor": "white",
            "ticks": ""
           },
           "bgcolor": "#E5ECF6",
           "caxis": {
            "gridcolor": "white",
            "linecolor": "white",
            "ticks": ""
           }
          },
          "title": {
           "x": 0.05
          },
          "xaxis": {
           "automargin": true,
           "gridcolor": "white",
           "linecolor": "white",
           "ticks": "",
           "title": {
            "standoff": 15
           },
           "zerolinecolor": "white",
           "zerolinewidth": 2
          },
          "yaxis": {
           "automargin": true,
           "gridcolor": "white",
           "linecolor": "white",
           "ticks": "",
           "title": {
            "standoff": 15
           },
           "zerolinecolor": "white",
           "zerolinewidth": 2
          }
         }
        },
        "title": {
         "text": "Common Size Balance Sheet for: AAPL"
        },
        "width": 800,
        "xaxis": {
         "title": {
          "text": "Year"
         }
        },
        "yaxis": {
         "title": {
          "text": "Amount % "
         }
        }
       }
      }
     },
     "metadata": {},
     "output_type": "display_data"
    }
   ],
   "source": [
    "# Balance Sheet Graph\n",
    "fig = go.Figure(\n",
    "    data=[\n",
    "        go.Bar(name=\"Assets\",\n",
    "               x=bs_df[\"calendarYear\"],\n",
    "               y=bs_df[\"totalAssets\"],\n",
    "               marker_color=\"#003B73\",\n",
    "               offsetgroup=0,\n",
    "               ),\n",
    "        go.Bar(name=\"Equity\",\n",
    "               x=bs_df[\"calendarYear\"],\n",
    "               y=bs_df[\"totalStockholdersEquity\"],\n",
    "               marker_color=\"#01949a\",\n",
    "               offsetgroup=1,\n",
    "               ),\n",
    "        go.Bar(name=\"Liabilities\",\n",
    "               x=bs_df[\"calendarYear\"],\n",
    "               y=bs_df[\"totalLiabilities\"],\n",
    "               marker_color=\"#db1f48\",\n",
    "               offsetgroup=1,\n",
    "               base=bs_df[\"totalStockholdersEquity\"],\n",
    "               ),\n",
    "        go.Bar(name=\"GW & Intangibles\",\n",
    "               x=bs_df[\"calendarYear\"],\n",
    "               y=bs_df[\"goodwillAndIntangibleAssets\"],\n",
    "               marker_color=\"#746C70\",\n",
    "               offsetgroup=2,\n",
    "               ),\n",
    "         ])\n",
    "fig.update_layout(barmode=\"group\",\n",
    "                  title=str(\"Balance Sheet for: \" + company),\n",
    "                  xaxis_title=\"Year\",\n",
    "                  yaxis_title=(\"Amount $ \" + currency),\n",
    "                  legend=dict(orientation=\"h\",\n",
    "                              yanchor=\"bottom\",\n",
    "                              xanchor=\"right\",\n",
    "                              x=1, y=1.0),\n",
    "                  width=800, height=400)\n",
    "\n",
    "fig.update_traces(texttemplate=\"%{y:.2s}\", textposition=\"inside\")\n",
    "file_name = \"images/output/bs_graph.png\"\n",
    "fig.write_image(file_name, format='png', scale=2)\n",
    "\n",
    "print(\"Balance sheet graph created.\\n\")\n",
    "fig.show()\n",
    "\n",
    "# Common Size Balance Sheet Graph\n",
    "fig = go.Figure(\n",
    "    data=[\n",
    "        go.Bar(name=\"Assets\",\n",
    "               x=bs_df[\"calendarYear\"],\n",
    "               y=bs_df[\"totalAssets\"]/bs_df[\"totalAssets\"]*100,\n",
    "               marker_color=\"#003B73\",\n",
    "               offsetgroup=0,\n",
    "               ),\n",
    "        go.Bar(name=\"Equity\",\n",
    "               x=bs_df[\"calendarYear\"],\n",
    "               y=bs_df[\"totalStockholdersEquity\"]/bs_df[\"totalAssets\"]*100,\n",
    "               marker_color=\"#01949a\",\n",
    "               offsetgroup=1,\n",
    "               ),\n",
    "        go.Bar(name=\"Liabilities\",\n",
    "               x=bs_df[\"calendarYear\"],\n",
    "               y=bs_df[\"totalLiabilities\"]/bs_df[\"totalAssets\"]*100,\n",
    "               marker_color=\"#db1f48\",\n",
    "               offsetgroup=1,\n",
    "               base=bs_df[\"totalStockholdersEquity\"]/bs_df[\"totalAssets\"]*100,\n",
    "               ),\n",
    "        go.Bar(name=\"GW & Intangibles\",\n",
    "               x=bs_df[\"calendarYear\"],\n",
    "               y=bs_df[\"goodwillAndIntangibleAssets\"]/bs_df[\"totalAssets\"]*100,\n",
    "               marker_color=\"#746C70\",\n",
    "               offsetgroup=2,\n",
    "               ),\n",
    "         ])\n",
    "fig.update_layout(barmode=\"group\",\n",
    "                  title=str(\"Common Size Balance Sheet for: \" + company),\n",
    "                  xaxis_title=\"Year\",\n",
    "                  yaxis_title=(\"Amount % \"),\n",
    "                  legend=dict(orientation=\"h\",\n",
    "                              yanchor=\"bottom\",\n",
    "                              xanchor=\"right\",\n",
    "                              x=1, y=1.0),\n",
    "                  width=800, height=400)\n",
    "\n",
    "fig.update_traces(texttemplate=\"%{y:.2s}\", textposition=\"inside\")\n",
    "file_name = \"images/output/bs_graph_cs.png\"\n",
    "fig.write_image(file_name, format='png', scale=2)\n",
    "\n",
    "print(\"Common size balance sheet graph created.\\n\")\n",
    "fig.show()"
   ]
  },
  {
   "cell_type": "markdown",
   "id": "fbd36729-32ff-4fc4-acec-e7581763ce80",
   "metadata": {},
   "source": [
    "<a id=\"is_graph\"></a>\n",
    "### [Graph] Income Statement: Nominal and Common size [*](#index)"
   ]
  },
  {
   "cell_type": "code",
   "execution_count": 11,
   "id": "4d99efe6-6f3c-44cd-bc4c-4dc6dbd4a994",
   "metadata": {},
   "outputs": [
    {
     "name": "stdout",
     "output_type": "stream",
     "text": [
      "Income statement graph created.\n",
      "\n"
     ]
    },
    {
     "data": {
      "application/vnd.plotly.v1+json": {
       "config": {
        "plotlyServerURL": "https://plot.ly"
       },
       "data": [
        {
         "marker": {
          "color": "#004369"
         },
         "name": "Revenue",
         "textposition": "inside",
         "texttemplate": "%{y:.2s}",
         "type": "bar",
         "x": [
          "2017-09-30",
          "2018-09-29",
          "2019-09-28",
          "2020-09-26",
          "2021-09-25"
         ],
         "y": [
          229234000000,
          265595000000,
          260174000000,
          274515000000,
          365817000000
         ]
        },
        {
         "marker": {
          "color": "#41729f"
         },
         "name": "Net Income",
         "textposition": "inside",
         "texttemplate": "%{y:.2s}",
         "type": "bar",
         "x": [
          "2017-09-30",
          "2018-09-29",
          "2019-09-28",
          "2020-09-26",
          "2021-09-25"
         ],
         "y": [
          48351000000,
          59531000000,
          55256000000,
          57411000000,
          94680000000
         ]
        },
        {
         "marker": {
          "color": "#DB1F48"
         },
         "name": "Interest Expense",
         "textposition": "inside",
         "texttemplate": "%{y:.2s}",
         "type": "bar",
         "x": [
          "2017-09-30",
          "2018-09-29",
          "2019-09-28",
          "2020-09-26",
          "2021-09-25"
         ],
         "y": [
          5201000000,
          5686000000,
          4961000000,
          3763000000,
          2843000000
         ]
        }
       ],
       "layout": {
        "barmode": "group",
        "height": 400,
        "legend": {
         "orientation": "h",
         "x": 1,
         "xanchor": "right",
         "y": 1,
         "yanchor": "bottom"
        },
        "template": {
         "data": {
          "bar": [
           {
            "error_x": {
             "color": "#2a3f5f"
            },
            "error_y": {
             "color": "#2a3f5f"
            },
            "marker": {
             "line": {
              "color": "#E5ECF6",
              "width": 0.5
             },
             "pattern": {
              "fillmode": "overlay",
              "size": 10,
              "solidity": 0.2
             }
            },
            "type": "bar"
           }
          ],
          "barpolar": [
           {
            "marker": {
             "line": {
              "color": "#E5ECF6",
              "width": 0.5
             },
             "pattern": {
              "fillmode": "overlay",
              "size": 10,
              "solidity": 0.2
             }
            },
            "type": "barpolar"
           }
          ],
          "carpet": [
           {
            "aaxis": {
             "endlinecolor": "#2a3f5f",
             "gridcolor": "white",
             "linecolor": "white",
             "minorgridcolor": "white",
             "startlinecolor": "#2a3f5f"
            },
            "baxis": {
             "endlinecolor": "#2a3f5f",
             "gridcolor": "white",
             "linecolor": "white",
             "minorgridcolor": "white",
             "startlinecolor": "#2a3f5f"
            },
            "type": "carpet"
           }
          ],
          "choropleth": [
           {
            "colorbar": {
             "outlinewidth": 0,
             "ticks": ""
            },
            "type": "choropleth"
           }
          ],
          "contour": [
           {
            "colorbar": {
             "outlinewidth": 0,
             "ticks": ""
            },
            "colorscale": [
             [
              0,
              "#0d0887"
             ],
             [
              0.1111111111111111,
              "#46039f"
             ],
             [
              0.2222222222222222,
              "#7201a8"
             ],
             [
              0.3333333333333333,
              "#9c179e"
             ],
             [
              0.4444444444444444,
              "#bd3786"
             ],
             [
              0.5555555555555556,
              "#d8576b"
             ],
             [
              0.6666666666666666,
              "#ed7953"
             ],
             [
              0.7777777777777778,
              "#fb9f3a"
             ],
             [
              0.8888888888888888,
              "#fdca26"
             ],
             [
              1,
              "#f0f921"
             ]
            ],
            "type": "contour"
           }
          ],
          "contourcarpet": [
           {
            "colorbar": {
             "outlinewidth": 0,
             "ticks": ""
            },
            "type": "contourcarpet"
           }
          ],
          "heatmap": [
           {
            "colorbar": {
             "outlinewidth": 0,
             "ticks": ""
            },
            "colorscale": [
             [
              0,
              "#0d0887"
             ],
             [
              0.1111111111111111,
              "#46039f"
             ],
             [
              0.2222222222222222,
              "#7201a8"
             ],
             [
              0.3333333333333333,
              "#9c179e"
             ],
             [
              0.4444444444444444,
              "#bd3786"
             ],
             [
              0.5555555555555556,
              "#d8576b"
             ],
             [
              0.6666666666666666,
              "#ed7953"
             ],
             [
              0.7777777777777778,
              "#fb9f3a"
             ],
             [
              0.8888888888888888,
              "#fdca26"
             ],
             [
              1,
              "#f0f921"
             ]
            ],
            "type": "heatmap"
           }
          ],
          "heatmapgl": [
           {
            "colorbar": {
             "outlinewidth": 0,
             "ticks": ""
            },
            "colorscale": [
             [
              0,
              "#0d0887"
             ],
             [
              0.1111111111111111,
              "#46039f"
             ],
             [
              0.2222222222222222,
              "#7201a8"
             ],
             [
              0.3333333333333333,
              "#9c179e"
             ],
             [
              0.4444444444444444,
              "#bd3786"
             ],
             [
              0.5555555555555556,
              "#d8576b"
             ],
             [
              0.6666666666666666,
              "#ed7953"
             ],
             [
              0.7777777777777778,
              "#fb9f3a"
             ],
             [
              0.8888888888888888,
              "#fdca26"
             ],
             [
              1,
              "#f0f921"
             ]
            ],
            "type": "heatmapgl"
           }
          ],
          "histogram": [
           {
            "marker": {
             "pattern": {
              "fillmode": "overlay",
              "size": 10,
              "solidity": 0.2
             }
            },
            "type": "histogram"
           }
          ],
          "histogram2d": [
           {
            "colorbar": {
             "outlinewidth": 0,
             "ticks": ""
            },
            "colorscale": [
             [
              0,
              "#0d0887"
             ],
             [
              0.1111111111111111,
              "#46039f"
             ],
             [
              0.2222222222222222,
              "#7201a8"
             ],
             [
              0.3333333333333333,
              "#9c179e"
             ],
             [
              0.4444444444444444,
              "#bd3786"
             ],
             [
              0.5555555555555556,
              "#d8576b"
             ],
             [
              0.6666666666666666,
              "#ed7953"
             ],
             [
              0.7777777777777778,
              "#fb9f3a"
             ],
             [
              0.8888888888888888,
              "#fdca26"
             ],
             [
              1,
              "#f0f921"
             ]
            ],
            "type": "histogram2d"
           }
          ],
          "histogram2dcontour": [
           {
            "colorbar": {
             "outlinewidth": 0,
             "ticks": ""
            },
            "colorscale": [
             [
              0,
              "#0d0887"
             ],
             [
              0.1111111111111111,
              "#46039f"
             ],
             [
              0.2222222222222222,
              "#7201a8"
             ],
             [
              0.3333333333333333,
              "#9c179e"
             ],
             [
              0.4444444444444444,
              "#bd3786"
             ],
             [
              0.5555555555555556,
              "#d8576b"
             ],
             [
              0.6666666666666666,
              "#ed7953"
             ],
             [
              0.7777777777777778,
              "#fb9f3a"
             ],
             [
              0.8888888888888888,
              "#fdca26"
             ],
             [
              1,
              "#f0f921"
             ]
            ],
            "type": "histogram2dcontour"
           }
          ],
          "mesh3d": [
           {
            "colorbar": {
             "outlinewidth": 0,
             "ticks": ""
            },
            "type": "mesh3d"
           }
          ],
          "parcoords": [
           {
            "line": {
             "colorbar": {
              "outlinewidth": 0,
              "ticks": ""
             }
            },
            "type": "parcoords"
           }
          ],
          "pie": [
           {
            "automargin": true,
            "type": "pie"
           }
          ],
          "scatter": [
           {
            "fillpattern": {
             "fillmode": "overlay",
             "size": 10,
             "solidity": 0.2
            },
            "type": "scatter"
           }
          ],
          "scatter3d": [
           {
            "line": {
             "colorbar": {
              "outlinewidth": 0,
              "ticks": ""
             }
            },
            "marker": {
             "colorbar": {
              "outlinewidth": 0,
              "ticks": ""
             }
            },
            "type": "scatter3d"
           }
          ],
          "scattercarpet": [
           {
            "marker": {
             "colorbar": {
              "outlinewidth": 0,
              "ticks": ""
             }
            },
            "type": "scattercarpet"
           }
          ],
          "scattergeo": [
           {
            "marker": {
             "colorbar": {
              "outlinewidth": 0,
              "ticks": ""
             }
            },
            "type": "scattergeo"
           }
          ],
          "scattergl": [
           {
            "marker": {
             "colorbar": {
              "outlinewidth": 0,
              "ticks": ""
             }
            },
            "type": "scattergl"
           }
          ],
          "scattermapbox": [
           {
            "marker": {
             "colorbar": {
              "outlinewidth": 0,
              "ticks": ""
             }
            },
            "type": "scattermapbox"
           }
          ],
          "scatterpolar": [
           {
            "marker": {
             "colorbar": {
              "outlinewidth": 0,
              "ticks": ""
             }
            },
            "type": "scatterpolar"
           }
          ],
          "scatterpolargl": [
           {
            "marker": {
             "colorbar": {
              "outlinewidth": 0,
              "ticks": ""
             }
            },
            "type": "scatterpolargl"
           }
          ],
          "scatterternary": [
           {
            "marker": {
             "colorbar": {
              "outlinewidth": 0,
              "ticks": ""
             }
            },
            "type": "scatterternary"
           }
          ],
          "surface": [
           {
            "colorbar": {
             "outlinewidth": 0,
             "ticks": ""
            },
            "colorscale": [
             [
              0,
              "#0d0887"
             ],
             [
              0.1111111111111111,
              "#46039f"
             ],
             [
              0.2222222222222222,
              "#7201a8"
             ],
             [
              0.3333333333333333,
              "#9c179e"
             ],
             [
              0.4444444444444444,
              "#bd3786"
             ],
             [
              0.5555555555555556,
              "#d8576b"
             ],
             [
              0.6666666666666666,
              "#ed7953"
             ],
             [
              0.7777777777777778,
              "#fb9f3a"
             ],
             [
              0.8888888888888888,
              "#fdca26"
             ],
             [
              1,
              "#f0f921"
             ]
            ],
            "type": "surface"
           }
          ],
          "table": [
           {
            "cells": {
             "fill": {
              "color": "#EBF0F8"
             },
             "line": {
              "color": "white"
             }
            },
            "header": {
             "fill": {
              "color": "#C8D4E3"
             },
             "line": {
              "color": "white"
             }
            },
            "type": "table"
           }
          ]
         },
         "layout": {
          "annotationdefaults": {
           "arrowcolor": "#2a3f5f",
           "arrowhead": 0,
           "arrowwidth": 1
          },
          "autotypenumbers": "strict",
          "coloraxis": {
           "colorbar": {
            "outlinewidth": 0,
            "ticks": ""
           }
          },
          "colorscale": {
           "diverging": [
            [
             0,
             "#8e0152"
            ],
            [
             0.1,
             "#c51b7d"
            ],
            [
             0.2,
             "#de77ae"
            ],
            [
             0.3,
             "#f1b6da"
            ],
            [
             0.4,
             "#fde0ef"
            ],
            [
             0.5,
             "#f7f7f7"
            ],
            [
             0.6,
             "#e6f5d0"
            ],
            [
             0.7,
             "#b8e186"
            ],
            [
             0.8,
             "#7fbc41"
            ],
            [
             0.9,
             "#4d9221"
            ],
            [
             1,
             "#276419"
            ]
           ],
           "sequential": [
            [
             0,
             "#0d0887"
            ],
            [
             0.1111111111111111,
             "#46039f"
            ],
            [
             0.2222222222222222,
             "#7201a8"
            ],
            [
             0.3333333333333333,
             "#9c179e"
            ],
            [
             0.4444444444444444,
             "#bd3786"
            ],
            [
             0.5555555555555556,
             "#d8576b"
            ],
            [
             0.6666666666666666,
             "#ed7953"
            ],
            [
             0.7777777777777778,
             "#fb9f3a"
            ],
            [
             0.8888888888888888,
             "#fdca26"
            ],
            [
             1,
             "#f0f921"
            ]
           ],
           "sequentialminus": [
            [
             0,
             "#0d0887"
            ],
            [
             0.1111111111111111,
             "#46039f"
            ],
            [
             0.2222222222222222,
             "#7201a8"
            ],
            [
             0.3333333333333333,
             "#9c179e"
            ],
            [
             0.4444444444444444,
             "#bd3786"
            ],
            [
             0.5555555555555556,
             "#d8576b"
            ],
            [
             0.6666666666666666,
             "#ed7953"
            ],
            [
             0.7777777777777778,
             "#fb9f3a"
            ],
            [
             0.8888888888888888,
             "#fdca26"
            ],
            [
             1,
             "#f0f921"
            ]
           ]
          },
          "colorway": [
           "#636efa",
           "#EF553B",
           "#00cc96",
           "#ab63fa",
           "#FFA15A",
           "#19d3f3",
           "#FF6692",
           "#B6E880",
           "#FF97FF",
           "#FECB52"
          ],
          "font": {
           "color": "#2a3f5f"
          },
          "geo": {
           "bgcolor": "white",
           "lakecolor": "white",
           "landcolor": "#E5ECF6",
           "showlakes": true,
           "showland": true,
           "subunitcolor": "white"
          },
          "hoverlabel": {
           "align": "left"
          },
          "hovermode": "closest",
          "mapbox": {
           "style": "light"
          },
          "paper_bgcolor": "white",
          "plot_bgcolor": "#E5ECF6",
          "polar": {
           "angularaxis": {
            "gridcolor": "white",
            "linecolor": "white",
            "ticks": ""
           },
           "bgcolor": "#E5ECF6",
           "radialaxis": {
            "gridcolor": "white",
            "linecolor": "white",
            "ticks": ""
           }
          },
          "scene": {
           "xaxis": {
            "backgroundcolor": "#E5ECF6",
            "gridcolor": "white",
            "gridwidth": 2,
            "linecolor": "white",
            "showbackground": true,
            "ticks": "",
            "zerolinecolor": "white"
           },
           "yaxis": {
            "backgroundcolor": "#E5ECF6",
            "gridcolor": "white",
            "gridwidth": 2,
            "linecolor": "white",
            "showbackground": true,
            "ticks": "",
            "zerolinecolor": "white"
           },
           "zaxis": {
            "backgroundcolor": "#E5ECF6",
            "gridcolor": "white",
            "gridwidth": 2,
            "linecolor": "white",
            "showbackground": true,
            "ticks": "",
            "zerolinecolor": "white"
           }
          },
          "shapedefaults": {
           "line": {
            "color": "#2a3f5f"
           }
          },
          "ternary": {
           "aaxis": {
            "gridcolor": "white",
            "linecolor": "white",
            "ticks": ""
           },
           "baxis": {
            "gridcolor": "white",
            "linecolor": "white",
            "ticks": ""
           },
           "bgcolor": "#E5ECF6",
           "caxis": {
            "gridcolor": "white",
            "linecolor": "white",
            "ticks": ""
           }
          },
          "title": {
           "x": 0.05
          },
          "xaxis": {
           "automargin": true,
           "gridcolor": "white",
           "linecolor": "white",
           "ticks": "",
           "title": {
            "standoff": 15
           },
           "zerolinecolor": "white",
           "zerolinewidth": 2
          },
          "yaxis": {
           "automargin": true,
           "gridcolor": "white",
           "linecolor": "white",
           "ticks": "",
           "title": {
            "standoff": 15
           },
           "zerolinecolor": "white",
           "zerolinewidth": 2
          }
         }
        },
        "title": {
         "text": "Income Statement for: AAPL"
        },
        "width": 800,
        "xaxis": {
         "title": {
          "text": "Year"
         }
        },
        "yaxis": {
         "title": {
          "text": "Amount $mm USD"
         }
        }
       }
      }
     },
     "metadata": {},
     "output_type": "display_data"
    },
    {
     "name": "stdout",
     "output_type": "stream",
     "text": [
      "Common size income statement graph created.\n",
      "\n"
     ]
    },
    {
     "data": {
      "application/vnd.plotly.v1+json": {
       "config": {
        "plotlyServerURL": "https://plot.ly"
       },
       "data": [
        {
         "marker": {
          "color": "#004369"
         },
         "name": "Revenue",
         "textposition": "inside",
         "texttemplate": "%{y:.2s}",
         "type": "bar",
         "x": [
          "2017-09-30",
          "2018-09-29",
          "2019-09-28",
          "2020-09-26",
          "2021-09-25"
         ],
         "y": [
          100,
          100,
          100,
          100,
          100
         ]
        },
        {
         "marker": {
          "color": "#41729f"
         },
         "name": "Net Income",
         "textposition": "inside",
         "texttemplate": "%{y:.2s}",
         "type": "bar",
         "x": [
          "2017-09-30",
          "2018-09-29",
          "2019-09-28",
          "2020-09-26",
          "2021-09-25"
         ],
         "y": [
          21.09242084507534,
          22.414202074587248,
          21.238094505984456,
          20.913611278072235,
          25.88179335569424
         ]
        },
        {
         "marker": {
          "color": "#DB1F48"
         },
         "name": "Interest Expense",
         "textposition": "inside",
         "texttemplate": "%{y:.2s}",
         "type": "bar",
         "x": [
          "2017-09-30",
          "2018-09-29",
          "2019-09-28",
          "2020-09-26",
          "2021-09-25"
         ],
         "y": [
          2.268860640219165,
          2.1408535552250605,
          1.9068008332884916,
          1.3707811959273628,
          0.7771645385534297
         ]
        }
       ],
       "layout": {
        "barmode": "group",
        "height": 400,
        "legend": {
         "orientation": "h",
         "x": 1,
         "xanchor": "right",
         "y": 1,
         "yanchor": "bottom"
        },
        "template": {
         "data": {
          "bar": [
           {
            "error_x": {
             "color": "#2a3f5f"
            },
            "error_y": {
             "color": "#2a3f5f"
            },
            "marker": {
             "line": {
              "color": "#E5ECF6",
              "width": 0.5
             },
             "pattern": {
              "fillmode": "overlay",
              "size": 10,
              "solidity": 0.2
             }
            },
            "type": "bar"
           }
          ],
          "barpolar": [
           {
            "marker": {
             "line": {
              "color": "#E5ECF6",
              "width": 0.5
             },
             "pattern": {
              "fillmode": "overlay",
              "size": 10,
              "solidity": 0.2
             }
            },
            "type": "barpolar"
           }
          ],
          "carpet": [
           {
            "aaxis": {
             "endlinecolor": "#2a3f5f",
             "gridcolor": "white",
             "linecolor": "white",
             "minorgridcolor": "white",
             "startlinecolor": "#2a3f5f"
            },
            "baxis": {
             "endlinecolor": "#2a3f5f",
             "gridcolor": "white",
             "linecolor": "white",
             "minorgridcolor": "white",
             "startlinecolor": "#2a3f5f"
            },
            "type": "carpet"
           }
          ],
          "choropleth": [
           {
            "colorbar": {
             "outlinewidth": 0,
             "ticks": ""
            },
            "type": "choropleth"
           }
          ],
          "contour": [
           {
            "colorbar": {
             "outlinewidth": 0,
             "ticks": ""
            },
            "colorscale": [
             [
              0,
              "#0d0887"
             ],
             [
              0.1111111111111111,
              "#46039f"
             ],
             [
              0.2222222222222222,
              "#7201a8"
             ],
             [
              0.3333333333333333,
              "#9c179e"
             ],
             [
              0.4444444444444444,
              "#bd3786"
             ],
             [
              0.5555555555555556,
              "#d8576b"
             ],
             [
              0.6666666666666666,
              "#ed7953"
             ],
             [
              0.7777777777777778,
              "#fb9f3a"
             ],
             [
              0.8888888888888888,
              "#fdca26"
             ],
             [
              1,
              "#f0f921"
             ]
            ],
            "type": "contour"
           }
          ],
          "contourcarpet": [
           {
            "colorbar": {
             "outlinewidth": 0,
             "ticks": ""
            },
            "type": "contourcarpet"
           }
          ],
          "heatmap": [
           {
            "colorbar": {
             "outlinewidth": 0,
             "ticks": ""
            },
            "colorscale": [
             [
              0,
              "#0d0887"
             ],
             [
              0.1111111111111111,
              "#46039f"
             ],
             [
              0.2222222222222222,
              "#7201a8"
             ],
             [
              0.3333333333333333,
              "#9c179e"
             ],
             [
              0.4444444444444444,
              "#bd3786"
             ],
             [
              0.5555555555555556,
              "#d8576b"
             ],
             [
              0.6666666666666666,
              "#ed7953"
             ],
             [
              0.7777777777777778,
              "#fb9f3a"
             ],
             [
              0.8888888888888888,
              "#fdca26"
             ],
             [
              1,
              "#f0f921"
             ]
            ],
            "type": "heatmap"
           }
          ],
          "heatmapgl": [
           {
            "colorbar": {
             "outlinewidth": 0,
             "ticks": ""
            },
            "colorscale": [
             [
              0,
              "#0d0887"
             ],
             [
              0.1111111111111111,
              "#46039f"
             ],
             [
              0.2222222222222222,
              "#7201a8"
             ],
             [
              0.3333333333333333,
              "#9c179e"
             ],
             [
              0.4444444444444444,
              "#bd3786"
             ],
             [
              0.5555555555555556,
              "#d8576b"
             ],
             [
              0.6666666666666666,
              "#ed7953"
             ],
             [
              0.7777777777777778,
              "#fb9f3a"
             ],
             [
              0.8888888888888888,
              "#fdca26"
             ],
             [
              1,
              "#f0f921"
             ]
            ],
            "type": "heatmapgl"
           }
          ],
          "histogram": [
           {
            "marker": {
             "pattern": {
              "fillmode": "overlay",
              "size": 10,
              "solidity": 0.2
             }
            },
            "type": "histogram"
           }
          ],
          "histogram2d": [
           {
            "colorbar": {
             "outlinewidth": 0,
             "ticks": ""
            },
            "colorscale": [
             [
              0,
              "#0d0887"
             ],
             [
              0.1111111111111111,
              "#46039f"
             ],
             [
              0.2222222222222222,
              "#7201a8"
             ],
             [
              0.3333333333333333,
              "#9c179e"
             ],
             [
              0.4444444444444444,
              "#bd3786"
             ],
             [
              0.5555555555555556,
              "#d8576b"
             ],
             [
              0.6666666666666666,
              "#ed7953"
             ],
             [
              0.7777777777777778,
              "#fb9f3a"
             ],
             [
              0.8888888888888888,
              "#fdca26"
             ],
             [
              1,
              "#f0f921"
             ]
            ],
            "type": "histogram2d"
           }
          ],
          "histogram2dcontour": [
           {
            "colorbar": {
             "outlinewidth": 0,
             "ticks": ""
            },
            "colorscale": [
             [
              0,
              "#0d0887"
             ],
             [
              0.1111111111111111,
              "#46039f"
             ],
             [
              0.2222222222222222,
              "#7201a8"
             ],
             [
              0.3333333333333333,
              "#9c179e"
             ],
             [
              0.4444444444444444,
              "#bd3786"
             ],
             [
              0.5555555555555556,
              "#d8576b"
             ],
             [
              0.6666666666666666,
              "#ed7953"
             ],
             [
              0.7777777777777778,
              "#fb9f3a"
             ],
             [
              0.8888888888888888,
              "#fdca26"
             ],
             [
              1,
              "#f0f921"
             ]
            ],
            "type": "histogram2dcontour"
           }
          ],
          "mesh3d": [
           {
            "colorbar": {
             "outlinewidth": 0,
             "ticks": ""
            },
            "type": "mesh3d"
           }
          ],
          "parcoords": [
           {
            "line": {
             "colorbar": {
              "outlinewidth": 0,
              "ticks": ""
             }
            },
            "type": "parcoords"
           }
          ],
          "pie": [
           {
            "automargin": true,
            "type": "pie"
           }
          ],
          "scatter": [
           {
            "fillpattern": {
             "fillmode": "overlay",
             "size": 10,
             "solidity": 0.2
            },
            "type": "scatter"
           }
          ],
          "scatter3d": [
           {
            "line": {
             "colorbar": {
              "outlinewidth": 0,
              "ticks": ""
             }
            },
            "marker": {
             "colorbar": {
              "outlinewidth": 0,
              "ticks": ""
             }
            },
            "type": "scatter3d"
           }
          ],
          "scattercarpet": [
           {
            "marker": {
             "colorbar": {
              "outlinewidth": 0,
              "ticks": ""
             }
            },
            "type": "scattercarpet"
           }
          ],
          "scattergeo": [
           {
            "marker": {
             "colorbar": {
              "outlinewidth": 0,
              "ticks": ""
             }
            },
            "type": "scattergeo"
           }
          ],
          "scattergl": [
           {
            "marker": {
             "colorbar": {
              "outlinewidth": 0,
              "ticks": ""
             }
            },
            "type": "scattergl"
           }
          ],
          "scattermapbox": [
           {
            "marker": {
             "colorbar": {
              "outlinewidth": 0,
              "ticks": ""
             }
            },
            "type": "scattermapbox"
           }
          ],
          "scatterpolar": [
           {
            "marker": {
             "colorbar": {
              "outlinewidth": 0,
              "ticks": ""
             }
            },
            "type": "scatterpolar"
           }
          ],
          "scatterpolargl": [
           {
            "marker": {
             "colorbar": {
              "outlinewidth": 0,
              "ticks": ""
             }
            },
            "type": "scatterpolargl"
           }
          ],
          "scatterternary": [
           {
            "marker": {
             "colorbar": {
              "outlinewidth": 0,
              "ticks": ""
             }
            },
            "type": "scatterternary"
           }
          ],
          "surface": [
           {
            "colorbar": {
             "outlinewidth": 0,
             "ticks": ""
            },
            "colorscale": [
             [
              0,
              "#0d0887"
             ],
             [
              0.1111111111111111,
              "#46039f"
             ],
             [
              0.2222222222222222,
              "#7201a8"
             ],
             [
              0.3333333333333333,
              "#9c179e"
             ],
             [
              0.4444444444444444,
              "#bd3786"
             ],
             [
              0.5555555555555556,
              "#d8576b"
             ],
             [
              0.6666666666666666,
              "#ed7953"
             ],
             [
              0.7777777777777778,
              "#fb9f3a"
             ],
             [
              0.8888888888888888,
              "#fdca26"
             ],
             [
              1,
              "#f0f921"
             ]
            ],
            "type": "surface"
           }
          ],
          "table": [
           {
            "cells": {
             "fill": {
              "color": "#EBF0F8"
             },
             "line": {
              "color": "white"
             }
            },
            "header": {
             "fill": {
              "color": "#C8D4E3"
             },
             "line": {
              "color": "white"
             }
            },
            "type": "table"
           }
          ]
         },
         "layout": {
          "annotationdefaults": {
           "arrowcolor": "#2a3f5f",
           "arrowhead": 0,
           "arrowwidth": 1
          },
          "autotypenumbers": "strict",
          "coloraxis": {
           "colorbar": {
            "outlinewidth": 0,
            "ticks": ""
           }
          },
          "colorscale": {
           "diverging": [
            [
             0,
             "#8e0152"
            ],
            [
             0.1,
             "#c51b7d"
            ],
            [
             0.2,
             "#de77ae"
            ],
            [
             0.3,
             "#f1b6da"
            ],
            [
             0.4,
             "#fde0ef"
            ],
            [
             0.5,
             "#f7f7f7"
            ],
            [
             0.6,
             "#e6f5d0"
            ],
            [
             0.7,
             "#b8e186"
            ],
            [
             0.8,
             "#7fbc41"
            ],
            [
             0.9,
             "#4d9221"
            ],
            [
             1,
             "#276419"
            ]
           ],
           "sequential": [
            [
             0,
             "#0d0887"
            ],
            [
             0.1111111111111111,
             "#46039f"
            ],
            [
             0.2222222222222222,
             "#7201a8"
            ],
            [
             0.3333333333333333,
             "#9c179e"
            ],
            [
             0.4444444444444444,
             "#bd3786"
            ],
            [
             0.5555555555555556,
             "#d8576b"
            ],
            [
             0.6666666666666666,
             "#ed7953"
            ],
            [
             0.7777777777777778,
             "#fb9f3a"
            ],
            [
             0.8888888888888888,
             "#fdca26"
            ],
            [
             1,
             "#f0f921"
            ]
           ],
           "sequentialminus": [
            [
             0,
             "#0d0887"
            ],
            [
             0.1111111111111111,
             "#46039f"
            ],
            [
             0.2222222222222222,
             "#7201a8"
            ],
            [
             0.3333333333333333,
             "#9c179e"
            ],
            [
             0.4444444444444444,
             "#bd3786"
            ],
            [
             0.5555555555555556,
             "#d8576b"
            ],
            [
             0.6666666666666666,
             "#ed7953"
            ],
            [
             0.7777777777777778,
             "#fb9f3a"
            ],
            [
             0.8888888888888888,
             "#fdca26"
            ],
            [
             1,
             "#f0f921"
            ]
           ]
          },
          "colorway": [
           "#636efa",
           "#EF553B",
           "#00cc96",
           "#ab63fa",
           "#FFA15A",
           "#19d3f3",
           "#FF6692",
           "#B6E880",
           "#FF97FF",
           "#FECB52"
          ],
          "font": {
           "color": "#2a3f5f"
          },
          "geo": {
           "bgcolor": "white",
           "lakecolor": "white",
           "landcolor": "#E5ECF6",
           "showlakes": true,
           "showland": true,
           "subunitcolor": "white"
          },
          "hoverlabel": {
           "align": "left"
          },
          "hovermode": "closest",
          "mapbox": {
           "style": "light"
          },
          "paper_bgcolor": "white",
          "plot_bgcolor": "#E5ECF6",
          "polar": {
           "angularaxis": {
            "gridcolor": "white",
            "linecolor": "white",
            "ticks": ""
           },
           "bgcolor": "#E5ECF6",
           "radialaxis": {
            "gridcolor": "white",
            "linecolor": "white",
            "ticks": ""
           }
          },
          "scene": {
           "xaxis": {
            "backgroundcolor": "#E5ECF6",
            "gridcolor": "white",
            "gridwidth": 2,
            "linecolor": "white",
            "showbackground": true,
            "ticks": "",
            "zerolinecolor": "white"
           },
           "yaxis": {
            "backgroundcolor": "#E5ECF6",
            "gridcolor": "white",
            "gridwidth": 2,
            "linecolor": "white",
            "showbackground": true,
            "ticks": "",
            "zerolinecolor": "white"
           },
           "zaxis": {
            "backgroundcolor": "#E5ECF6",
            "gridcolor": "white",
            "gridwidth": 2,
            "linecolor": "white",
            "showbackground": true,
            "ticks": "",
            "zerolinecolor": "white"
           }
          },
          "shapedefaults": {
           "line": {
            "color": "#2a3f5f"
           }
          },
          "ternary": {
           "aaxis": {
            "gridcolor": "white",
            "linecolor": "white",
            "ticks": ""
           },
           "baxis": {
            "gridcolor": "white",
            "linecolor": "white",
            "ticks": ""
           },
           "bgcolor": "#E5ECF6",
           "caxis": {
            "gridcolor": "white",
            "linecolor": "white",
            "ticks": ""
           }
          },
          "title": {
           "x": 0.05
          },
          "xaxis": {
           "automargin": true,
           "gridcolor": "white",
           "linecolor": "white",
           "ticks": "",
           "title": {
            "standoff": 15
           },
           "zerolinecolor": "white",
           "zerolinewidth": 2
          },
          "yaxis": {
           "automargin": true,
           "gridcolor": "white",
           "linecolor": "white",
           "ticks": "",
           "title": {
            "standoff": 15
           },
           "zerolinecolor": "white",
           "zerolinewidth": 2
          }
         }
        },
        "title": {
         "text": "Common Size Income Statement for: AAPL"
        },
        "width": 800,
        "xaxis": {
         "title": {
          "text": "Year"
         }
        },
        "yaxis": {
         "title": {
          "text": "Amount % "
         }
        }
       }
      }
     },
     "metadata": {},
     "output_type": "display_data"
    }
   ],
   "source": [
    "# Income Statement Graph\n",
    "\n",
    "# Graph the Income Statement\n",
    "fig = go.Figure(\n",
    "    data=[\n",
    "        go.Bar(name='Revenue',\n",
    "               x=is_df[\"date\"],\n",
    "               y=is_df['revenue'],\n",
    "               marker_color='#004369'\n",
    "               ),\n",
    "        go.Bar(name='Net Income',\n",
    "               x=is_df[\"date\"],\n",
    "               y=is_df['netIncome'],\n",
    "               marker_color='#41729f'\n",
    "               ),\n",
    "        go.Bar(name='Interest Expense',\n",
    "               x=is_df[\"date\"],\n",
    "               y=is_df['interestIncome'],\n",
    "               marker_color='#DB1F48'\n",
    "               )\n",
    "          ])\n",
    "fig.update_layout(barmode='group',\n",
    "                  title=str('Income Statement for: '+company),\n",
    "                  xaxis_title='Year',\n",
    "                  yaxis_title=('Amount $mm '+currency),\n",
    "                  legend=dict(orientation=\"h\",\n",
    "                              yanchor=\"bottom\",\n",
    "                              y=1.0,\n",
    "                              xanchor=\"right\",\n",
    "                              x=1),\n",
    "                  width=800, height=400)\n",
    "\n",
    "fig.update_traces(texttemplate=\"%{y:.2s}\", textposition=\"inside\")\n",
    "file_name = \"images/output/is_graph.png\"\n",
    "fig.write_image(file_name, scale=2)\n",
    "\n",
    "print(\"Income statement graph created.\\n\")\n",
    "fig.show()\n",
    "\n",
    "# Common Size Income Statement Graph\n",
    "fig = go.Figure(\n",
    "    data=[\n",
    "        go.Bar(name='Revenue',\n",
    "               x=is_df[\"date\"],\n",
    "               y=is_df['revenue']/is_df['revenue']*100,\n",
    "               marker_color='#004369'\n",
    "               ),\n",
    "        go.Bar(name='Net Income',\n",
    "               x=is_df[\"date\"],\n",
    "               y=is_df['netIncome']/is_df['revenue']*100,\n",
    "               marker_color='#41729f'\n",
    "               ),\n",
    "        go.Bar(name='Interest Expense',\n",
    "               x=is_df[\"date\"],\n",
    "               y=is_df['interestIncome']/is_df['revenue']*100,\n",
    "               marker_color='#DB1F48'\n",
    "               )\n",
    "          ])\n",
    "fig.update_layout(barmode='group',\n",
    "                  title=str('Common Size Income Statement for: '+company),\n",
    "                  xaxis_title='Year',\n",
    "                  yaxis_title=('Amount % '),\n",
    "                  legend=dict(orientation=\"h\",\n",
    "                              yanchor=\"bottom\",\n",
    "                              y=1.0,\n",
    "                              xanchor=\"right\",\n",
    "                              x=1),\n",
    "                  width=800, height=400)\n",
    "\n",
    "fig.update_traces(texttemplate=\"%{y:.2s}\", textposition=\"inside\")\n",
    "file_name = \"images/output/is_graph_cs.png\"\n",
    "fig.write_image(file_name, scale=2)\n",
    "\n",
    "print(\"Common size income statement graph created.\\n\")\n",
    "fig.show()"
   ]
  },
  {
   "cell_type": "markdown",
   "id": "a20467f4-de54-4dba-ae1a-7e06200bf6c0",
   "metadata": {},
   "source": [
    "<a id=\"CF_graph\"></a>\n",
    "### [Graph] Cash Flow Statement [*](#index)"
   ]
  },
  {
   "cell_type": "code",
   "execution_count": 12,
   "id": "ec269ff5-1e2f-4aa9-9d81-c963f9909fb2",
   "metadata": {},
   "outputs": [
    {
     "name": "stdout",
     "output_type": "stream",
     "text": [
      "Cash flow statement graph created.\n",
      "\n"
     ]
    },
    {
     "data": {
      "application/vnd.plotly.v1+json": {
       "config": {
        "plotlyServerURL": "https://plot.ly"
       },
       "data": [
        {
         "marker": {
          "color": "#01949A"
         },
         "name": "CF Operations",
         "offsetgroup": "2",
         "textposition": "inside",
         "texttemplate": "%{y:.2s}",
         "type": "bar",
         "x": [
          "2017-09-30",
          "2018-09-29",
          "2019-09-28",
          "2020-09-26",
          "2021-09-25"
         ],
         "y": [
          63598000000,
          77434000000,
          69391000000,
          80674000000,
          104038000000
         ]
        },
        {
         "marker": {
          "color": "#004369"
         },
         "name": "CF Investing",
         "offsetgroup": "3",
         "textposition": "inside",
         "texttemplate": "%{y:.2s}",
         "type": "bar",
         "x": [
          "2017-09-30",
          "2018-09-29",
          "2019-09-28",
          "2020-09-26",
          "2021-09-25"
         ],
         "y": [
          -46446000000,
          16066000000,
          45896000000,
          -4289000000,
          -14545000000
         ]
        },
        {
         "marker": {
          "color": "#DB1F48"
         },
         "name": "CF Financing",
         "offsetgroup": "4",
         "textposition": "inside",
         "texttemplate": "%{y:.2s}",
         "type": "bar",
         "x": [
          "2017-09-30",
          "2018-09-29",
          "2019-09-28",
          "2020-09-26",
          "2021-09-25"
         ],
         "y": [
          -17347000000,
          -87876000000,
          -90976000000,
          -86820000000,
          -93353000000
         ]
        }
       ],
       "layout": {
        "barmode": "group",
        "height": 400,
        "legend": {
         "orientation": "h",
         "x": 1,
         "xanchor": "right",
         "y": 1,
         "yanchor": "bottom"
        },
        "template": {
         "data": {
          "bar": [
           {
            "error_x": {
             "color": "#2a3f5f"
            },
            "error_y": {
             "color": "#2a3f5f"
            },
            "marker": {
             "line": {
              "color": "#E5ECF6",
              "width": 0.5
             },
             "pattern": {
              "fillmode": "overlay",
              "size": 10,
              "solidity": 0.2
             }
            },
            "type": "bar"
           }
          ],
          "barpolar": [
           {
            "marker": {
             "line": {
              "color": "#E5ECF6",
              "width": 0.5
             },
             "pattern": {
              "fillmode": "overlay",
              "size": 10,
              "solidity": 0.2
             }
            },
            "type": "barpolar"
           }
          ],
          "carpet": [
           {
            "aaxis": {
             "endlinecolor": "#2a3f5f",
             "gridcolor": "white",
             "linecolor": "white",
             "minorgridcolor": "white",
             "startlinecolor": "#2a3f5f"
            },
            "baxis": {
             "endlinecolor": "#2a3f5f",
             "gridcolor": "white",
             "linecolor": "white",
             "minorgridcolor": "white",
             "startlinecolor": "#2a3f5f"
            },
            "type": "carpet"
           }
          ],
          "choropleth": [
           {
            "colorbar": {
             "outlinewidth": 0,
             "ticks": ""
            },
            "type": "choropleth"
           }
          ],
          "contour": [
           {
            "colorbar": {
             "outlinewidth": 0,
             "ticks": ""
            },
            "colorscale": [
             [
              0,
              "#0d0887"
             ],
             [
              0.1111111111111111,
              "#46039f"
             ],
             [
              0.2222222222222222,
              "#7201a8"
             ],
             [
              0.3333333333333333,
              "#9c179e"
             ],
             [
              0.4444444444444444,
              "#bd3786"
             ],
             [
              0.5555555555555556,
              "#d8576b"
             ],
             [
              0.6666666666666666,
              "#ed7953"
             ],
             [
              0.7777777777777778,
              "#fb9f3a"
             ],
             [
              0.8888888888888888,
              "#fdca26"
             ],
             [
              1,
              "#f0f921"
             ]
            ],
            "type": "contour"
           }
          ],
          "contourcarpet": [
           {
            "colorbar": {
             "outlinewidth": 0,
             "ticks": ""
            },
            "type": "contourcarpet"
           }
          ],
          "heatmap": [
           {
            "colorbar": {
             "outlinewidth": 0,
             "ticks": ""
            },
            "colorscale": [
             [
              0,
              "#0d0887"
             ],
             [
              0.1111111111111111,
              "#46039f"
             ],
             [
              0.2222222222222222,
              "#7201a8"
             ],
             [
              0.3333333333333333,
              "#9c179e"
             ],
             [
              0.4444444444444444,
              "#bd3786"
             ],
             [
              0.5555555555555556,
              "#d8576b"
             ],
             [
              0.6666666666666666,
              "#ed7953"
             ],
             [
              0.7777777777777778,
              "#fb9f3a"
             ],
             [
              0.8888888888888888,
              "#fdca26"
             ],
             [
              1,
              "#f0f921"
             ]
            ],
            "type": "heatmap"
           }
          ],
          "heatmapgl": [
           {
            "colorbar": {
             "outlinewidth": 0,
             "ticks": ""
            },
            "colorscale": [
             [
              0,
              "#0d0887"
             ],
             [
              0.1111111111111111,
              "#46039f"
             ],
             [
              0.2222222222222222,
              "#7201a8"
             ],
             [
              0.3333333333333333,
              "#9c179e"
             ],
             [
              0.4444444444444444,
              "#bd3786"
             ],
             [
              0.5555555555555556,
              "#d8576b"
             ],
             [
              0.6666666666666666,
              "#ed7953"
             ],
             [
              0.7777777777777778,
              "#fb9f3a"
             ],
             [
              0.8888888888888888,
              "#fdca26"
             ],
             [
              1,
              "#f0f921"
             ]
            ],
            "type": "heatmapgl"
           }
          ],
          "histogram": [
           {
            "marker": {
             "pattern": {
              "fillmode": "overlay",
              "size": 10,
              "solidity": 0.2
             }
            },
            "type": "histogram"
           }
          ],
          "histogram2d": [
           {
            "colorbar": {
             "outlinewidth": 0,
             "ticks": ""
            },
            "colorscale": [
             [
              0,
              "#0d0887"
             ],
             [
              0.1111111111111111,
              "#46039f"
             ],
             [
              0.2222222222222222,
              "#7201a8"
             ],
             [
              0.3333333333333333,
              "#9c179e"
             ],
             [
              0.4444444444444444,
              "#bd3786"
             ],
             [
              0.5555555555555556,
              "#d8576b"
             ],
             [
              0.6666666666666666,
              "#ed7953"
             ],
             [
              0.7777777777777778,
              "#fb9f3a"
             ],
             [
              0.8888888888888888,
              "#fdca26"
             ],
             [
              1,
              "#f0f921"
             ]
            ],
            "type": "histogram2d"
           }
          ],
          "histogram2dcontour": [
           {
            "colorbar": {
             "outlinewidth": 0,
             "ticks": ""
            },
            "colorscale": [
             [
              0,
              "#0d0887"
             ],
             [
              0.1111111111111111,
              "#46039f"
             ],
             [
              0.2222222222222222,
              "#7201a8"
             ],
             [
              0.3333333333333333,
              "#9c179e"
             ],
             [
              0.4444444444444444,
              "#bd3786"
             ],
             [
              0.5555555555555556,
              "#d8576b"
             ],
             [
              0.6666666666666666,
              "#ed7953"
             ],
             [
              0.7777777777777778,
              "#fb9f3a"
             ],
             [
              0.8888888888888888,
              "#fdca26"
             ],
             [
              1,
              "#f0f921"
             ]
            ],
            "type": "histogram2dcontour"
           }
          ],
          "mesh3d": [
           {
            "colorbar": {
             "outlinewidth": 0,
             "ticks": ""
            },
            "type": "mesh3d"
           }
          ],
          "parcoords": [
           {
            "line": {
             "colorbar": {
              "outlinewidth": 0,
              "ticks": ""
             }
            },
            "type": "parcoords"
           }
          ],
          "pie": [
           {
            "automargin": true,
            "type": "pie"
           }
          ],
          "scatter": [
           {
            "fillpattern": {
             "fillmode": "overlay",
             "size": 10,
             "solidity": 0.2
            },
            "type": "scatter"
           }
          ],
          "scatter3d": [
           {
            "line": {
             "colorbar": {
              "outlinewidth": 0,
              "ticks": ""
             }
            },
            "marker": {
             "colorbar": {
              "outlinewidth": 0,
              "ticks": ""
             }
            },
            "type": "scatter3d"
           }
          ],
          "scattercarpet": [
           {
            "marker": {
             "colorbar": {
              "outlinewidth": 0,
              "ticks": ""
             }
            },
            "type": "scattercarpet"
           }
          ],
          "scattergeo": [
           {
            "marker": {
             "colorbar": {
              "outlinewidth": 0,
              "ticks": ""
             }
            },
            "type": "scattergeo"
           }
          ],
          "scattergl": [
           {
            "marker": {
             "colorbar": {
              "outlinewidth": 0,
              "ticks": ""
             }
            },
            "type": "scattergl"
           }
          ],
          "scattermapbox": [
           {
            "marker": {
             "colorbar": {
              "outlinewidth": 0,
              "ticks": ""
             }
            },
            "type": "scattermapbox"
           }
          ],
          "scatterpolar": [
           {
            "marker": {
             "colorbar": {
              "outlinewidth": 0,
              "ticks": ""
             }
            },
            "type": "scatterpolar"
           }
          ],
          "scatterpolargl": [
           {
            "marker": {
             "colorbar": {
              "outlinewidth": 0,
              "ticks": ""
             }
            },
            "type": "scatterpolargl"
           }
          ],
          "scatterternary": [
           {
            "marker": {
             "colorbar": {
              "outlinewidth": 0,
              "ticks": ""
             }
            },
            "type": "scatterternary"
           }
          ],
          "surface": [
           {
            "colorbar": {
             "outlinewidth": 0,
             "ticks": ""
            },
            "colorscale": [
             [
              0,
              "#0d0887"
             ],
             [
              0.1111111111111111,
              "#46039f"
             ],
             [
              0.2222222222222222,
              "#7201a8"
             ],
             [
              0.3333333333333333,
              "#9c179e"
             ],
             [
              0.4444444444444444,
              "#bd3786"
             ],
             [
              0.5555555555555556,
              "#d8576b"
             ],
             [
              0.6666666666666666,
              "#ed7953"
             ],
             [
              0.7777777777777778,
              "#fb9f3a"
             ],
             [
              0.8888888888888888,
              "#fdca26"
             ],
             [
              1,
              "#f0f921"
             ]
            ],
            "type": "surface"
           }
          ],
          "table": [
           {
            "cells": {
             "fill": {
              "color": "#EBF0F8"
             },
             "line": {
              "color": "white"
             }
            },
            "header": {
             "fill": {
              "color": "#C8D4E3"
             },
             "line": {
              "color": "white"
             }
            },
            "type": "table"
           }
          ]
         },
         "layout": {
          "annotationdefaults": {
           "arrowcolor": "#2a3f5f",
           "arrowhead": 0,
           "arrowwidth": 1
          },
          "autotypenumbers": "strict",
          "coloraxis": {
           "colorbar": {
            "outlinewidth": 0,
            "ticks": ""
           }
          },
          "colorscale": {
           "diverging": [
            [
             0,
             "#8e0152"
            ],
            [
             0.1,
             "#c51b7d"
            ],
            [
             0.2,
             "#de77ae"
            ],
            [
             0.3,
             "#f1b6da"
            ],
            [
             0.4,
             "#fde0ef"
            ],
            [
             0.5,
             "#f7f7f7"
            ],
            [
             0.6,
             "#e6f5d0"
            ],
            [
             0.7,
             "#b8e186"
            ],
            [
             0.8,
             "#7fbc41"
            ],
            [
             0.9,
             "#4d9221"
            ],
            [
             1,
             "#276419"
            ]
           ],
           "sequential": [
            [
             0,
             "#0d0887"
            ],
            [
             0.1111111111111111,
             "#46039f"
            ],
            [
             0.2222222222222222,
             "#7201a8"
            ],
            [
             0.3333333333333333,
             "#9c179e"
            ],
            [
             0.4444444444444444,
             "#bd3786"
            ],
            [
             0.5555555555555556,
             "#d8576b"
            ],
            [
             0.6666666666666666,
             "#ed7953"
            ],
            [
             0.7777777777777778,
             "#fb9f3a"
            ],
            [
             0.8888888888888888,
             "#fdca26"
            ],
            [
             1,
             "#f0f921"
            ]
           ],
           "sequentialminus": [
            [
             0,
             "#0d0887"
            ],
            [
             0.1111111111111111,
             "#46039f"
            ],
            [
             0.2222222222222222,
             "#7201a8"
            ],
            [
             0.3333333333333333,
             "#9c179e"
            ],
            [
             0.4444444444444444,
             "#bd3786"
            ],
            [
             0.5555555555555556,
             "#d8576b"
            ],
            [
             0.6666666666666666,
             "#ed7953"
            ],
            [
             0.7777777777777778,
             "#fb9f3a"
            ],
            [
             0.8888888888888888,
             "#fdca26"
            ],
            [
             1,
             "#f0f921"
            ]
           ]
          },
          "colorway": [
           "#636efa",
           "#EF553B",
           "#00cc96",
           "#ab63fa",
           "#FFA15A",
           "#19d3f3",
           "#FF6692",
           "#B6E880",
           "#FF97FF",
           "#FECB52"
          ],
          "font": {
           "color": "#2a3f5f"
          },
          "geo": {
           "bgcolor": "white",
           "lakecolor": "white",
           "landcolor": "#E5ECF6",
           "showlakes": true,
           "showland": true,
           "subunitcolor": "white"
          },
          "hoverlabel": {
           "align": "left"
          },
          "hovermode": "closest",
          "mapbox": {
           "style": "light"
          },
          "paper_bgcolor": "white",
          "plot_bgcolor": "#E5ECF6",
          "polar": {
           "angularaxis": {
            "gridcolor": "white",
            "linecolor": "white",
            "ticks": ""
           },
           "bgcolor": "#E5ECF6",
           "radialaxis": {
            "gridcolor": "white",
            "linecolor": "white",
            "ticks": ""
           }
          },
          "scene": {
           "xaxis": {
            "backgroundcolor": "#E5ECF6",
            "gridcolor": "white",
            "gridwidth": 2,
            "linecolor": "white",
            "showbackground": true,
            "ticks": "",
            "zerolinecolor": "white"
           },
           "yaxis": {
            "backgroundcolor": "#E5ECF6",
            "gridcolor": "white",
            "gridwidth": 2,
            "linecolor": "white",
            "showbackground": true,
            "ticks": "",
            "zerolinecolor": "white"
           },
           "zaxis": {
            "backgroundcolor": "#E5ECF6",
            "gridcolor": "white",
            "gridwidth": 2,
            "linecolor": "white",
            "showbackground": true,
            "ticks": "",
            "zerolinecolor": "white"
           }
          },
          "shapedefaults": {
           "line": {
            "color": "#2a3f5f"
           }
          },
          "ternary": {
           "aaxis": {
            "gridcolor": "white",
            "linecolor": "white",
            "ticks": ""
           },
           "baxis": {
            "gridcolor": "white",
            "linecolor": "white",
            "ticks": ""
           },
           "bgcolor": "#E5ECF6",
           "caxis": {
            "gridcolor": "white",
            "linecolor": "white",
            "ticks": ""
           }
          },
          "title": {
           "x": 0.05
          },
          "xaxis": {
           "automargin": true,
           "gridcolor": "white",
           "linecolor": "white",
           "ticks": "",
           "title": {
            "standoff": 15
           },
           "zerolinecolor": "white",
           "zerolinewidth": 2
          },
          "yaxis": {
           "automargin": true,
           "gridcolor": "white",
           "linecolor": "white",
           "ticks": "",
           "title": {
            "standoff": 15
           },
           "zerolinecolor": "white",
           "zerolinewidth": 2
          }
         }
        },
        "title": {
         "text": "Cash Flow Statement for: AAPL"
        },
        "width": 800,
        "xaxis": {
         "title": {
          "text": "Year"
         }
        },
        "yaxis": {
         "title": {
          "text": "Amount $mm USD"
         }
        }
       }
      }
     },
     "metadata": {},
     "output_type": "display_data"
    }
   ],
   "source": [
    "# Cash Flow Statement Graph\n",
    "\n",
    "# Graph the Cash Flow Statement\n",
    "fig = go.Figure(\n",
    "    data=[\n",
    "        go.Bar(name='CF Operations',\n",
    "               x=cf_df[\"date\"],\n",
    "               y=cf_df['netCashProvidedByOperatingActivities'],\n",
    "               marker_color='#01949A',\n",
    "               offsetgroup=2\n",
    "               ),\n",
    "        go.Bar(name='CF Investing',\n",
    "               x=cf_df[\"date\"],\n",
    "               y=cf_df['netCashUsedForInvestingActivites'],\n",
    "               marker_color='#004369',\n",
    "               offsetgroup=3,\n",
    "               ),\n",
    "        go.Bar(name='CF Financing',\n",
    "               x=cf_df[\"date\"],\n",
    "               y=cf_df['netCashUsedProvidedByFinancingActivities'],\n",
    "               marker_color='#DB1F48',\n",
    "               offsetgroup=4,\n",
    "               )\n",
    "          ])\n",
    "fig.update_layout(barmode='group',\n",
    "                  title=str('Cash Flow Statement for: '+company),\n",
    "                  xaxis_title='Year',\n",
    "                  yaxis_title=('Amount $mm '+currency),\n",
    "                  legend=dict(orientation=\"h\",\n",
    "                              yanchor=\"bottom\",\n",
    "                              y=1.0,\n",
    "                              xanchor=\"right\",\n",
    "                              x=1),\n",
    "                  width=800, height=400)\n",
    "\n",
    "fig.update_traces(texttemplate='%{y:.2s}', textposition='inside')\n",
    "file_name = \"images/output/cf_graph.png\"\n",
    "fig.write_image(file_name, scale=2)\n",
    "\n",
    "print(\"Cash flow statement graph created.\\n\")\n",
    "fig.show()"
   ]
  },
  {
   "cell_type": "markdown",
   "id": "8271693c-e346-4966-b154-d4488fe28685",
   "metadata": {},
   "source": [
    "<a id=\"equity_uses_table\"></a>\n",
    "### [DataFrame] Equity Uses [*](#index)"
   ]
  },
  {
   "cell_type": "code",
   "execution_count": 13,
   "id": "d55dbd7f-bf20-43bd-9702-1b026a8bacc2",
   "metadata": {},
   "outputs": [
    {
     "name": "stdout",
     "output_type": "stream",
     "text": [
      "Dataframe 'equityUses_df' created.\n",
      "\n"
     ]
    }
   ],
   "source": [
    "# Equity uses Graph needs data from three dataframes:\n",
    "# Create a new dataframe with the information needed\n",
    "\n",
    "# Copy original df into a new df\n",
    "bs_equity = bs_df.copy(deep=True)\n",
    "cf_equity = cf_df.copy(deep=True)\n",
    "is_equity = is_df.copy(deep=True)\n",
    "\n",
    "# Add Last Year Equity column to BS\n",
    "bs_equity['LY_totalStockholdersEquity'] = (\n",
    "    bs_equity['totalStockholdersEquity'].shift(-1)\n",
    ")\n",
    "\n",
    "# Make the date the index value\n",
    "bs_equity.set_index('date', inplace=True)\n",
    "cf_equity.set_index('date', inplace=True)\n",
    "is_equity.set_index('date', inplace=True)\n",
    "\n",
    "# Drop duplicate column netIncome\n",
    "cf_equity.drop('netIncome', axis=1, inplace=True)\n",
    "\n",
    "# Merge dataframes\n",
    "equityUses_df = pd.concat([bs_equity, cf_equity, is_equity], axis=1)\n",
    "\n",
    "# Reset index to make 'date' a column instead of index value\n",
    "equityUses_df = equityUses_df.reset_index()\n",
    "\n",
    "# Make sure all variables are float64\n",
    "equityUses_df['LY_totalStockholdersEquity'] = (\n",
    "    equityUses_df['LY_totalStockholdersEquity'].astype(float)\n",
    ")\n",
    "equityUses_df['netIncome'] = equityUses_df['netIncome'].astype(float)\n",
    "equityUses_df['dividendsPaid'] = equityUses_df['dividendsPaid'].astype(float)\n",
    "\n",
    "print(\"Dataframe 'equityUses_df' created.\\n\")"
   ]
  },
  {
   "cell_type": "markdown",
   "id": "5718cee2-dea2-4140-945b-e8ca168cb595",
   "metadata": {},
   "source": [
    "<a id=\"equity_uses\"></a>\n",
    "### [Graph] Equity Uses [*](#index)"
   ]
  },
  {
   "cell_type": "code",
   "execution_count": 14,
   "id": "3c2e65e2-016e-491a-9768-1541c3606be4",
   "metadata": {},
   "outputs": [
    {
     "name": "stdout",
     "output_type": "stream",
     "text": [
      "Equity Uses graph created.\n",
      "\n"
     ]
    },
    {
     "data": {
      "application/vnd.plotly.v1+json": {
       "config": {
        "plotlyServerURL": "https://plot.ly"
       },
       "data": [
        {
         "marker": {
          "color": "#738fa7"
         },
         "name": "Beggining Equity",
         "offsetgroup": "0",
         "textposition": "inside",
         "texttemplate": "%{y:.2s}",
         "type": "bar",
         "x": [
          "2017-09-30",
          "2018-09-29",
          "2019-09-28",
          "2020-09-26",
          "2021-09-25"
         ],
         "y": [
          107147000000,
          90488000000,
          65339000000,
          63090000000,
          null
         ]
        },
        {
         "marker": {
          "color": "#005f73"
         },
         "name": "NetIncome",
         "offsetgroup": "1",
         "textposition": "inside",
         "texttemplate": "%{y:.2s}",
         "type": "bar",
         "x": [
          "2017-09-30",
          "2018-09-29",
          "2019-09-28",
          "2020-09-26",
          "2021-09-25"
         ],
         "y": [
          48351000000,
          59531000000,
          55256000000,
          57411000000,
          94680000000
         ]
        },
        {
         "marker": {
          "color": "#0a9396"
         },
         "name": "Dividends",
         "offsetgroup": "1",
         "textposition": "inside",
         "texttemplate": "%{y:.2s}",
         "type": "bar",
         "x": [
          "2017-09-30",
          "2018-09-29",
          "2019-09-28",
          "2020-09-26",
          "2021-09-25"
         ],
         "y": [
          -12769000000,
          -13712000000,
          -14119000000,
          -14081000000,
          -14467000000
         ]
        },
        {
         "marker": {
          "color": "#41729f"
         },
         "name": "Ending Equity (expected)",
         "offsetgroup": "2",
         "textposition": "inside",
         "texttemplate": "%{y:.2s}",
         "type": "bar",
         "x": [
          "2017-09-30",
          "2018-09-29",
          "2019-09-28",
          "2020-09-26",
          "2021-09-25"
         ],
         "y": [
          142729000000,
          136307000000,
          106476000000,
          106420000000,
          null
         ]
        },
        {
         "marker": {
          "color": "#004369"
         },
         "name": "Ending Equity (real)",
         "offsetgroup": "3",
         "textposition": "inside",
         "texttemplate": "%{y:.2s}",
         "type": "bar",
         "x": [
          "2017-09-30",
          "2018-09-29",
          "2019-09-28",
          "2020-09-26",
          "2021-09-25"
         ],
         "y": [
          134047000000,
          107147000000,
          90488000000,
          65339000000,
          63090000000
         ]
        }
       ],
       "layout": {
        "barmode": "group",
        "height": 400,
        "legend": {
         "orientation": "h",
         "x": 1,
         "xanchor": "right",
         "y": 1,
         "yanchor": "bottom"
        },
        "template": {
         "data": {
          "bar": [
           {
            "error_x": {
             "color": "#2a3f5f"
            },
            "error_y": {
             "color": "#2a3f5f"
            },
            "marker": {
             "line": {
              "color": "#E5ECF6",
              "width": 0.5
             },
             "pattern": {
              "fillmode": "overlay",
              "size": 10,
              "solidity": 0.2
             }
            },
            "type": "bar"
           }
          ],
          "barpolar": [
           {
            "marker": {
             "line": {
              "color": "#E5ECF6",
              "width": 0.5
             },
             "pattern": {
              "fillmode": "overlay",
              "size": 10,
              "solidity": 0.2
             }
            },
            "type": "barpolar"
           }
          ],
          "carpet": [
           {
            "aaxis": {
             "endlinecolor": "#2a3f5f",
             "gridcolor": "white",
             "linecolor": "white",
             "minorgridcolor": "white",
             "startlinecolor": "#2a3f5f"
            },
            "baxis": {
             "endlinecolor": "#2a3f5f",
             "gridcolor": "white",
             "linecolor": "white",
             "minorgridcolor": "white",
             "startlinecolor": "#2a3f5f"
            },
            "type": "carpet"
           }
          ],
          "choropleth": [
           {
            "colorbar": {
             "outlinewidth": 0,
             "ticks": ""
            },
            "type": "choropleth"
           }
          ],
          "contour": [
           {
            "colorbar": {
             "outlinewidth": 0,
             "ticks": ""
            },
            "colorscale": [
             [
              0,
              "#0d0887"
             ],
             [
              0.1111111111111111,
              "#46039f"
             ],
             [
              0.2222222222222222,
              "#7201a8"
             ],
             [
              0.3333333333333333,
              "#9c179e"
             ],
             [
              0.4444444444444444,
              "#bd3786"
             ],
             [
              0.5555555555555556,
              "#d8576b"
             ],
             [
              0.6666666666666666,
              "#ed7953"
             ],
             [
              0.7777777777777778,
              "#fb9f3a"
             ],
             [
              0.8888888888888888,
              "#fdca26"
             ],
             [
              1,
              "#f0f921"
             ]
            ],
            "type": "contour"
           }
          ],
          "contourcarpet": [
           {
            "colorbar": {
             "outlinewidth": 0,
             "ticks": ""
            },
            "type": "contourcarpet"
           }
          ],
          "heatmap": [
           {
            "colorbar": {
             "outlinewidth": 0,
             "ticks": ""
            },
            "colorscale": [
             [
              0,
              "#0d0887"
             ],
             [
              0.1111111111111111,
              "#46039f"
             ],
             [
              0.2222222222222222,
              "#7201a8"
             ],
             [
              0.3333333333333333,
              "#9c179e"
             ],
             [
              0.4444444444444444,
              "#bd3786"
             ],
             [
              0.5555555555555556,
              "#d8576b"
             ],
             [
              0.6666666666666666,
              "#ed7953"
             ],
             [
              0.7777777777777778,
              "#fb9f3a"
             ],
             [
              0.8888888888888888,
              "#fdca26"
             ],
             [
              1,
              "#f0f921"
             ]
            ],
            "type": "heatmap"
           }
          ],
          "heatmapgl": [
           {
            "colorbar": {
             "outlinewidth": 0,
             "ticks": ""
            },
            "colorscale": [
             [
              0,
              "#0d0887"
             ],
             [
              0.1111111111111111,
              "#46039f"
             ],
             [
              0.2222222222222222,
              "#7201a8"
             ],
             [
              0.3333333333333333,
              "#9c179e"
             ],
             [
              0.4444444444444444,
              "#bd3786"
             ],
             [
              0.5555555555555556,
              "#d8576b"
             ],
             [
              0.6666666666666666,
              "#ed7953"
             ],
             [
              0.7777777777777778,
              "#fb9f3a"
             ],
             [
              0.8888888888888888,
              "#fdca26"
             ],
             [
              1,
              "#f0f921"
             ]
            ],
            "type": "heatmapgl"
           }
          ],
          "histogram": [
           {
            "marker": {
             "pattern": {
              "fillmode": "overlay",
              "size": 10,
              "solidity": 0.2
             }
            },
            "type": "histogram"
           }
          ],
          "histogram2d": [
           {
            "colorbar": {
             "outlinewidth": 0,
             "ticks": ""
            },
            "colorscale": [
             [
              0,
              "#0d0887"
             ],
             [
              0.1111111111111111,
              "#46039f"
             ],
             [
              0.2222222222222222,
              "#7201a8"
             ],
             [
              0.3333333333333333,
              "#9c179e"
             ],
             [
              0.4444444444444444,
              "#bd3786"
             ],
             [
              0.5555555555555556,
              "#d8576b"
             ],
             [
              0.6666666666666666,
              "#ed7953"
             ],
             [
              0.7777777777777778,
              "#fb9f3a"
             ],
             [
              0.8888888888888888,
              "#fdca26"
             ],
             [
              1,
              "#f0f921"
             ]
            ],
            "type": "histogram2d"
           }
          ],
          "histogram2dcontour": [
           {
            "colorbar": {
             "outlinewidth": 0,
             "ticks": ""
            },
            "colorscale": [
             [
              0,
              "#0d0887"
             ],
             [
              0.1111111111111111,
              "#46039f"
             ],
             [
              0.2222222222222222,
              "#7201a8"
             ],
             [
              0.3333333333333333,
              "#9c179e"
             ],
             [
              0.4444444444444444,
              "#bd3786"
             ],
             [
              0.5555555555555556,
              "#d8576b"
             ],
             [
              0.6666666666666666,
              "#ed7953"
             ],
             [
              0.7777777777777778,
              "#fb9f3a"
             ],
             [
              0.8888888888888888,
              "#fdca26"
             ],
             [
              1,
              "#f0f921"
             ]
            ],
            "type": "histogram2dcontour"
           }
          ],
          "mesh3d": [
           {
            "colorbar": {
             "outlinewidth": 0,
             "ticks": ""
            },
            "type": "mesh3d"
           }
          ],
          "parcoords": [
           {
            "line": {
             "colorbar": {
              "outlinewidth": 0,
              "ticks": ""
             }
            },
            "type": "parcoords"
           }
          ],
          "pie": [
           {
            "automargin": true,
            "type": "pie"
           }
          ],
          "scatter": [
           {
            "fillpattern": {
             "fillmode": "overlay",
             "size": 10,
             "solidity": 0.2
            },
            "type": "scatter"
           }
          ],
          "scatter3d": [
           {
            "line": {
             "colorbar": {
              "outlinewidth": 0,
              "ticks": ""
             }
            },
            "marker": {
             "colorbar": {
              "outlinewidth": 0,
              "ticks": ""
             }
            },
            "type": "scatter3d"
           }
          ],
          "scattercarpet": [
           {
            "marker": {
             "colorbar": {
              "outlinewidth": 0,
              "ticks": ""
             }
            },
            "type": "scattercarpet"
           }
          ],
          "scattergeo": [
           {
            "marker": {
             "colorbar": {
              "outlinewidth": 0,
              "ticks": ""
             }
            },
            "type": "scattergeo"
           }
          ],
          "scattergl": [
           {
            "marker": {
             "colorbar": {
              "outlinewidth": 0,
              "ticks": ""
             }
            },
            "type": "scattergl"
           }
          ],
          "scattermapbox": [
           {
            "marker": {
             "colorbar": {
              "outlinewidth": 0,
              "ticks": ""
             }
            },
            "type": "scattermapbox"
           }
          ],
          "scatterpolar": [
           {
            "marker": {
             "colorbar": {
              "outlinewidth": 0,
              "ticks": ""
             }
            },
            "type": "scatterpolar"
           }
          ],
          "scatterpolargl": [
           {
            "marker": {
             "colorbar": {
              "outlinewidth": 0,
              "ticks": ""
             }
            },
            "type": "scatterpolargl"
           }
          ],
          "scatterternary": [
           {
            "marker": {
             "colorbar": {
              "outlinewidth": 0,
              "ticks": ""
             }
            },
            "type": "scatterternary"
           }
          ],
          "surface": [
           {
            "colorbar": {
             "outlinewidth": 0,
             "ticks": ""
            },
            "colorscale": [
             [
              0,
              "#0d0887"
             ],
             [
              0.1111111111111111,
              "#46039f"
             ],
             [
              0.2222222222222222,
              "#7201a8"
             ],
             [
              0.3333333333333333,
              "#9c179e"
             ],
             [
              0.4444444444444444,
              "#bd3786"
             ],
             [
              0.5555555555555556,
              "#d8576b"
             ],
             [
              0.6666666666666666,
              "#ed7953"
             ],
             [
              0.7777777777777778,
              "#fb9f3a"
             ],
             [
              0.8888888888888888,
              "#fdca26"
             ],
             [
              1,
              "#f0f921"
             ]
            ],
            "type": "surface"
           }
          ],
          "table": [
           {
            "cells": {
             "fill": {
              "color": "#EBF0F8"
             },
             "line": {
              "color": "white"
             }
            },
            "header": {
             "fill": {
              "color": "#C8D4E3"
             },
             "line": {
              "color": "white"
             }
            },
            "type": "table"
           }
          ]
         },
         "layout": {
          "annotationdefaults": {
           "arrowcolor": "#2a3f5f",
           "arrowhead": 0,
           "arrowwidth": 1
          },
          "autotypenumbers": "strict",
          "coloraxis": {
           "colorbar": {
            "outlinewidth": 0,
            "ticks": ""
           }
          },
          "colorscale": {
           "diverging": [
            [
             0,
             "#8e0152"
            ],
            [
             0.1,
             "#c51b7d"
            ],
            [
             0.2,
             "#de77ae"
            ],
            [
             0.3,
             "#f1b6da"
            ],
            [
             0.4,
             "#fde0ef"
            ],
            [
             0.5,
             "#f7f7f7"
            ],
            [
             0.6,
             "#e6f5d0"
            ],
            [
             0.7,
             "#b8e186"
            ],
            [
             0.8,
             "#7fbc41"
            ],
            [
             0.9,
             "#4d9221"
            ],
            [
             1,
             "#276419"
            ]
           ],
           "sequential": [
            [
             0,
             "#0d0887"
            ],
            [
             0.1111111111111111,
             "#46039f"
            ],
            [
             0.2222222222222222,
             "#7201a8"
            ],
            [
             0.3333333333333333,
             "#9c179e"
            ],
            [
             0.4444444444444444,
             "#bd3786"
            ],
            [
             0.5555555555555556,
             "#d8576b"
            ],
            [
             0.6666666666666666,
             "#ed7953"
            ],
            [
             0.7777777777777778,
             "#fb9f3a"
            ],
            [
             0.8888888888888888,
             "#fdca26"
            ],
            [
             1,
             "#f0f921"
            ]
           ],
           "sequentialminus": [
            [
             0,
             "#0d0887"
            ],
            [
             0.1111111111111111,
             "#46039f"
            ],
            [
             0.2222222222222222,
             "#7201a8"
            ],
            [
             0.3333333333333333,
             "#9c179e"
            ],
            [
             0.4444444444444444,
             "#bd3786"
            ],
            [
             0.5555555555555556,
             "#d8576b"
            ],
            [
             0.6666666666666666,
             "#ed7953"
            ],
            [
             0.7777777777777778,
             "#fb9f3a"
            ],
            [
             0.8888888888888888,
             "#fdca26"
            ],
            [
             1,
             "#f0f921"
            ]
           ]
          },
          "colorway": [
           "#636efa",
           "#EF553B",
           "#00cc96",
           "#ab63fa",
           "#FFA15A",
           "#19d3f3",
           "#FF6692",
           "#B6E880",
           "#FF97FF",
           "#FECB52"
          ],
          "font": {
           "color": "#2a3f5f"
          },
          "geo": {
           "bgcolor": "white",
           "lakecolor": "white",
           "landcolor": "#E5ECF6",
           "showlakes": true,
           "showland": true,
           "subunitcolor": "white"
          },
          "hoverlabel": {
           "align": "left"
          },
          "hovermode": "closest",
          "mapbox": {
           "style": "light"
          },
          "paper_bgcolor": "white",
          "plot_bgcolor": "#E5ECF6",
          "polar": {
           "angularaxis": {
            "gridcolor": "white",
            "linecolor": "white",
            "ticks": ""
           },
           "bgcolor": "#E5ECF6",
           "radialaxis": {
            "gridcolor": "white",
            "linecolor": "white",
            "ticks": ""
           }
          },
          "scene": {
           "xaxis": {
            "backgroundcolor": "#E5ECF6",
            "gridcolor": "white",
            "gridwidth": 2,
            "linecolor": "white",
            "showbackground": true,
            "ticks": "",
            "zerolinecolor": "white"
           },
           "yaxis": {
            "backgroundcolor": "#E5ECF6",
            "gridcolor": "white",
            "gridwidth": 2,
            "linecolor": "white",
            "showbackground": true,
            "ticks": "",
            "zerolinecolor": "white"
           },
           "zaxis": {
            "backgroundcolor": "#E5ECF6",
            "gridcolor": "white",
            "gridwidth": 2,
            "linecolor": "white",
            "showbackground": true,
            "ticks": "",
            "zerolinecolor": "white"
           }
          },
          "shapedefaults": {
           "line": {
            "color": "#2a3f5f"
           }
          },
          "ternary": {
           "aaxis": {
            "gridcolor": "white",
            "linecolor": "white",
            "ticks": ""
           },
           "baxis": {
            "gridcolor": "white",
            "linecolor": "white",
            "ticks": ""
           },
           "bgcolor": "#E5ECF6",
           "caxis": {
            "gridcolor": "white",
            "linecolor": "white",
            "ticks": ""
           }
          },
          "title": {
           "x": 0.05
          },
          "xaxis": {
           "automargin": true,
           "gridcolor": "white",
           "linecolor": "white",
           "ticks": "",
           "title": {
            "standoff": 15
           },
           "zerolinecolor": "white",
           "zerolinewidth": 2
          },
          "yaxis": {
           "automargin": true,
           "gridcolor": "white",
           "linecolor": "white",
           "ticks": "",
           "title": {
            "standoff": 15
           },
           "zerolinecolor": "white",
           "zerolinewidth": 2
          }
         }
        },
        "title": {
         "text": "Equity Uses for: AAPL"
        },
        "width": 800,
        "xaxis": {
         "title": {
          "text": "Year"
         }
        },
        "yaxis": {
         "title": {
          "text": "Amount $mm USD"
         }
        }
       }
      }
     },
     "metadata": {},
     "output_type": "display_data"
    }
   ],
   "source": [
    "# Equity Uses graph\n",
    "fig = go.Figure(\n",
    "    data=[\n",
    "        go.Bar(name='Beggining Equity',\n",
    "               x=equityUses_df[\"date\"],\n",
    "               y=equityUses_df['LY_totalStockholdersEquity'],\n",
    "               marker_color='#738fa7',\n",
    "               offsetgroup=0\n",
    "               ),\n",
    "        go.Bar(name='NetIncome',\n",
    "               x=equityUses_df[\"date\"],\n",
    "               y=equityUses_df['netIncome'],\n",
    "               marker_color='#005f73',\n",
    "               offsetgroup=1,\n",
    "               ),\n",
    "        go.Bar(name='Dividends',\n",
    "               x=equityUses_df[\"date\"],\n",
    "               y=equityUses_df['dividendsPaid'],\n",
    "               marker_color='#0a9396',\n",
    "               offsetgroup=1,\n",
    "               ),\n",
    "        go.Bar(name='Ending Equity (expected)',\n",
    "               x=equityUses_df[\"date\"],\n",
    "               y=(equityUses_df['LY_totalStockholdersEquity']\n",
    "                  + equityUses_df['netIncome']\n",
    "                  + equityUses_df['dividendsPaid']),\n",
    "               marker_color='#41729f',\n",
    "               offsetgroup=2\n",
    "               ),\n",
    "        go.Bar(name='Ending Equity (real)',\n",
    "               x=equityUses_df[\"date\"],\n",
    "               y=equityUses_df['totalStockholdersEquity'],\n",
    "               marker_color='#004369',\n",
    "               offsetgroup=3\n",
    "               )\n",
    "           ])\n",
    "fig.update_layout(barmode='group',\n",
    "                  title=str('Equity Uses for: '+company),\n",
    "                  xaxis_title='Year',\n",
    "                  yaxis_title=('Amount $mm '+currency),\n",
    "                  legend=dict(orientation=\"h\",\n",
    "                              yanchor=\"bottom\",\n",
    "                              y=1.0,\n",
    "                              xanchor=\"right\",\n",
    "                              x=1),\n",
    "                  width=800,\n",
    "                  height=400)\n",
    "\n",
    "fig.update_traces(texttemplate='%{y:.2s}', textposition='inside')\n",
    "fig.write_image(\"images/output/equity_graph.png\", scale=2)\n",
    "\n",
    "print(\"Equity Uses graph created.\\n\")\n",
    "fig.show()"
   ]
  },
  {
   "cell_type": "markdown",
   "id": "87228bc4-b5a0-4f26-b4d2-c456eb3d8b11",
   "metadata": {},
   "source": [
    "<a id=\"statements\"></a>\n",
    "### Create financial statements [*](#index)"
   ]
  },
  {
   "cell_type": "markdown",
   "id": "316d8172-19fb-48fe-bf7b-078d7da60a2d",
   "metadata": {},
   "source": [
    "<a id=\"table_is\"></a>\n",
    "### [Table] Income Statement [*](#index)"
   ]
  },
  {
   "cell_type": "code",
   "execution_count": 15,
   "id": "597c4d26-7a13-4eb5-a833-0d3a14c173df",
   "metadata": {
    "tags": []
   },
   "outputs": [
    {
     "name": "stderr",
     "output_type": "stream",
     "text": [
      "objc[24385]: Class WebSwapCGLLayer is implemented in both /System/Library/Frameworks/WebKit.framework/Versions/A/Frameworks/WebCore.framework/Versions/A/Frameworks/libANGLE-shared.dylib (0x7ffb4e0baec8) and /Applications/Google Chrome.app/Contents/Frameworks/Google Chrome Framework.framework/Versions/105.0.5195.125/Libraries/libGLESv2.dylib (0x11d463e08). One of the two will be used. Which one is undefined.\n",
      "[0914/201347.473079:INFO:headless_shell.cc(660)] Written to file /var/folders/19/wnvvqvbn0vggq7k70tjwn4y40000gn/T/tmp05n7hn1n/temp.png.\n"
     ]
    },
    {
     "name": "stdout",
     "output_type": "stream",
     "text": [
      "Created income statement table.\n",
      "\n"
     ]
    },
    {
     "data": {
      "text/html": [
       "<div>\n",
       "<style scoped>\n",
       "    .dataframe tbody tr th:only-of-type {\n",
       "        vertical-align: middle;\n",
       "    }\n",
       "\n",
       "    .dataframe tbody tr th {\n",
       "        vertical-align: top;\n",
       "    }\n",
       "\n",
       "    .dataframe thead th {\n",
       "        text-align: right;\n",
       "    }\n",
       "</style>\n",
       "<table border=\"1\" class=\"dataframe\">\n",
       "  <thead>\n",
       "    <tr style=\"text-align: right;\">\n",
       "      <th>Year</th>\n",
       "      <th>2017</th>\n",
       "      <th>2018</th>\n",
       "      <th>2019</th>\n",
       "      <th>2020</th>\n",
       "      <th>2021</th>\n",
       "    </tr>\n",
       "  </thead>\n",
       "  <tbody>\n",
       "    <tr>\n",
       "      <th>Revenue</th>\n",
       "      <td>229,234</td>\n",
       "      <td>265,595</td>\n",
       "      <td>260,174</td>\n",
       "      <td>274,515</td>\n",
       "      <td>365,817</td>\n",
       "    </tr>\n",
       "    <tr>\n",
       "      <th>Cost Of Revenue</th>\n",
       "      <td>141,048</td>\n",
       "      <td>163,756</td>\n",
       "      <td>161,782</td>\n",
       "      <td>169,559</td>\n",
       "      <td>212,981</td>\n",
       "    </tr>\n",
       "    <tr>\n",
       "      <th>Gross Profit</th>\n",
       "      <td>88,186</td>\n",
       "      <td>101,839</td>\n",
       "      <td>98,392</td>\n",
       "      <td>104,956</td>\n",
       "      <td>152,836</td>\n",
       "    </tr>\n",
       "    <tr>\n",
       "      <th>Operating Expenses</th>\n",
       "      <td>26,842</td>\n",
       "      <td>30,941</td>\n",
       "      <td>34,462</td>\n",
       "      <td>38,668</td>\n",
       "      <td>43,887</td>\n",
       "    </tr>\n",
       "    <tr>\n",
       "      <th>Operating Income</th>\n",
       "      <td>61,344</td>\n",
       "      <td>70,898</td>\n",
       "      <td>63,930</td>\n",
       "      <td>66,288</td>\n",
       "      <td>108,949</td>\n",
       "    </tr>\n",
       "    <tr>\n",
       "      <th>Net Income</th>\n",
       "      <td>48,351</td>\n",
       "      <td>59,531</td>\n",
       "      <td>55,256</td>\n",
       "      <td>57,411</td>\n",
       "      <td>94,680</td>\n",
       "    </tr>\n",
       "  </tbody>\n",
       "</table>\n",
       "</div>"
      ],
      "text/plain": [
       "Year                   2017     2018     2019     2020     2021\n",
       "Revenue             229,234  265,595  260,174  274,515  365,817\n",
       "Cost Of Revenue     141,048  163,756  161,782  169,559  212,981\n",
       "Gross Profit         88,186  101,839   98,392  104,956  152,836\n",
       "Operating Expenses   26,842   30,941   34,462   38,668   43,887\n",
       "Operating Income     61,344   70,898   63,930   66,288  108,949\n",
       "Net Income           48,351   59,531   55,256   57,411   94,680"
      ]
     },
     "execution_count": 15,
     "metadata": {},
     "output_type": "execute_result"
    }
   ],
   "source": [
    "# Income Statement Table\n",
    "\n",
    "# Copy Income Statement dataframe\n",
    "is_table = is_df.copy(deep=True)\n",
    "\n",
    "# Make the year the index value\n",
    "is_table.set_index('calendarYear', inplace=True)\n",
    "is_table.index.rename('Year', inplace=True)\n",
    "\n",
    "# Drop non used variables\n",
    "is_table.drop(\n",
    "    ['date', 'symbol', 'reportedCurrency', 'cik', 'fillingDate',\n",
    "     'acceptedDate', 'period', 'grossProfitRatio',\n",
    "     'sellingAndMarketingExpenses', 'generalAndAdministrativeExpenses',\n",
    "     'sellingGeneralAndAdministrativeExpenses', 'otherExpenses',\n",
    "     'operatingIncomeRatio', 'costAndExpenses', 'interestIncome',\n",
    "     'depreciationAndAmortization', 'ebitda', 'ebitdaratio',\n",
    "     'totalOtherIncomeExpensesNet', 'incomeBeforeTax', 'incomeBeforeTaxRatio',\n",
    "     'incomeTaxExpense', 'netIncomeRatio', 'eps', 'epsdiluted',\n",
    "     'weightedAverageShsOut', 'weightedAverageShsOutDil', 'link', 'finalLink'\n",
    "     ], axis=1, inplace=True)\n",
    "\n",
    "# Reorder Columns\n",
    "is_table = is_table[['revenue', 'costOfRevenue', 'grossProfit',\n",
    "                     'operatingExpenses', 'operatingIncome', 'netIncome']]\n",
    "\n",
    "# Rename columns as they will appear in image\n",
    "is_table.rename(columns={\n",
    "    'revenue': 'Revenue',\n",
    "    'costOfRevenue': 'Cost Of Revenue',\n",
    "    'grossProfit': 'Gross Profit',\n",
    "    'operatingExpenses': 'Operating Expenses',\n",
    "    'operatingIncome': 'Operating Income',\n",
    "    'netIncome': 'Net Income',\n",
    "    }, inplace=True)\n",
    "\n",
    "# Copy dataframe to create Common Size Income Statement\n",
    "cs_is_table = is_table.copy(deep=True)\n",
    "\n",
    "# Format columns to create the image from the dataframe\n",
    "is_columns = ['Revenue', 'Cost Of Revenue', 'Gross Profit',\n",
    "              'Operating Expenses', 'Operating Income', 'Net Income']\n",
    "\n",
    "# Divide values by one million\n",
    "for column_name in is_columns:\n",
    "    is_table[column_name] = is_table[column_name].div(1_000_000)\n",
    "\n",
    "# Format columns: Turn to string, include commas and remove decimals\n",
    "for column_name in is_columns:\n",
    "    is_table[column_name] = (\n",
    "        pd.Series([f\"{val:,.0f}\"for val in is_table[column_name]],\n",
    "                  index=is_table.index))\n",
    "# Transpose data\n",
    "is_table = is_table.transpose()\n",
    "\n",
    "# Save dataframe as image:\n",
    "is_table.dfi.export('images/output/is_table.png')\n",
    "\n",
    "# Print table name\n",
    "print(\"Created income statement table.\\n\")\n",
    "\n",
    "# Show table\n",
    "is_table"
   ]
  },
  {
   "cell_type": "markdown",
   "id": "69506513-d0b8-4f7d-8199-0bb890f3b38c",
   "metadata": {
    "tags": []
   },
   "source": [
    "<a id=\"table_cs_is\"></a>\n",
    "### [Table] Common Size Income Statement [*](#index)"
   ]
  },
  {
   "cell_type": "code",
   "execution_count": 16,
   "id": "67780d34-f01f-4994-8fd6-16f15f97a312",
   "metadata": {
    "tags": []
   },
   "outputs": [
    {
     "name": "stderr",
     "output_type": "stream",
     "text": [
      "objc[24398]: Class WebSwapCGLLayer is implemented in both /System/Library/Frameworks/WebKit.framework/Versions/A/Frameworks/WebCore.framework/Versions/A/Frameworks/libANGLE-shared.dylib (0x7ffb4e0baec8) and /Applications/Google Chrome.app/Contents/Frameworks/Google Chrome Framework.framework/Versions/105.0.5195.125/Libraries/libGLESv2.dylib (0x10a086e08). One of the two will be used. Which one is undefined.\n"
     ]
    },
    {
     "name": "stdout",
     "output_type": "stream",
     "text": [
      "Created common size income statement table.\n",
      "\n"
     ]
    },
    {
     "name": "stderr",
     "output_type": "stream",
     "text": [
      "[0914/201348.892953:INFO:headless_shell.cc(660)] Written to file /var/folders/19/wnvvqvbn0vggq7k70tjwn4y40000gn/T/tmp9d0hmuah/temp.png.\n"
     ]
    },
    {
     "data": {
      "text/html": [
       "<div>\n",
       "<style scoped>\n",
       "    .dataframe tbody tr th:only-of-type {\n",
       "        vertical-align: middle;\n",
       "    }\n",
       "\n",
       "    .dataframe tbody tr th {\n",
       "        vertical-align: top;\n",
       "    }\n",
       "\n",
       "    .dataframe thead th {\n",
       "        text-align: right;\n",
       "    }\n",
       "</style>\n",
       "<table border=\"1\" class=\"dataframe\">\n",
       "  <thead>\n",
       "    <tr style=\"text-align: right;\">\n",
       "      <th>Year</th>\n",
       "      <th>2017</th>\n",
       "      <th>2018</th>\n",
       "      <th>2019</th>\n",
       "      <th>2020</th>\n",
       "      <th>2021</th>\n",
       "    </tr>\n",
       "  </thead>\n",
       "  <tbody>\n",
       "    <tr>\n",
       "      <th>Revenue</th>\n",
       "      <td>100%</td>\n",
       "      <td>100%</td>\n",
       "      <td>100%</td>\n",
       "      <td>100%</td>\n",
       "      <td>100%</td>\n",
       "    </tr>\n",
       "    <tr>\n",
       "      <th>Cost Of Revenue</th>\n",
       "      <td>62%</td>\n",
       "      <td>62%</td>\n",
       "      <td>62%</td>\n",
       "      <td>62%</td>\n",
       "      <td>58%</td>\n",
       "    </tr>\n",
       "    <tr>\n",
       "      <th>Gross Profit</th>\n",
       "      <td>38%</td>\n",
       "      <td>38%</td>\n",
       "      <td>38%</td>\n",
       "      <td>38%</td>\n",
       "      <td>42%</td>\n",
       "    </tr>\n",
       "    <tr>\n",
       "      <th>Operating Expenses</th>\n",
       "      <td>12%</td>\n",
       "      <td>12%</td>\n",
       "      <td>13%</td>\n",
       "      <td>14%</td>\n",
       "      <td>12%</td>\n",
       "    </tr>\n",
       "    <tr>\n",
       "      <th>Operating Income</th>\n",
       "      <td>27%</td>\n",
       "      <td>27%</td>\n",
       "      <td>25%</td>\n",
       "      <td>24%</td>\n",
       "      <td>30%</td>\n",
       "    </tr>\n",
       "    <tr>\n",
       "      <th>Net Income</th>\n",
       "      <td>21%</td>\n",
       "      <td>22%</td>\n",
       "      <td>21%</td>\n",
       "      <td>21%</td>\n",
       "      <td>26%</td>\n",
       "    </tr>\n",
       "  </tbody>\n",
       "</table>\n",
       "</div>"
      ],
      "text/plain": [
       "Year                2017  2018  2019  2020  2021\n",
       "Revenue             100%  100%  100%  100%  100%\n",
       "Cost Of Revenue      62%   62%   62%   62%   58%\n",
       "Gross Profit         38%   38%   38%   38%   42%\n",
       "Operating Expenses   12%   12%   13%   14%   12%\n",
       "Operating Income     27%   27%   25%   24%   30%\n",
       "Net Income           21%   22%   21%   21%   26%"
      ]
     },
     "execution_count": 16,
     "metadata": {},
     "output_type": "execute_result"
    }
   ],
   "source": [
    "# Common Size Income Statement Table\n",
    "\n",
    "# Transform values to Common Size (Percentage of Revenue)\n",
    "# Revenue must be the last item on the list\n",
    "cs_is_columns = ['Cost Of Revenue', 'Gross Profit', 'Operating Expenses',\n",
    "                 'Operating Income', 'Net Income', 'Revenue']\n",
    "\n",
    "# Divide values by Revenue\n",
    "for column in cs_is_columns:\n",
    "    cs_is_table[column] = (\n",
    "        round(((cs_is_table[column]/cs_is_table['Revenue'])*100), 0))\n",
    "\n",
    "# Format columns: Turn to string and format as percentage %\n",
    "for column in cs_is_columns:\n",
    "    cs_is_table[column] = (\n",
    "        pd.Series([\"{0:.0f}%\".format(val) for val in cs_is_table[column]],\n",
    "                  index=cs_is_table.index))\n",
    "# Transpose data\n",
    "cs_is_table = cs_is_table.transpose()\n",
    "\n",
    "# Save dataframe as image:\n",
    "cs_is_table.dfi.export('images/output/is_table_cs.png')\n",
    "\n",
    "# Print table name\n",
    "print(\"Created common size income statement table.\\n\")\n",
    "\n",
    "# Show table\n",
    "cs_is_table"
   ]
  },
  {
   "cell_type": "markdown",
   "id": "bfdea31b-d751-4c5f-b209-a5e67f02db02",
   "metadata": {},
   "source": [
    "<a id=\"table_bs\"></a>\n",
    "### [Table] Balance Sheet [*](#index)"
   ]
  },
  {
   "cell_type": "code",
   "execution_count": 17,
   "id": "782e8c0c-1956-4168-a73f-1f14a7f5f34d",
   "metadata": {},
   "outputs": [
    {
     "name": "stderr",
     "output_type": "stream",
     "text": [
      "objc[24410]: Class WebSwapCGLLayer is implemented in both /System/Library/Frameworks/WebKit.framework/Versions/A/Frameworks/WebCore.framework/Versions/A/Frameworks/libANGLE-shared.dylib (0x7ffb4e0baec8) and /Applications/Google Chrome.app/Contents/Frameworks/Google Chrome Framework.framework/Versions/105.0.5195.125/Libraries/libGLESv2.dylib (0x10cb94e08). One of the two will be used. Which one is undefined.\n",
      "[0914/201350.158766:INFO:headless_shell.cc(660)] Written to file /var/folders/19/wnvvqvbn0vggq7k70tjwn4y40000gn/T/tmpih78lhi_/temp.png.\n"
     ]
    },
    {
     "name": "stdout",
     "output_type": "stream",
     "text": [
      "Created balance sheet table.\n",
      "\n"
     ]
    },
    {
     "data": {
      "text/html": [
       "<div>\n",
       "<style scoped>\n",
       "    .dataframe tbody tr th:only-of-type {\n",
       "        vertical-align: middle;\n",
       "    }\n",
       "\n",
       "    .dataframe tbody tr th {\n",
       "        vertical-align: top;\n",
       "    }\n",
       "\n",
       "    .dataframe thead th {\n",
       "        text-align: right;\n",
       "    }\n",
       "</style>\n",
       "<table border=\"1\" class=\"dataframe\">\n",
       "  <thead>\n",
       "    <tr style=\"text-align: right;\">\n",
       "      <th>Year</th>\n",
       "      <th>2017</th>\n",
       "      <th>2018</th>\n",
       "      <th>2019</th>\n",
       "      <th>2020</th>\n",
       "      <th>2021</th>\n",
       "    </tr>\n",
       "  </thead>\n",
       "  <tbody>\n",
       "    <tr>\n",
       "      <th>Cur Assets</th>\n",
       "      <td>128,645</td>\n",
       "      <td>131,339</td>\n",
       "      <td>162,819</td>\n",
       "      <td>143,713</td>\n",
       "      <td>134,836</td>\n",
       "    </tr>\n",
       "    <tr>\n",
       "      <th>LT Asset</th>\n",
       "      <td>246,674</td>\n",
       "      <td>234,386</td>\n",
       "      <td>175,697</td>\n",
       "      <td>180,175</td>\n",
       "      <td>216,166</td>\n",
       "    </tr>\n",
       "    <tr>\n",
       "      <th>Total Assets</th>\n",
       "      <td>375,319</td>\n",
       "      <td>365,725</td>\n",
       "      <td>338,516</td>\n",
       "      <td>323,888</td>\n",
       "      <td>351,002</td>\n",
       "    </tr>\n",
       "    <tr>\n",
       "      <th>Cur Liabilities</th>\n",
       "      <td>100,814</td>\n",
       "      <td>116,866</td>\n",
       "      <td>105,718</td>\n",
       "      <td>105,392</td>\n",
       "      <td>125,481</td>\n",
       "    </tr>\n",
       "    <tr>\n",
       "      <th>LT Liabilities</th>\n",
       "      <td>140,458</td>\n",
       "      <td>141,712</td>\n",
       "      <td>142,310</td>\n",
       "      <td>153,157</td>\n",
       "      <td>162,431</td>\n",
       "    </tr>\n",
       "    <tr>\n",
       "      <th>Total Liab</th>\n",
       "      <td>241,272</td>\n",
       "      <td>258,578</td>\n",
       "      <td>248,028</td>\n",
       "      <td>258,549</td>\n",
       "      <td>287,912</td>\n",
       "    </tr>\n",
       "    <tr>\n",
       "      <th>SH Equity</th>\n",
       "      <td>134,047</td>\n",
       "      <td>107,147</td>\n",
       "      <td>90,488</td>\n",
       "      <td>65,339</td>\n",
       "      <td>63,090</td>\n",
       "    </tr>\n",
       "  </tbody>\n",
       "</table>\n",
       "</div>"
      ],
      "text/plain": [
       "Year                2017     2018     2019     2020     2021\n",
       "Cur Assets       128,645  131,339  162,819  143,713  134,836\n",
       "LT Asset         246,674  234,386  175,697  180,175  216,166\n",
       "Total Assets     375,319  365,725  338,516  323,888  351,002\n",
       "Cur Liabilities  100,814  116,866  105,718  105,392  125,481\n",
       "LT Liabilities   140,458  141,712  142,310  153,157  162,431\n",
       "Total Liab       241,272  258,578  248,028  258,549  287,912\n",
       "SH Equity        134,047  107,147   90,488   65,339   63,090"
      ]
     },
     "execution_count": 17,
     "metadata": {},
     "output_type": "execute_result"
    }
   ],
   "source": [
    "# Balance Sheet Table\n",
    "\n",
    "# Copy income statement dataframe\n",
    "bs_table = bs_df.copy(deep=True)\n",
    "\n",
    "# Make the year the index value\n",
    "bs_table.set_index('calendarYear', inplace=True)\n",
    "bs_table.index.rename('Year', inplace=True)\n",
    "\n",
    "# Drop non used variables\n",
    "bs_table.drop(\n",
    "    ['date', 'symbol', 'reportedCurrency', 'cik', 'fillingDate',\n",
    "     'acceptedDate', 'period', 'cashAndCashEquivalents',\n",
    "     'shortTermInvestments', 'cashAndShortTermInvestments',\n",
    "     'netReceivables', 'inventory', 'otherCurrentAssets',\n",
    "     'propertyPlantEquipmentNet', 'goodwill', 'intangibleAssets',\n",
    "     'goodwillAndIntangibleAssets', 'longTermInvestments', 'taxAssets',\n",
    "     'otherNonCurrentAssets', 'otherAssets', 'accountPayables',\n",
    "     'shortTermDebt', 'taxPayables', 'deferredRevenue',\n",
    "     'otherCurrentLiabilities', 'longTermDebt', 'deferredRevenueNonCurrent',\n",
    "     'deferredTaxLiabilitiesNonCurrent', 'otherNonCurrentLiabilities',\n",
    "     'otherLiabilities', 'capitalLeaseObligations', 'preferredStock',\n",
    "     'commonStock', 'retainedEarnings',\n",
    "     'accumulatedOtherComprehensiveIncomeLoss', 'othertotalStockholdersEquity',\n",
    "     'totalLiabilitiesAndStockholdersEquity', 'minorityInterest',\n",
    "     'totalEquity', 'totalLiabilitiesAndTotalEquity',\n",
    "     'totalInvestments', 'totalDebt', 'netDebt', 'link', 'finalLink'\n",
    "     ], axis=1, inplace=True)\n",
    "\n",
    "# Rename columns as they will appear in image\n",
    "bs_table.rename(columns={\n",
    "    'totalCurrentAssets': 'Cur Assets',\n",
    "    'totalNonCurrentAssets': 'LT Asset',\n",
    "    'totalAssets': 'Total Assets',\n",
    "    'totalCurrentLiabilities': 'Cur Liabilities',\n",
    "    'totalNonCurrentLiabilities': 'LT Liabilities',\n",
    "    'totalLiabilities': 'Total Liab',\n",
    "    'totalStockholdersEquity': 'SH Equity',\n",
    "    }, inplace=True)\n",
    "\n",
    "# Copy dataframe to create common size income statement\n",
    "cs_bs_table = bs_table.copy(deep=True)\n",
    "\n",
    "# Format columns to create the image from the dataframe\n",
    "bs_columns = ['Cur Assets', 'LT Asset', 'Total Assets',\n",
    "              'Cur Liabilities', 'LT Liabilities', 'Total Liab',\n",
    "              'SH Equity']\n",
    "\n",
    "# Divide values by one million\n",
    "for column_name in bs_columns:\n",
    "    bs_table[column_name] = bs_table[column_name].div(1_000_000)\n",
    "\n",
    "# Format columns: Turn to string, include commas and remove decimals\n",
    "for column_name in bs_columns:\n",
    "    bs_table[column_name] = (\n",
    "        pd.Series([f\"{val:,.0f}\"for val in bs_table[column_name]],\n",
    "                  index=bs_table.index))\n",
    "\n",
    "# Transpose data\n",
    "bs_table = bs_table.transpose()\n",
    "\n",
    "# Save dataframe as image:\n",
    "bs_table.dfi.export('images/output/bs_table.png')\n",
    "\n",
    "# Print table name\n",
    "print(\"Created balance sheet table.\\n\")\n",
    "\n",
    "# Show table\n",
    "bs_table"
   ]
  },
  {
   "cell_type": "markdown",
   "id": "9a392e5a-b852-4abd-8d5a-12874149863d",
   "metadata": {},
   "source": [
    "<a id=\"table_cs_bs\"></a>\n",
    "### [Table] Common Size Balance Sheet [*](#index)"
   ]
  },
  {
   "cell_type": "code",
   "execution_count": 18,
   "id": "dd16b3a8-6890-49e8-8b57-abf3de93a99b",
   "metadata": {},
   "outputs": [
    {
     "name": "stderr",
     "output_type": "stream",
     "text": [
      "objc[24419]: Class WebSwapCGLLayer is implemented in both /System/Library/Frameworks/WebKit.framework/Versions/A/Frameworks/WebCore.framework/Versions/A/Frameworks/libANGLE-shared.dylib (0x7ffb4e0baec8) and /Applications/Google Chrome.app/Contents/Frameworks/Google Chrome Framework.framework/Versions/105.0.5195.125/Libraries/libGLESv2.dylib (0x116124e08). One of the two will be used. Which one is undefined.\n"
     ]
    },
    {
     "name": "stdout",
     "output_type": "stream",
     "text": [
      "Created common size balance sheet table.\n",
      "\n"
     ]
    },
    {
     "name": "stderr",
     "output_type": "stream",
     "text": [
      "[0914/201351.529496:INFO:headless_shell.cc(660)] Written to file /var/folders/19/wnvvqvbn0vggq7k70tjwn4y40000gn/T/tmpcbegh121/temp.png.\n"
     ]
    },
    {
     "data": {
      "text/html": [
       "<div>\n",
       "<style scoped>\n",
       "    .dataframe tbody tr th:only-of-type {\n",
       "        vertical-align: middle;\n",
       "    }\n",
       "\n",
       "    .dataframe tbody tr th {\n",
       "        vertical-align: top;\n",
       "    }\n",
       "\n",
       "    .dataframe thead th {\n",
       "        text-align: right;\n",
       "    }\n",
       "</style>\n",
       "<table border=\"1\" class=\"dataframe\">\n",
       "  <thead>\n",
       "    <tr style=\"text-align: right;\">\n",
       "      <th>Year</th>\n",
       "      <th>2017</th>\n",
       "      <th>2018</th>\n",
       "      <th>2019</th>\n",
       "      <th>2020</th>\n",
       "      <th>2021</th>\n",
       "    </tr>\n",
       "  </thead>\n",
       "  <tbody>\n",
       "    <tr>\n",
       "      <th>Cur Assets</th>\n",
       "      <td>34%</td>\n",
       "      <td>36%</td>\n",
       "      <td>48%</td>\n",
       "      <td>44%</td>\n",
       "      <td>38%</td>\n",
       "    </tr>\n",
       "    <tr>\n",
       "      <th>LT Asset</th>\n",
       "      <td>66%</td>\n",
       "      <td>64%</td>\n",
       "      <td>52%</td>\n",
       "      <td>56%</td>\n",
       "      <td>62%</td>\n",
       "    </tr>\n",
       "    <tr>\n",
       "      <th>Total Assets</th>\n",
       "      <td>100%</td>\n",
       "      <td>100%</td>\n",
       "      <td>100%</td>\n",
       "      <td>100%</td>\n",
       "      <td>100%</td>\n",
       "    </tr>\n",
       "    <tr>\n",
       "      <th>Cur Liabilities</th>\n",
       "      <td>27%</td>\n",
       "      <td>32%</td>\n",
       "      <td>31%</td>\n",
       "      <td>33%</td>\n",
       "      <td>36%</td>\n",
       "    </tr>\n",
       "    <tr>\n",
       "      <th>LT Liabilities</th>\n",
       "      <td>37%</td>\n",
       "      <td>39%</td>\n",
       "      <td>42%</td>\n",
       "      <td>47%</td>\n",
       "      <td>46%</td>\n",
       "    </tr>\n",
       "    <tr>\n",
       "      <th>Total Liab</th>\n",
       "      <td>64%</td>\n",
       "      <td>71%</td>\n",
       "      <td>73%</td>\n",
       "      <td>80%</td>\n",
       "      <td>82%</td>\n",
       "    </tr>\n",
       "    <tr>\n",
       "      <th>SH Equity</th>\n",
       "      <td>36%</td>\n",
       "      <td>29%</td>\n",
       "      <td>27%</td>\n",
       "      <td>20%</td>\n",
       "      <td>18%</td>\n",
       "    </tr>\n",
       "  </tbody>\n",
       "</table>\n",
       "</div>"
      ],
      "text/plain": [
       "Year             2017  2018  2019  2020  2021\n",
       "Cur Assets        34%   36%   48%   44%   38%\n",
       "LT Asset          66%   64%   52%   56%   62%\n",
       "Total Assets     100%  100%  100%  100%  100%\n",
       "Cur Liabilities   27%   32%   31%   33%   36%\n",
       "LT Liabilities    37%   39%   42%   47%   46%\n",
       "Total Liab        64%   71%   73%   80%   82%\n",
       "SH Equity         36%   29%   27%   20%   18%"
      ]
     },
     "execution_count": 18,
     "metadata": {},
     "output_type": "execute_result"
    }
   ],
   "source": [
    "# Common Size Balance Sheet Table\n",
    "\n",
    "# Transform values to Common Size (Percentage of Assets)\n",
    "# Assets must be the last item on the list\n",
    "cs_bs_columns = ['Cur Assets', 'LT Asset', 'Cur Liabilities',\n",
    "                 'LT Liabilities', 'Total Liab', 'SH Equity',\n",
    "                 'Total Assets']\n",
    "\n",
    "# Divide values by Total Assets value\n",
    "for column in cs_bs_columns:\n",
    "    cs_bs_table[column] = (\n",
    "        round(((cs_bs_table[column]/cs_bs_table['Total Assets'])*100), 0))\n",
    "\n",
    "# Format columns: Turn to string and format as percentage %\n",
    "for column in cs_bs_columns:\n",
    "    cs_bs_table[column] = (\n",
    "        pd.Series([\"{0:.0f}%\".format(val) for val in cs_bs_table[column]],\n",
    "                  index=cs_bs_table.index))\n",
    "# Transpose data\n",
    "cs_bs_table = cs_bs_table.transpose()\n",
    "\n",
    "# Save dataframe as image:\n",
    "cs_bs_table.dfi.export('images/output/bs_table_cs.png')\n",
    "\n",
    "# Print table name\n",
    "print(\"Created common size balance sheet table.\\n\")\n",
    "\n",
    "# Show table\n",
    "cs_bs_table"
   ]
  },
  {
   "cell_type": "markdown",
   "id": "a78a2d13-6492-4e49-9414-598efdfdcca9",
   "metadata": {},
   "source": [
    "<a id=\"table_cf\"></a>\n",
    "### [Table] Cash Flow Statement [*](#index)"
   ]
  },
  {
   "cell_type": "code",
   "execution_count": 19,
   "id": "de491597-46e8-4d60-8c37-a38d742ecc7c",
   "metadata": {},
   "outputs": [
    {
     "name": "stderr",
     "output_type": "stream",
     "text": [
      "objc[24435]: Class WebSwapCGLLayer is implemented in both /System/Library/Frameworks/WebKit.framework/Versions/A/Frameworks/WebCore.framework/Versions/A/Frameworks/libANGLE-shared.dylib (0x7ffb4e0baec8) and /Applications/Google Chrome.app/Contents/Frameworks/Google Chrome Framework.framework/Versions/105.0.5195.125/Libraries/libGLESv2.dylib (0x11021fe08). One of the two will be used. Which one is undefined.\n",
      "[0914/201353.593008:INFO:headless_shell.cc(660)] Written to file /var/folders/19/wnvvqvbn0vggq7k70tjwn4y40000gn/T/tmpswalcdtl/temp.png.\n"
     ]
    },
    {
     "name": "stdout",
     "output_type": "stream",
     "text": [
      "Created cash flow statement table.\n",
      "\n"
     ]
    },
    {
     "data": {
      "text/html": [
       "<div>\n",
       "<style scoped>\n",
       "    .dataframe tbody tr th:only-of-type {\n",
       "        vertical-align: middle;\n",
       "    }\n",
       "\n",
       "    .dataframe tbody tr th {\n",
       "        vertical-align: top;\n",
       "    }\n",
       "\n",
       "    .dataframe thead th {\n",
       "        text-align: right;\n",
       "    }\n",
       "</style>\n",
       "<table border=\"1\" class=\"dataframe\">\n",
       "  <thead>\n",
       "    <tr style=\"text-align: right;\">\n",
       "      <th>Year</th>\n",
       "      <th>2017</th>\n",
       "      <th>2018</th>\n",
       "      <th>2019</th>\n",
       "      <th>2020</th>\n",
       "      <th>2021</th>\n",
       "    </tr>\n",
       "  </thead>\n",
       "  <tbody>\n",
       "    <tr>\n",
       "      <th>CF Operating Activities</th>\n",
       "      <td>63,598</td>\n",
       "      <td>77,434</td>\n",
       "      <td>69,391</td>\n",
       "      <td>80,674</td>\n",
       "      <td>104,038</td>\n",
       "    </tr>\n",
       "    <tr>\n",
       "      <th>CF Investing Activities</th>\n",
       "      <td>-46,446</td>\n",
       "      <td>16,066</td>\n",
       "      <td>45,896</td>\n",
       "      <td>-4,289</td>\n",
       "      <td>-14,545</td>\n",
       "    </tr>\n",
       "    <tr>\n",
       "      <th>CF Financing Activities</th>\n",
       "      <td>-17,347</td>\n",
       "      <td>-87,876</td>\n",
       "      <td>-90,976</td>\n",
       "      <td>-86,820</td>\n",
       "      <td>-93,353</td>\n",
       "    </tr>\n",
       "    <tr>\n",
       "      <th>Change in cash</th>\n",
       "      <td>-195</td>\n",
       "      <td>5,624</td>\n",
       "      <td>24,311</td>\n",
       "      <td>-10,435</td>\n",
       "      <td>-3,860</td>\n",
       "    </tr>\n",
       "    <tr>\n",
       "      <th>Cash end of period</th>\n",
       "      <td>20,289</td>\n",
       "      <td>25,913</td>\n",
       "      <td>50,224</td>\n",
       "      <td>39,789</td>\n",
       "      <td>35,929</td>\n",
       "    </tr>\n",
       "    <tr>\n",
       "      <th>Cash beggining of period</th>\n",
       "      <td>20,484</td>\n",
       "      <td>20,289</td>\n",
       "      <td>25,913</td>\n",
       "      <td>50,224</td>\n",
       "      <td>39,789</td>\n",
       "    </tr>\n",
       "  </tbody>\n",
       "</table>\n",
       "</div>"
      ],
      "text/plain": [
       "Year                         2017     2018     2019     2020     2021\n",
       "CF Operating Activities    63,598   77,434   69,391   80,674  104,038\n",
       "CF Investing Activities   -46,446   16,066   45,896   -4,289  -14,545\n",
       "CF Financing Activities   -17,347  -87,876  -90,976  -86,820  -93,353\n",
       "Change in cash               -195    5,624   24,311  -10,435   -3,860\n",
       "Cash end of period         20,289   25,913   50,224   39,789   35,929\n",
       "Cash beggining of period   20,484   20,289   25,913   50,224   39,789"
      ]
     },
     "execution_count": 19,
     "metadata": {},
     "output_type": "execute_result"
    }
   ],
   "source": [
    "# Cash Flow Statment Table\n",
    "\n",
    "# Copy income statement dataframe\n",
    "cf_table = cf_df.copy(deep=True)\n",
    "\n",
    "# Make the year the index value\n",
    "cf_table.set_index('calendarYear', inplace=True)\n",
    "cf_table.index.rename('Year', inplace=True)\n",
    "\n",
    "# Drop non used variables\n",
    "cf_table.drop(\n",
    "    ['date', 'symbol', 'reportedCurrency', 'cik',\n",
    "     'fillingDate', 'acceptedDate',\n",
    "     'period', 'netIncome', 'depreciationAndAmortization',\n",
    "     'deferredIncomeTax', 'stockBasedCompensation',\n",
    "     'changeInWorkingCapital', 'accountsReceivables',\n",
    "     'inventory', 'accountsPayables', 'otherWorkingCapital',\n",
    "     'otherNonCashItems', 'investmentsInPropertyPlantAndEquipment',\n",
    "     'acquisitionsNet', 'purchasesOfInvestments',\n",
    "     'salesMaturitiesOfInvestments', 'otherInvestingActivites',\n",
    "     'debtRepayment', 'commonStockIssued',\n",
    "     'commonStockRepurchased', 'dividendsPaid',\n",
    "     'otherFinancingActivites', 'effectOfForexChangesOnCash',\n",
    "     'operatingCashFlow', 'capitalExpenditure',\n",
    "     'freeCashFlow', 'link', 'finalLink'\n",
    "     ], axis=1, inplace=True)\n",
    "\n",
    "# Rename columns as they will appear in image\n",
    "cf_table.rename(columns={\n",
    "    'netCashProvidedByOperatingActivities': 'CF Operating Activities',\n",
    "    'netCashUsedForInvestingActivites': 'CF Investing Activities',\n",
    "    'netCashUsedProvidedByFinancingActivities': 'CF Financing Activities',\n",
    "    'netChangeInCash': 'Change in cash',\n",
    "    'cashAtEndOfPeriod': 'Cash end of period',\n",
    "    'cashAtBeginningOfPeriod': 'Cash beggining of period',\n",
    "    }, inplace=True)\n",
    "\n",
    "# Format columns to create the image from the dataframe\n",
    "cf_columns = ['CF Operating Activities', 'CF Investing Activities',\n",
    "              'CF Financing Activities', 'Change in cash',\n",
    "              'Cash end of period', 'Cash beggining of period']\n",
    "\n",
    "# Divide values by one million\n",
    "for column_name in cf_columns:\n",
    "    cf_table[column_name] = cf_table[column_name].div(1_000_000)\n",
    "\n",
    "# Format columns: Turn to string, include commas and remove decimals\n",
    "for column_name in cf_columns:\n",
    "    cf_table[column_name] = (\n",
    "        pd.Series([f\"{val:,.0f}\"for val in cf_table[column_name]],\n",
    "                  index=cf_table.index))\n",
    "\n",
    "# Transpose data\n",
    "cf_table = cf_table.transpose()\n",
    "\n",
    "# Save dataframe as image:\n",
    "cf_table.dfi.export('images/output/cf_table.png')\n",
    "\n",
    "# Print table name\n",
    "print(\"Created cash flow statement table.\\n\")\n",
    "\n",
    "# Show table\n",
    "cf_table"
   ]
  },
  {
   "cell_type": "markdown",
   "id": "1eec1e29-5dc8-426e-a798-dc40b224712c",
   "metadata": {},
   "source": [
    "<a id=\"metrics\"></a>\n",
    "### Create Key Metrics tables [*](#index)"
   ]
  },
  {
   "cell_type": "markdown",
   "id": "fe3fb14a-1971-471b-b58a-21384a843c7d",
   "metadata": {},
   "source": [
    "<a id=\"table_market\"></a>\n",
    "### [Table] Market Ratios [*](#index)"
   ]
  },
  {
   "cell_type": "code",
   "execution_count": 20,
   "id": "1e5973b8-01c6-40ee-804c-320c60a48bc8",
   "metadata": {},
   "outputs": [
    {
     "name": "stderr",
     "output_type": "stream",
     "text": [
      "objc[24450]: Class WebSwapCGLLayer is implemented in both /System/Library/Frameworks/WebKit.framework/Versions/A/Frameworks/WebCore.framework/Versions/A/Frameworks/libANGLE-shared.dylib (0x7ffb4e0baec8) and /Applications/Google Chrome.app/Contents/Frameworks/Google Chrome Framework.framework/Versions/105.0.5195.125/Libraries/libGLESv2.dylib (0x10d086e08). One of the two will be used. Which one is undefined.\n"
     ]
    },
    {
     "name": "stdout",
     "output_type": "stream",
     "text": [
      "Created Market Ratios Table.\n",
      "\n"
     ]
    },
    {
     "name": "stderr",
     "output_type": "stream",
     "text": [
      "[0914/201354.897616:INFO:headless_shell.cc(660)] Written to file /var/folders/19/wnvvqvbn0vggq7k70tjwn4y40000gn/T/tmpkxcg_iti/temp.png.\n"
     ]
    },
    {
     "data": {
      "text/html": [
       "<div>\n",
       "<style scoped>\n",
       "    .dataframe tbody tr th:only-of-type {\n",
       "        vertical-align: middle;\n",
       "    }\n",
       "\n",
       "    .dataframe tbody tr th {\n",
       "        vertical-align: top;\n",
       "    }\n",
       "\n",
       "    .dataframe thead th {\n",
       "        text-align: right;\n",
       "    }\n",
       "</style>\n",
       "<table border=\"1\" class=\"dataframe\">\n",
       "  <thead>\n",
       "    <tr style=\"text-align: right;\">\n",
       "      <th>Date</th>\n",
       "      <th>2017</th>\n",
       "      <th>2018</th>\n",
       "      <th>2019</th>\n",
       "      <th>2020</th>\n",
       "      <th>2021</th>\n",
       "    </tr>\n",
       "  </thead>\n",
       "  <tbody>\n",
       "    <tr>\n",
       "      <th>Price to Book Ratio</th>\n",
       "      <td>6</td>\n",
       "      <td>10</td>\n",
       "      <td>13</td>\n",
       "      <td>31</td>\n",
       "      <td>39</td>\n",
       "    </tr>\n",
       "    <tr>\n",
       "      <th>Price to Sales Ratio</th>\n",
       "      <td>4</td>\n",
       "      <td>4</td>\n",
       "      <td>4</td>\n",
       "      <td>7</td>\n",
       "      <td>7</td>\n",
       "    </tr>\n",
       "    <tr>\n",
       "      <th>Price to Earnings Ratio</th>\n",
       "      <td>18</td>\n",
       "      <td>18</td>\n",
       "      <td>21</td>\n",
       "      <td>35</td>\n",
       "      <td>26</td>\n",
       "    </tr>\n",
       "    <tr>\n",
       "      <th>Price to Operating Cashflow Ratio</th>\n",
       "      <td>14</td>\n",
       "      <td>14</td>\n",
       "      <td>17</td>\n",
       "      <td>25</td>\n",
       "      <td>24</td>\n",
       "    </tr>\n",
       "    <tr>\n",
       "      <th>Enterprise Value Multiple</th>\n",
       "      <td>13</td>\n",
       "      <td>13</td>\n",
       "      <td>15</td>\n",
       "      <td>26</td>\n",
       "      <td>21</td>\n",
       "    </tr>\n",
       "    <tr>\n",
       "      <th>Price to Fair Value</th>\n",
       "      <td>6</td>\n",
       "      <td>10</td>\n",
       "      <td>13</td>\n",
       "      <td>31</td>\n",
       "      <td>39</td>\n",
       "    </tr>\n",
       "    <tr>\n",
       "      <th>Dividend Yield</th>\n",
       "      <td>1.5%</td>\n",
       "      <td>1.3%</td>\n",
       "      <td>1.2%</td>\n",
       "      <td>0.7%</td>\n",
       "      <td>0.6%</td>\n",
       "    </tr>\n",
       "    <tr>\n",
       "      <th>Earnings Yield</th>\n",
       "      <td>5.6%</td>\n",
       "      <td>5.7%</td>\n",
       "      <td>4.8%</td>\n",
       "      <td>2.9%</td>\n",
       "      <td>3.8%</td>\n",
       "    </tr>\n",
       "  </tbody>\n",
       "</table>\n",
       "</div>"
      ],
      "text/plain": [
       "Date                               2017  2018  2019  2020  2021\n",
       "Price to Book Ratio                   6    10    13    31    39\n",
       "Price to Sales Ratio                  4     4     4     7     7\n",
       "Price to Earnings Ratio              18    18    21    35    26\n",
       "Price to Operating Cashflow Ratio    14    14    17    25    24\n",
       "Enterprise Value Multiple            13    13    15    26    21\n",
       "Price to Fair Value                   6    10    13    31    39\n",
       "Dividend Yield                     1.5%  1.3%  1.2%  0.7%  0.6%\n",
       "Earnings Yield                     5.6%  5.7%  4.8%  2.9%  3.8%"
      ]
     },
     "execution_count": 20,
     "metadata": {},
     "output_type": "execute_result"
    }
   ],
   "source": [
    "# Market Ratios Table\n",
    "\n",
    "# Copy ratios statement dataframe\n",
    "mratios_table = ratios_df.copy(deep=True)\n",
    "mratios_table.sort_index(ascending=False, inplace=True)\n",
    "\n",
    "# If dividendYield is None replace with 0\n",
    "mratios_table['dividendYield'].replace([None], 0, inplace=True)\n",
    "\n",
    "# If dividendYield is String replace as Float\n",
    "mratios_table['dividendYield'] = mratios_table['dividendYield'].astype(float)\n",
    "\n",
    "# Add Earnings Yield to table\n",
    "mratios_table['Earnings Yield'] = (1 / mratios_table['priceEarningsRatio'])\n",
    "\n",
    "# Transform date column from string to datetime\n",
    "# Display only the year from the date column\n",
    "mratios_table['date'] = pd.to_datetime(mratios_table['date'])\n",
    "mratios_table['date'] = mratios_table['date'].dt.year\n",
    "\n",
    "# Get defined amount of years\n",
    "mratios_table = mratios_table.iloc[-years:]\n",
    "\n",
    "# Make date the index value\n",
    "mratios_table.set_index('date', inplace=True)\n",
    "mratios_table.index.rename('Date', inplace=True)\n",
    "\n",
    "# Drop non used variables\n",
    "mratios_table.drop(\n",
    "    ['symbol', 'period', 'currentRatio', 'quickRatio',\n",
    "     'cashRatio', 'daysOfSalesOutstanding',\n",
    "     'daysOfInventoryOutstanding', 'operatingCycle',\n",
    "     'daysOfPayablesOutstanding', 'cashConversionCycle',\n",
    "     'grossProfitMargin', 'operatingProfitMargin',\n",
    "     'pretaxProfitMargin', 'netProfitMargin',\n",
    "     'effectiveTaxRate', 'returnOnAssets',\n",
    "     'returnOnEquity', 'returnOnCapitalEmployed',\n",
    "     'netIncomePerEBT', 'ebtPerEbit', 'ebitPerRevenue',\n",
    "     'debtRatio', 'debtEquityRatio',\n",
    "     'longTermDebtToCapitalization', 'totalDebtToCapitalization',\n",
    "     'interestCoverage', 'cashFlowToDebtRatio',\n",
    "     'companyEquityMultiplier', 'receivablesTurnover',\n",
    "     'payablesTurnover', 'inventoryTurnover',\n",
    "     'fixedAssetTurnover', 'assetTurnover',\n",
    "     'operatingCashFlowPerShare', 'freeCashFlowPerShare',\n",
    "     'cashPerShare', 'payoutRatio', 'operatingCashFlowSalesRatio',\n",
    "     'freeCashFlowOperatingCashFlowRatio', 'cashFlowCoverageRatios',\n",
    "     'shortTermCoverageRatios', 'capitalExpenditureCoverageRatio',\n",
    "     'dividendPaidAndCapexCoverageRatio', 'dividendPayoutRatio',\n",
    "     'priceBookValueRatio', 'priceCashFlowRatio',\n",
    "     'priceEarningsToGrowthRatio', 'priceSalesRatio',\n",
    "     ], axis=1, inplace=True)\n",
    "\n",
    "# Rename columns as they will appear in image\n",
    "mratios_table.rename(columns={\n",
    "    'priceToBookRatio': 'Price to Book Ratio',\n",
    "    'priceToSalesRatio': 'Price to Sales Ratio',\n",
    "    'priceEarningsRatio': 'Price to Earnings Ratio',\n",
    "    'priceToOperatingCashFlowsRatio': 'Price to Operating Cashflow Ratio',\n",
    "    'priceToFreeCashFlowsRatio': 'Price to Free Cashflow Ratio',\n",
    "    'dividendYield': 'Dividend Yield',\n",
    "    'enterpriseValueMultiple': 'Enterprise Value Multiple',\n",
    "    'priceFairValue': 'Price to Fair Value',\n",
    "    }, inplace=True)\n",
    "\n",
    "# Format columns: Turn to string, include commas, and remove decimals\n",
    "mratios_columns = ['Price to Book Ratio', 'Price to Sales Ratio',\n",
    "                   'Price to Earnings Ratio',\n",
    "                   'Price to Operating Cashflow Ratio',\n",
    "                   'Price to Free Cashflow Ratio',\n",
    "                   'Enterprise Value Multiple', 'Price to Fair Value']\n",
    "for column_name in mratios_columns:\n",
    "    mratios_table[column_name] = (\n",
    "        pd.Series([f\"{val:,.0f}\"for val in mratios_table[column_name]],\n",
    "                  index=mratios_table.index))\n",
    "\n",
    "# Format columns: Turn to string and format as percentage %\n",
    "mratios_columnsP = ['Dividend Yield', 'Earnings Yield']\n",
    "for column_name in mratios_columnsP:\n",
    "    mratios_table[column_name] = mratios_table[column_name].multiply(100)\n",
    "    mratios_table[column_name] = (\n",
    "        pd.Series([\"{0:.1f}%\".format(val) for val in mratios_table[column_name]],\n",
    "                  index=mratios_table.index))\n",
    "\n",
    "# Reorder Columns\n",
    "mratios_table = mratios_table[[\n",
    "    'Price to Book Ratio',\n",
    "    'Price to Sales Ratio',\n",
    "    'Price to Earnings Ratio',\n",
    "    'Price to Operating Cashflow Ratio',\n",
    "    'Enterprise Value Multiple',\n",
    "    'Price to Fair Value',\n",
    "    'Dividend Yield',\n",
    "    'Earnings Yield']]\n",
    "\n",
    "# Transpose data\n",
    "mratios_table = mratios_table.transpose()\n",
    "\n",
    "# Save dataframe as image:\n",
    "mratios_table.dfi.export('images/output/market_ratios_table.png')\n",
    "\n",
    "# Print table name\n",
    "print(\"Created Market Ratios Table.\\n\")\n",
    "\n",
    "# Show table\n",
    "mratios_table"
   ]
  },
  {
   "cell_type": "markdown",
   "id": "509af5de-7c22-46fd-9608-6a07dadd0418",
   "metadata": {},
   "source": [
    "<a id=\"table_debt\"></a>\n",
    "### [Table] Debt, Liquidity and Solvency Ratios [*](#index)"
   ]
  },
  {
   "cell_type": "code",
   "execution_count": 21,
   "id": "08fc1308-33f1-48ef-ad70-14e23854b947",
   "metadata": {},
   "outputs": [
    {
     "name": "stderr",
     "output_type": "stream",
     "text": [
      "objc[24460]: Class WebSwapCGLLayer is implemented in both /System/Library/Frameworks/WebKit.framework/Versions/A/Frameworks/WebCore.framework/Versions/A/Frameworks/libANGLE-shared.dylib (0x7ffb4e0baec8) and /Applications/Google Chrome.app/Contents/Frameworks/Google Chrome Framework.framework/Versions/105.0.5195.125/Libraries/libGLESv2.dylib (0x10bb88e08). One of the two will be used. Which one is undefined.\n",
      "[0914/201356.438724:INFO:headless_shell.cc(660)] Written to file /var/folders/19/wnvvqvbn0vggq7k70tjwn4y40000gn/T/tmp82gyramc/temp.png.\n"
     ]
    },
    {
     "name": "stdout",
     "output_type": "stream",
     "text": [
      "Created Debt Ratios Table.\n",
      "\n"
     ]
    },
    {
     "data": {
      "text/html": [
       "<div>\n",
       "<style scoped>\n",
       "    .dataframe tbody tr th:only-of-type {\n",
       "        vertical-align: middle;\n",
       "    }\n",
       "\n",
       "    .dataframe tbody tr th {\n",
       "        vertical-align: top;\n",
       "    }\n",
       "\n",
       "    .dataframe thead th {\n",
       "        text-align: right;\n",
       "    }\n",
       "</style>\n",
       "<table border=\"1\" class=\"dataframe\">\n",
       "  <thead>\n",
       "    <tr style=\"text-align: right;\">\n",
       "      <th>Date</th>\n",
       "      <th>2017</th>\n",
       "      <th>2018</th>\n",
       "      <th>2019</th>\n",
       "      <th>2020</th>\n",
       "      <th>2021</th>\n",
       "    </tr>\n",
       "  </thead>\n",
       "  <tbody>\n",
       "    <tr>\n",
       "      <th>Debt Assets Ratio</th>\n",
       "      <td>0.6</td>\n",
       "      <td>0.7</td>\n",
       "      <td>0.7</td>\n",
       "      <td>0.8</td>\n",
       "      <td>0.8</td>\n",
       "    </tr>\n",
       "    <tr>\n",
       "      <th>Debt Equity Ratio</th>\n",
       "      <td>1.8</td>\n",
       "      <td>2.4</td>\n",
       "      <td>2.7</td>\n",
       "      <td>4.0</td>\n",
       "      <td>4.6</td>\n",
       "    </tr>\n",
       "    <tr>\n",
       "      <th>Current Ratio</th>\n",
       "      <td>1.3</td>\n",
       "      <td>1.1</td>\n",
       "      <td>1.5</td>\n",
       "      <td>1.4</td>\n",
       "      <td>1.1</td>\n",
       "    </tr>\n",
       "    <tr>\n",
       "      <th>Quick Ratio</th>\n",
       "      <td>1.1</td>\n",
       "      <td>1.0</td>\n",
       "      <td>1.4</td>\n",
       "      <td>1.2</td>\n",
       "      <td>0.9</td>\n",
       "    </tr>\n",
       "    <tr>\n",
       "      <th>Cash Ratio</th>\n",
       "      <td>0.2</td>\n",
       "      <td>0.2</td>\n",
       "      <td>0.5</td>\n",
       "      <td>0.4</td>\n",
       "      <td>0.3</td>\n",
       "    </tr>\n",
       "    <tr>\n",
       "      <th>Opp Cashflow to Debt</th>\n",
       "      <td>0.5</td>\n",
       "      <td>0.7</td>\n",
       "      <td>0.6</td>\n",
       "      <td>0.7</td>\n",
       "      <td>0.8</td>\n",
       "    </tr>\n",
       "    <tr>\n",
       "      <th>Interest Coverage</th>\n",
       "      <td>26.4</td>\n",
       "      <td>21.9</td>\n",
       "      <td>17.9</td>\n",
       "      <td>23.1</td>\n",
       "      <td>41.2</td>\n",
       "    </tr>\n",
       "  </tbody>\n",
       "</table>\n",
       "</div>"
      ],
      "text/plain": [
       "Date                  2017  2018  2019  2020  2021\n",
       "Debt Assets Ratio      0.6   0.7   0.7   0.8   0.8\n",
       "Debt Equity Ratio      1.8   2.4   2.7   4.0   4.6\n",
       "Current Ratio          1.3   1.1   1.5   1.4   1.1\n",
       "Quick Ratio            1.1   1.0   1.4   1.2   0.9\n",
       "Cash Ratio             0.2   0.2   0.5   0.4   0.3\n",
       "Opp Cashflow to Debt   0.5   0.7   0.6   0.7   0.8\n",
       "Interest Coverage     26.4  21.9  17.9  23.1  41.2"
      ]
     },
     "execution_count": 21,
     "metadata": {},
     "output_type": "execute_result"
    }
   ],
   "source": [
    "# Debt,Liquity and Solvency Table\n",
    "\n",
    "# Copy income statement dataframe\n",
    "debt_table = ratios_df.copy(deep=True)\n",
    "debt_table.sort_index(ascending=False, inplace=True)\n",
    "\n",
    "# Transfor date column from string to datetime\n",
    "# Display only the year from the date column\n",
    "debt_table['date'] = pd.to_datetime(debt_table['date'])\n",
    "debt_table['date'] = debt_table['date'].dt.year\n",
    "\n",
    "# Get defined amount of years\n",
    "debt_table = debt_table.iloc[-years:]\n",
    "\n",
    "# Make date the index value\n",
    "debt_table.set_index('date', inplace=True)\n",
    "debt_table.index.rename('Date', inplace=True)\n",
    "\n",
    "# Drop non used variables\n",
    "debt_table.drop(\n",
    "    ['priceToBookRatio', 'priceToSalesRatio', 'priceEarningsRatio',\n",
    "     'priceToOperatingCashFlowsRatio', 'priceToFreeCashFlowsRatio',\n",
    "     'dividendYield', 'enterpriseValueMultiple',\n",
    "     'priceFairValue', 'symbol', 'period',\n",
    "     'daysOfSalesOutstanding', 'daysOfInventoryOutstanding',\n",
    "     'operatingCycle', 'daysOfPayablesOutstanding',\n",
    "     'cashConversionCycle', 'grossProfitMargin',\n",
    "     'operatingProfitMargin', 'pretaxProfitMargin',\n",
    "     'netProfitMargin', 'effectiveTaxRate',\n",
    "     'returnOnAssets', 'returnOnEquity',\n",
    "     'returnOnCapitalEmployed', 'netIncomePerEBT',\n",
    "     'ebtPerEbit', 'ebitPerRevenue',\n",
    "     'longTermDebtToCapitalization', 'totalDebtToCapitalization',\n",
    "     'cashFlowCoverageRatios', 'companyEquityMultiplier',\n",
    "     'receivablesTurnover', 'payablesTurnover',\n",
    "     'inventoryTurnover', 'fixedAssetTurnover',\n",
    "     'assetTurnover', 'operatingCashFlowPerShare',\n",
    "     'freeCashFlowPerShare', 'cashPerShare',\n",
    "     'payoutRatio', 'operatingCashFlowSalesRatio',\n",
    "     'freeCashFlowOperatingCashFlowRatio',\n",
    "     'shortTermCoverageRatios', 'capitalExpenditureCoverageRatio',\n",
    "     'dividendPaidAndCapexCoverageRatio',\n",
    "     'dividendPayoutRatio', 'priceBookValueRatio',\n",
    "     'priceCashFlowRatio', 'priceEarningsToGrowthRatio',\n",
    "     'priceSalesRatio'], axis=1, inplace=True)\n",
    "\n",
    "# Rename columns as they will appear in image\n",
    "debt_table.rename(columns={\n",
    "    # Debt ratios\n",
    "    'debtRatio': 'Debt Assets Ratio',\n",
    "    'debtEquityRatio': 'Debt Equity Ratio',\n",
    "    # Liquidity ratios\n",
    "    'currentRatio': 'Current Ratio',\n",
    "    'quickRatio': 'Quick Ratio',\n",
    "    'cashRatio': 'Cash Ratio',\n",
    "    # Solvency ratios\n",
    "    'interestCoverage': 'Interest Coverage',\n",
    "    'cashFlowToDebtRatio': 'Opp Cashflow to Debt',\n",
    "    # Falta debt service ratio\n",
    "    }, inplace=True)\n",
    "\n",
    "# Format columns: Turn to string, Include commas and remove decimals\n",
    "debt_ratios_columns = ['Debt Assets Ratio', 'Debt Equity Ratio',\n",
    "                       'Current Ratio', 'Quick Ratio', 'Cash Ratio',\n",
    "                       'Interest Coverage', 'Opp Cashflow to Debt']\n",
    "for column_name in debt_ratios_columns:\n",
    "    debt_table[column_name] = pd.Series(\n",
    "        [f\"{val:,.1f}\"for val in debt_table[column_name]],\n",
    "        index=debt_table.index)\n",
    "# Reorder Columns\n",
    "debt_table = debt_table[[\n",
    "    'Debt Assets Ratio',\n",
    "    'Debt Equity Ratio',\n",
    "    'Current Ratio',\n",
    "    'Quick Ratio',\n",
    "    'Cash Ratio',\n",
    "    'Opp Cashflow to Debt',\n",
    "    'Interest Coverage']]\n",
    "\n",
    "# Transpose data\n",
    "debt_table = debt_table.transpose()\n",
    "\n",
    "# Save dataframe as image\n",
    "debt_table.dfi.export('images/output/debt_ratios_table.png')\n",
    "\n",
    "# Print table name\n",
    "print(\"Created Debt Ratios Table.\\n\")\n",
    "\n",
    "# Show table\n",
    "debt_table"
   ]
  },
  {
   "cell_type": "markdown",
   "id": "71f4ec98-c365-44ee-8e03-ceb4e8307a1b",
   "metadata": {},
   "source": [
    "<a id=\"table_profit\"></a>\n",
    "### [Table] Profit Ratios [*](#index)"
   ]
  },
  {
   "cell_type": "code",
   "execution_count": 22,
   "id": "11fc9b59-21f3-49dd-b1e4-fd59025776fc",
   "metadata": {},
   "outputs": [
    {
     "name": "stderr",
     "output_type": "stream",
     "text": [
      "objc[24470]: Class WebSwapCGLLayer is implemented in both /System/Library/Frameworks/WebKit.framework/Versions/A/Frameworks/WebCore.framework/Versions/A/Frameworks/libANGLE-shared.dylib (0x7ffb4e0baec8) and /Applications/Google Chrome.app/Contents/Frameworks/Google Chrome Framework.framework/Versions/105.0.5195.125/Libraries/libGLESv2.dylib (0x116e8ee08). One of the two will be used. Which one is undefined.\n",
      "[0914/201358.512004:INFO:headless_shell.cc(660)] Written to file /var/folders/19/wnvvqvbn0vggq7k70tjwn4y40000gn/T/tmph5di8rmj/temp.png.\n"
     ]
    },
    {
     "name": "stdout",
     "output_type": "stream",
     "text": [
      "Created Profit Ratios Table.\n",
      "\n"
     ]
    },
    {
     "data": {
      "text/html": [
       "<div>\n",
       "<style scoped>\n",
       "    .dataframe tbody tr th:only-of-type {\n",
       "        vertical-align: middle;\n",
       "    }\n",
       "\n",
       "    .dataframe tbody tr th {\n",
       "        vertical-align: top;\n",
       "    }\n",
       "\n",
       "    .dataframe thead th {\n",
       "        text-align: right;\n",
       "    }\n",
       "</style>\n",
       "<table border=\"1\" class=\"dataframe\">\n",
       "  <thead>\n",
       "    <tr style=\"text-align: right;\">\n",
       "      <th>Date</th>\n",
       "      <th>2017</th>\n",
       "      <th>2018</th>\n",
       "      <th>2019</th>\n",
       "      <th>2020</th>\n",
       "      <th>2021</th>\n",
       "    </tr>\n",
       "  </thead>\n",
       "  <tbody>\n",
       "    <tr>\n",
       "      <th>Gross Margin</th>\n",
       "      <td>0.38</td>\n",
       "      <td>0.38</td>\n",
       "      <td>0.38</td>\n",
       "      <td>0.38</td>\n",
       "      <td>0.42</td>\n",
       "    </tr>\n",
       "    <tr>\n",
       "      <th>Operating Margin</th>\n",
       "      <td>0.27</td>\n",
       "      <td>0.27</td>\n",
       "      <td>0.25</td>\n",
       "      <td>0.24</td>\n",
       "      <td>0.30</td>\n",
       "    </tr>\n",
       "    <tr>\n",
       "      <th>Net Profit Margin</th>\n",
       "      <td>0.21</td>\n",
       "      <td>0.22</td>\n",
       "      <td>0.21</td>\n",
       "      <td>0.21</td>\n",
       "      <td>0.26</td>\n",
       "    </tr>\n",
       "    <tr>\n",
       "      <th>Effective Tax Rate</th>\n",
       "      <td>0.25</td>\n",
       "      <td>0.18</td>\n",
       "      <td>0.16</td>\n",
       "      <td>0.14</td>\n",
       "      <td>0.13</td>\n",
       "    </tr>\n",
       "    <tr>\n",
       "      <th>Return on Assets</th>\n",
       "      <td>0.13</td>\n",
       "      <td>0.16</td>\n",
       "      <td>0.16</td>\n",
       "      <td>0.18</td>\n",
       "      <td>0.27</td>\n",
       "    </tr>\n",
       "    <tr>\n",
       "      <th>Return on Equity</th>\n",
       "      <td>0.36</td>\n",
       "      <td>0.56</td>\n",
       "      <td>0.61</td>\n",
       "      <td>0.88</td>\n",
       "      <td>1.50</td>\n",
       "    </tr>\n",
       "  </tbody>\n",
       "</table>\n",
       "</div>"
      ],
      "text/plain": [
       "Date                2017  2018  2019  2020  2021\n",
       "Gross Margin        0.38  0.38  0.38  0.38  0.42\n",
       "Operating Margin    0.27  0.27  0.25  0.24  0.30\n",
       "Net Profit Margin   0.21  0.22  0.21  0.21  0.26\n",
       "Effective Tax Rate  0.25  0.18  0.16  0.14  0.13\n",
       "Return on Assets    0.13  0.16  0.16  0.18  0.27\n",
       "Return on Equity    0.36  0.56  0.61  0.88  1.50"
      ]
     },
     "execution_count": 22,
     "metadata": {},
     "output_type": "execute_result"
    }
   ],
   "source": [
    "# Profitability Table\n",
    "\n",
    "# Copy ratios dataframe\n",
    "profit_table = ratios_df.copy(deep=True)\n",
    "profit_table.sort_index(ascending=False, inplace=True)\n",
    "\n",
    "# Transfor date column from string to datetime\n",
    "# Display only the year from date column\n",
    "profit_table['date'] = pd.to_datetime(profit_table['date'])\n",
    "profit_table['date'] = profit_table['date'].dt.year\n",
    "\n",
    "# Get defined amount of years\n",
    "profit_table = profit_table.iloc[-years:]\n",
    "\n",
    "# Make date the index value\n",
    "profit_table.set_index('date', inplace=True)\n",
    "profit_table.index.rename('Date', inplace=True)\n",
    "\n",
    "# Drop non used variables\n",
    "profit_table.drop(\n",
    "    ['debtRatio', 'debtEquityRatio', 'currentRatio',\n",
    "     'quickRatio', 'cashRatio', 'interestCoverage',\n",
    "     'cashFlowToDebtRatio', 'priceToBookRatio',\n",
    "     'priceToSalesRatio', 'priceEarningsRatio',\n",
    "     'priceToOperatingCashFlowsRatio',\n",
    "     'priceToFreeCashFlowsRatio', 'dividendYield',\n",
    "     'enterpriseValueMultiple', 'priceFairValue',\n",
    "     'symbol', 'period', 'daysOfSalesOutstanding',\n",
    "     'daysOfInventoryOutstanding', 'operatingCycle',\n",
    "     'daysOfPayablesOutstanding', 'cashConversionCycle',\n",
    "     'pretaxProfitMargin', 'returnOnCapitalEmployed',\n",
    "     'netIncomePerEBT', 'ebtPerEbit', 'ebitPerRevenue',\n",
    "     'longTermDebtToCapitalization', 'totalDebtToCapitalization',\n",
    "     'cashFlowCoverageRatios', 'companyEquityMultiplier',\n",
    "     'receivablesTurnover', 'payablesTurnover',\n",
    "     'inventoryTurnover', 'fixedAssetTurnover',\n",
    "     'assetTurnover', 'operatingCashFlowPerShare',\n",
    "     'freeCashFlowPerShare', 'cashPerShare',\n",
    "     'payoutRatio', 'operatingCashFlowSalesRatio',\n",
    "     'freeCashFlowOperatingCashFlowRatio',\n",
    "     'shortTermCoverageRatios', 'capitalExpenditureCoverageRatio',\n",
    "     'dividendPaidAndCapexCoverageRatio', 'dividendPayoutRatio',\n",
    "     'priceBookValueRatio', 'priceCashFlowRatio',\n",
    "     'priceEarningsToGrowthRatio', 'priceSalesRatio'], axis=1, inplace=True)\n",
    "\n",
    "# Rename columns\n",
    "profit_table.rename(columns={\n",
    "    'grossProfitMargin': 'Gross Margin',\n",
    "    'operatingProfitMargin': 'Operating Margin',\n",
    "    'netProfitMargin': 'Net Profit Margin',\n",
    "    'effectiveTaxRate': 'Effective Tax Rate',\n",
    "    'returnOnAssets': 'Return on Assets',\n",
    "    'returnOnEquity': 'Return on Equity',\n",
    "    }, inplace=True)\n",
    "\n",
    "# Format columns: Turn to string, Include commas and remove decimals\n",
    "profit_ratios_columns = [\n",
    "    'Gross Margin', 'Operating Margin', 'Net Profit Margin',\n",
    "    'Effective Tax Rate', 'Return on Assets', 'Return on Equity']\n",
    "for column_name in profit_ratios_columns:\n",
    "    profit_table[column_name] = (\n",
    "        pd.Series([f\"{val:,.2f}\"for val in profit_table[column_name]],\n",
    "                  index=profit_table.index))\n",
    "\n",
    "# Reorder Columns\n",
    "profit_table = profit_table[[\n",
    "    'Gross Margin',\n",
    "    'Operating Margin',\n",
    "    'Net Profit Margin',\n",
    "    'Effective Tax Rate',\n",
    "    'Return on Assets',\n",
    "    'Return on Equity']]\n",
    "\n",
    "# Transpose data\n",
    "profit_table = profit_table.transpose()\n",
    "\n",
    "# Save dataframe as image\n",
    "profit_table.dfi.export('images/output/profit_ratios_table.png')\n",
    "\n",
    "# Print table name\n",
    "print(\"Created Profit Ratios Table.\\n\")\n",
    "\n",
    "# Show table\n",
    "profit_table"
   ]
  },
  {
   "cell_type": "markdown",
   "id": "d4bed624-763b-40ea-9f71-fb4cac42449f",
   "metadata": {},
   "source": [
    "<a id=\"table_efficiency\"></a>\n",
    "### [Table] Efficiency Ratios [*](#index)"
   ]
  },
  {
   "cell_type": "code",
   "execution_count": 23,
   "id": "0b906a35-7724-4a83-8fa2-0253fc64efdc",
   "metadata": {},
   "outputs": [
    {
     "name": "stderr",
     "output_type": "stream",
     "text": [
      "objc[24481]: Class WebSwapCGLLayer is implemented in both /System/Library/Frameworks/WebKit.framework/Versions/A/Frameworks/WebCore.framework/Versions/A/Frameworks/libANGLE-shared.dylib (0x7ffb4e0baec8) and /Applications/Google Chrome.app/Contents/Frameworks/Google Chrome Framework.framework/Versions/105.0.5195.125/Libraries/libGLESv2.dylib (0x10a086e08). One of the two will be used. Which one is undefined.\n",
      "[0914/201359.880279:INFO:headless_shell.cc(660)] Written to file /var/folders/19/wnvvqvbn0vggq7k70tjwn4y40000gn/T/tmp3njxdkm5/temp.png.\n"
     ]
    },
    {
     "name": "stdout",
     "output_type": "stream",
     "text": [
      "Created Efficiency Ratios Table.\n",
      "\n"
     ]
    },
    {
     "data": {
      "text/html": [
       "<div>\n",
       "<style scoped>\n",
       "    .dataframe tbody tr th:only-of-type {\n",
       "        vertical-align: middle;\n",
       "    }\n",
       "\n",
       "    .dataframe tbody tr th {\n",
       "        vertical-align: top;\n",
       "    }\n",
       "\n",
       "    .dataframe thead th {\n",
       "        text-align: right;\n",
       "    }\n",
       "</style>\n",
       "<table border=\"1\" class=\"dataframe\">\n",
       "  <thead>\n",
       "    <tr style=\"text-align: right;\">\n",
       "      <th>Date</th>\n",
       "      <th>2017</th>\n",
       "      <th>2018</th>\n",
       "      <th>2019</th>\n",
       "      <th>2020</th>\n",
       "      <th>2021</th>\n",
       "    </tr>\n",
       "  </thead>\n",
       "  <tbody>\n",
       "    <tr>\n",
       "      <th>Days of Sales Outstanding</th>\n",
       "      <td>57</td>\n",
       "      <td>67</td>\n",
       "      <td>64</td>\n",
       "      <td>50</td>\n",
       "      <td>51</td>\n",
       "    </tr>\n",
       "    <tr>\n",
       "      <th>Days of Payables Outstanding</th>\n",
       "      <td>127</td>\n",
       "      <td>125</td>\n",
       "      <td>104</td>\n",
       "      <td>91</td>\n",
       "      <td>94</td>\n",
       "    </tr>\n",
       "    <tr>\n",
       "      <th>Days of Inventory Outstanding</th>\n",
       "      <td>13</td>\n",
       "      <td>9</td>\n",
       "      <td>9</td>\n",
       "      <td>9</td>\n",
       "      <td>11</td>\n",
       "    </tr>\n",
       "    <tr>\n",
       "      <th>Days of Operating Cycle</th>\n",
       "      <td>69</td>\n",
       "      <td>76</td>\n",
       "      <td>74</td>\n",
       "      <td>59</td>\n",
       "      <td>63</td>\n",
       "    </tr>\n",
       "    <tr>\n",
       "      <th>Cash Conversion Cycle</th>\n",
       "      <td>-58</td>\n",
       "      <td>-48</td>\n",
       "      <td>-31</td>\n",
       "      <td>-33</td>\n",
       "      <td>-31</td>\n",
       "    </tr>\n",
       "    <tr>\n",
       "      <th>Receivables Turnover</th>\n",
       "      <td>6.4</td>\n",
       "      <td>5.4</td>\n",
       "      <td>5.7</td>\n",
       "      <td>7.3</td>\n",
       "      <td>7.1</td>\n",
       "    </tr>\n",
       "    <tr>\n",
       "      <th>Payables Turnover</th>\n",
       "      <td>2.9</td>\n",
       "      <td>2.9</td>\n",
       "      <td>3.5</td>\n",
       "      <td>4.0</td>\n",
       "      <td>3.9</td>\n",
       "    </tr>\n",
       "    <tr>\n",
       "      <th>Inventory Turnover</th>\n",
       "      <td>29.1</td>\n",
       "      <td>41.4</td>\n",
       "      <td>39.4</td>\n",
       "      <td>41.8</td>\n",
       "      <td>32.4</td>\n",
       "    </tr>\n",
       "    <tr>\n",
       "      <th>Fixed Asset Turnover</th>\n",
       "      <td>6.8</td>\n",
       "      <td>6.4</td>\n",
       "      <td>7.0</td>\n",
       "      <td>7.5</td>\n",
       "      <td>9.3</td>\n",
       "    </tr>\n",
       "    <tr>\n",
       "      <th>Asset Turnover</th>\n",
       "      <td>0.6</td>\n",
       "      <td>0.7</td>\n",
       "      <td>0.8</td>\n",
       "      <td>0.8</td>\n",
       "      <td>1.0</td>\n",
       "    </tr>\n",
       "  </tbody>\n",
       "</table>\n",
       "</div>"
      ],
      "text/plain": [
       "Date                           2017  2018  2019  2020  2021\n",
       "Days of Sales Outstanding        57    67    64    50    51\n",
       "Days of Payables Outstanding    127   125   104    91    94\n",
       "Days of Inventory Outstanding    13     9     9     9    11\n",
       "Days of Operating Cycle          69    76    74    59    63\n",
       "Cash Conversion Cycle           -58   -48   -31   -33   -31\n",
       "Receivables Turnover            6.4   5.4   5.7   7.3   7.1\n",
       "Payables Turnover               2.9   2.9   3.5   4.0   3.9\n",
       "Inventory Turnover             29.1  41.4  39.4  41.8  32.4\n",
       "Fixed Asset Turnover            6.8   6.4   7.0   7.5   9.3\n",
       "Asset Turnover                  0.6   0.7   0.8   0.8   1.0"
      ]
     },
     "execution_count": 23,
     "metadata": {},
     "output_type": "execute_result"
    }
   ],
   "source": [
    "# Efficiency Ratios Table\n",
    "\n",
    "# Copy ratios statement dataframe\n",
    "efficiency_table = ratios_df.copy(deep=True)\n",
    "efficiency_table.sort_index(ascending=False, inplace=True)\n",
    "\n",
    "# Transfor date column from string to datetime\n",
    "# Display only the year from date column\n",
    "efficiency_table['date'] = pd.to_datetime(efficiency_table['date'])\n",
    "efficiency_table['date'] = efficiency_table['date'].dt.year\n",
    "\n",
    "# Get the defined amount of years\n",
    "efficiency_table = efficiency_table.iloc[-years:]\n",
    "\n",
    "# Make date the index value\n",
    "efficiency_table.set_index('date', inplace=True)\n",
    "efficiency_table.index.rename('Date', inplace=True)\n",
    "\n",
    "# Drop non used variables\n",
    "efficiency_table.drop(\n",
    "    ['grossProfitMargin', 'operatingProfitMargin',\n",
    "     'netProfitMargin', 'effectiveTaxRate',\n",
    "     'returnOnAssets', 'returnOnEquity',\n",
    "     'debtRatio', 'debtEquityRatio',\n",
    "     'currentRatio', 'quickRatio',\n",
    "     'cashRatio', 'interestCoverage',\n",
    "     'cashFlowToDebtRatio', 'priceToBookRatio',\n",
    "     'priceToSalesRatio', 'priceEarningsRatio',\n",
    "     'priceToOperatingCashFlowsRatio',\n",
    "     'priceToFreeCashFlowsRatio',\n",
    "     'dividendYield', 'enterpriseValueMultiple',\n",
    "     'priceFairValue', 'symbol',\n",
    "     'period', 'pretaxProfitMargin',\n",
    "     'returnOnCapitalEmployed',\n",
    "     'netIncomePerEBT', 'ebtPerEbit',\n",
    "     'ebitPerRevenue', 'longTermDebtToCapitalization',\n",
    "     'totalDebtToCapitalization', 'cashFlowCoverageRatios',\n",
    "     'companyEquityMultiplier', 'operatingCashFlowPerShare',\n",
    "     'freeCashFlowPerShare', 'cashPerShare',\n",
    "     'payoutRatio', 'operatingCashFlowSalesRatio',\n",
    "     'freeCashFlowOperatingCashFlowRatio',\n",
    "     'shortTermCoverageRatios', 'capitalExpenditureCoverageRatio',\n",
    "     'dividendPaidAndCapexCoverageRatio', 'dividendPayoutRatio',\n",
    "     'priceBookValueRatio', 'priceCashFlowRatio',\n",
    "     'priceEarningsToGrowthRatio', 'priceSalesRatio'], axis=1, inplace=True)\n",
    "\n",
    "# Rename columns\n",
    "efficiency_table.rename(columns={\n",
    "    'daysOfSalesOutstanding': 'Days of Sales Outstanding',\n",
    "    'daysOfPayablesOutstanding': 'Days of Payables Outstanding',\n",
    "    'daysOfInventoryOutstanding': 'Days of Inventory Outstanding',\n",
    "    'operatingCycle': 'Days of Operating Cycle',\n",
    "    'cashConversionCycle': 'Cash Conversion Cycle',\n",
    "    'receivablesTurnover': 'Receivables Turnover',\n",
    "    'payablesTurnover': 'Payables Turnover',\n",
    "    'inventoryTurnover': 'Inventory Turnover',\n",
    "    'fixedAssetTurnover': 'Fixed Asset Turnover',\n",
    "    'assetTurnover': 'Asset Turnover',\n",
    "    }, inplace=True)\n",
    "\n",
    "# Format columns: Turn to string, Include commas and remove decimals.\n",
    "efficiency_ratios_columns = ['Days of Sales Outstanding',\n",
    "                             'Days of Payables Outstanding',\n",
    "                             'Days of Inventory Outstanding',\n",
    "                             'Days of Operating Cycle',\n",
    "                             'Cash Conversion Cycle']\n",
    "for column_name in efficiency_ratios_columns:\n",
    "    efficiency_table[column_name] = (\n",
    "        pd.Series([f\"{val:,.0f}\"for val in efficiency_table[column_name]],\n",
    "                  index=efficiency_table.index))\n",
    "\n",
    "efficiency_ratios_columns2 = ['Receivables Turnover', 'Payables Turnover',\n",
    "                              'Inventory Turnover', 'Fixed Asset Turnover',\n",
    "                              'Asset Turnover']\n",
    "for column_name in efficiency_ratios_columns2:\n",
    "    efficiency_table[column_name] = (\n",
    "        pd.Series([f\"{val:,.1f}\"for val in efficiency_table[column_name]],\n",
    "                  index=efficiency_table.index))\n",
    "\n",
    "# Reorder columns\n",
    "efficiency_table = efficiency_table[[\n",
    "    'Days of Sales Outstanding',\n",
    "    'Days of Payables Outstanding',\n",
    "    'Days of Inventory Outstanding',\n",
    "    'Days of Operating Cycle',\n",
    "    'Cash Conversion Cycle',\n",
    "    'Receivables Turnover',\n",
    "    'Payables Turnover',\n",
    "    'Inventory Turnover',\n",
    "    'Fixed Asset Turnover',\n",
    "    'Asset Turnover']]\n",
    "\n",
    "# Transpose data\n",
    "efficiency_table = efficiency_table.transpose()\n",
    "\n",
    "# Save dataframe as image\n",
    "efficiency_table.dfi.export('images/output/efficiency_ratios_table.png')\n",
    "\n",
    "# Print table name\n",
    "print(\"Created Efficiency Ratios Table.\\n\")\n",
    "\n",
    "# Show table\n",
    "efficiency_table"
   ]
  },
  {
   "cell_type": "markdown",
   "id": "e56194c9-53df-4d0c-8d92-76240d6c6ee2",
   "metadata": {},
   "source": [
    "<a id=\"table_metrics\"></a>\n",
    "### [Table] Key Metrics [*](#index)"
   ]
  },
  {
   "cell_type": "code",
   "execution_count": 24,
   "id": "2120491e-5a7d-408e-b66b-d2f6a4b0afc9",
   "metadata": {},
   "outputs": [
    {
     "name": "stderr",
     "output_type": "stream",
     "text": [
      "objc[24491]: Class WebSwapCGLLayer is implemented in both /System/Library/Frameworks/WebKit.framework/Versions/A/Frameworks/WebCore.framework/Versions/A/Frameworks/libANGLE-shared.dylib (0x7ffb4e0baec8) and /Applications/Google Chrome.app/Contents/Frameworks/Google Chrome Framework.framework/Versions/105.0.5195.125/Libraries/libGLESv2.dylib (0x11568ee08). One of the two will be used. Which one is undefined.\n",
      "[0914/201401.227376:INFO:headless_shell.cc(660)] Written to file /var/folders/19/wnvvqvbn0vggq7k70tjwn4y40000gn/T/tmpx5ho69am/temp.png.\n"
     ]
    },
    {
     "name": "stdout",
     "output_type": "stream",
     "text": [
      "Created Key Metrics Table\n",
      "\n"
     ]
    },
    {
     "data": {
      "text/html": [
       "<div>\n",
       "<style scoped>\n",
       "    .dataframe tbody tr th:only-of-type {\n",
       "        vertical-align: middle;\n",
       "    }\n",
       "\n",
       "    .dataframe tbody tr th {\n",
       "        vertical-align: top;\n",
       "    }\n",
       "\n",
       "    .dataframe thead th {\n",
       "        text-align: right;\n",
       "    }\n",
       "</style>\n",
       "<table border=\"1\" class=\"dataframe\">\n",
       "  <thead>\n",
       "    <tr style=\"text-align: right;\">\n",
       "      <th>Date</th>\n",
       "      <th>2017</th>\n",
       "      <th>2018</th>\n",
       "      <th>2019</th>\n",
       "      <th>2020</th>\n",
       "      <th>2021</th>\n",
       "    </tr>\n",
       "  </thead>\n",
       "  <tbody>\n",
       "    <tr>\n",
       "      <th>Market Cap (millions)</th>\n",
       "      <td>869,819</td>\n",
       "      <td>1,051,729</td>\n",
       "      <td>1,150,072</td>\n",
       "      <td>1,996,361</td>\n",
       "      <td>2,482,477</td>\n",
       "    </tr>\n",
       "    <tr>\n",
       "      <th>Net income per share</th>\n",
       "      <td>2</td>\n",
       "      <td>3</td>\n",
       "      <td>3</td>\n",
       "      <td>3</td>\n",
       "      <td>6</td>\n",
       "    </tr>\n",
       "    <tr>\n",
       "      <th>Free Cash Flow per share</th>\n",
       "      <td>2</td>\n",
       "      <td>3</td>\n",
       "      <td>3</td>\n",
       "      <td>4</td>\n",
       "      <td>6</td>\n",
       "    </tr>\n",
       "    <tr>\n",
       "      <th>Book value per share</th>\n",
       "      <td>6</td>\n",
       "      <td>5</td>\n",
       "      <td>5</td>\n",
       "      <td>4</td>\n",
       "      <td>4</td>\n",
       "    </tr>\n",
       "    <tr>\n",
       "      <th>Capex to Revenue</th>\n",
       "      <td>-6%</td>\n",
       "      <td>-5%</td>\n",
       "      <td>-4%</td>\n",
       "      <td>-3%</td>\n",
       "      <td>-3%</td>\n",
       "    </tr>\n",
       "    <tr>\n",
       "      <th>Capex to Depreciation</th>\n",
       "      <td>-126%</td>\n",
       "      <td>-122%</td>\n",
       "      <td>-84%</td>\n",
       "      <td>-66%</td>\n",
       "      <td>-98%</td>\n",
       "    </tr>\n",
       "    <tr>\n",
       "      <th>Capex to Operating CashFlow</th>\n",
       "      <td>-20%</td>\n",
       "      <td>-17%</td>\n",
       "      <td>-15%</td>\n",
       "      <td>-9%</td>\n",
       "      <td>-11%</td>\n",
       "    </tr>\n",
       "    <tr>\n",
       "      <th>Graham Number</th>\n",
       "      <td>18</td>\n",
       "      <td>19</td>\n",
       "      <td>18</td>\n",
       "      <td>17</td>\n",
       "      <td>22</td>\n",
       "    </tr>\n",
       "    <tr>\n",
       "      <th>Graham Net Net</th>\n",
       "      <td>-7</td>\n",
       "      <td>-8</td>\n",
       "      <td>-6</td>\n",
       "      <td>-8</td>\n",
       "      <td>-11</td>\n",
       "    </tr>\n",
       "  </tbody>\n",
       "</table>\n",
       "</div>"
      ],
      "text/plain": [
       "Date                            2017       2018       2019       2020  \\\n",
       "Market Cap (millions)        869,819  1,051,729  1,150,072  1,996,361   \n",
       "Net income per share               2          3          3          3   \n",
       "Free Cash Flow per share           2          3          3          4   \n",
       "Book value per share               6          5          5          4   \n",
       "Capex to Revenue                 -6%        -5%        -4%        -3%   \n",
       "Capex to Depreciation          -126%      -122%       -84%       -66%   \n",
       "Capex to Operating CashFlow     -20%       -17%       -15%        -9%   \n",
       "Graham Number                     18         19         18         17   \n",
       "Graham Net Net                    -7         -8         -6         -8   \n",
       "\n",
       "Date                              2021  \n",
       "Market Cap (millions)        2,482,477  \n",
       "Net income per share                 6  \n",
       "Free Cash Flow per share             6  \n",
       "Book value per share                 4  \n",
       "Capex to Revenue                   -3%  \n",
       "Capex to Depreciation             -98%  \n",
       "Capex to Operating CashFlow       -11%  \n",
       "Graham Number                       22  \n",
       "Graham Net Net                     -11  "
      ]
     },
     "execution_count": 24,
     "metadata": {},
     "output_type": "execute_result"
    }
   ],
   "source": [
    "# Key Metrics Table\n",
    "\n",
    "# Copy the ratios statement dataframe\n",
    "keymetrics_table = metrics_df.copy(deep=True)\n",
    "\n",
    "# Divide Market Cap by 1 Million\n",
    "keymetrics_table['marketCap'] = keymetrics_table['marketCap'].div(1_000_000)\n",
    "\n",
    "# Sort years increasing from left to right\n",
    "keymetrics_table.sort_index(ascending=False, inplace=True)\n",
    "\n",
    "# Transfor date column from string to datetime\n",
    "# Display only the year from the date column\n",
    "keymetrics_table['date'] = pd.to_datetime(keymetrics_table['date'])\n",
    "keymetrics_table['date'] = keymetrics_table['date'].dt.year\n",
    "\n",
    "# Get the defined amount of years\n",
    "keymetrics_table = keymetrics_table.iloc[-years:]\n",
    "\n",
    "# Make the date the index value\n",
    "keymetrics_table.set_index('date', inplace=True)\n",
    "keymetrics_table.index.rename('Date', inplace=True)\n",
    "\n",
    "# Drop non used variables\n",
    "keymetrics_table.drop(\n",
    "    ['symbol', 'period', 'revenuePerShare',\n",
    "     'operatingCashFlowPerShare', 'cashPerShare',\n",
    "     'tangibleBookValuePerShare', 'interestDebtPerShare',\n",
    "     'enterpriseValue', 'peRatio', 'priceToSalesRatio',\n",
    "     'pocfratio', 'pfcfRatio', 'pbRatio',\n",
    "     'ptbRatio', 'evToSales', 'enterpriseValueOverEBITDA',\n",
    "     'evToOperatingCashFlow', 'evToFreeCashFlow',\n",
    "     'earningsYield', 'freeCashFlowYield',\n",
    "     'debtToEquity', 'debtToAssets', 'netDebtToEBITDA',\n",
    "     'currentRatio', 'interestCoverage', 'incomeQuality',\n",
    "     'dividendYield', 'payoutRatio',\n",
    "     'salesGeneralAndAdministrativeToRevenue',\n",
    "     'researchAndDdevelopementToRevenue',\n",
    "     'intangiblesToTotalAssets',\n",
    "     'stockBasedCompensationToRevenue',\n",
    "     'roic', 'returnOnTangibleAssets',\n",
    "     'workingCapital', 'tangibleAssetValue',\n",
    "     'netCurrentAssetValue', 'investedCapital',\n",
    "     'averageReceivables', 'averagePayables',\n",
    "     'averageInventory', 'daysSalesOutstanding',\n",
    "     'daysPayablesOutstanding', 'daysOfInventoryOnHand',\n",
    "     'receivablesTurnover', 'payablesTurnover',\n",
    "     'inventoryTurnover', 'roe', 'capexPerShare'],\n",
    "    axis=1, inplace=True)\n",
    "\n",
    "# Rename columns as they will appear in image\n",
    "keymetrics_table.rename(columns={\n",
    "    'marketCap': 'Market Cap (millions)',\n",
    "    'netIncomePerShare': 'Net income per share',\n",
    "    'freeCashFlowPerShare': 'Free Cash Flow per share',\n",
    "    'bookValuePerShare': 'Book value per share',\n",
    "    'shareholdersEquityPerShare': 'Shareholder Equity per share',\n",
    "    'capexToOperatingCashFlow': 'Capex to Operating CashFlow',\n",
    "    'capexToRevenue': 'Capex to Revenue',\n",
    "    'capexToDepreciation': 'Capex to Depreciation',\n",
    "    'grahamNumber': 'Graham Number',\n",
    "    'grahamNetNet': 'Graham Net Net',\n",
    "    }, inplace=True)\n",
    "\n",
    "# Format the columns: Turn to string, Include commas, and remove decimals.\n",
    "keymetrics_columns = ['Market Cap (millions)', 'Net income per share',\n",
    "                      'Free Cash Flow per share', 'Book value per share',\n",
    "                      'Shareholder Equity per share',\n",
    "                      'Graham Number', 'Graham Net Net']\n",
    "for column_name in keymetrics_columns:\n",
    "    keymetrics_table[column_name] = (\n",
    "        pd.Series([f\"{val:,.0f}\"for val in keymetrics_table[column_name]],\n",
    "                  index=keymetrics_table.index))\n",
    "\n",
    "# Format the columns: Turn to string and format as percentage %\n",
    "keymetrics_columns_p = ['Capex to Operating CashFlow',\n",
    "                        'Capex to Revenue', 'Capex to Depreciation']\n",
    "for column_name in keymetrics_columns_p:\n",
    "    keymetrics_table[column_name] = keymetrics_table[column_name].multiply(100)\n",
    "    keymetrics_table[column_name] = (\n",
    "        pd.Series([\"{0:.0f}%\".format(val)\n",
    "                  for val in keymetrics_table[column_name]],\n",
    "                  index=keymetrics_table.index))\n",
    "\n",
    "# Reorder the Columns\n",
    "keymetrics_table = keymetrics_table[[\n",
    "    'Market Cap (millions)',\n",
    "    'Net income per share',\n",
    "    'Free Cash Flow per share',\n",
    "    'Book value per share',\n",
    "    'Capex to Revenue',\n",
    "    'Capex to Depreciation',\n",
    "    'Capex to Operating CashFlow',\n",
    "    'Graham Number',\n",
    "    'Graham Net Net']]\n",
    "\n",
    "# Transpose the data\n",
    "keymetrics_table = keymetrics_table.transpose()\n",
    "\n",
    "# Save the dataframe as image:\n",
    "keymetrics_table.dfi.export('images/output/key_metrics_table.png')\n",
    "\n",
    "# Print Table Name\n",
    "print(\"Created Key Metrics Table\\n\")\n",
    "\n",
    "# Show table\n",
    "keymetrics_table"
   ]
  },
  {
   "cell_type": "markdown",
   "id": "24a244b2-3c11-4bc8-9557-c690ecc4c3c0",
   "metadata": {},
   "source": [
    "<a id=\"export_pdf\"></a>\n",
    "### Exporting as a PDF file [*](#index)\n"
   ]
  },
  {
   "cell_type": "markdown",
   "id": "040fa6aa-0eab-4fdf-9685-b65dd1281837",
   "metadata": {},
   "source": [
    "<a id=\"variables_pdf\"></a>\n",
    "#### PDF Variables [*](#index)\n",
    "[PDF section start](#export_pdf)"
   ]
  },
  {
   "cell_type": "code",
   "execution_count": 25,
   "id": "75168f76-f39d-4632-a9cf-56bec41a656a",
   "metadata": {},
   "outputs": [],
   "source": [
    "# Border changes for editing\n",
    "border_chg = 0  # Choode 1 to show, or 0 to hide PDF borders."
   ]
  },
  {
   "cell_type": "code",
   "execution_count": 26,
   "id": "3b003cf8-8829-40e4-8e6f-2242c60a0fe3",
   "metadata": {},
   "outputs": [
    {
     "name": "stdout",
     "output_type": "stream",
     "text": [
      "PDF Variables Created\n",
      "\n"
     ]
    }
   ],
   "source": [
    "# PDF Variables\n",
    "\n",
    "# Variables\n",
    "today = dt.date.today()\n",
    "company_name = profile_df.iloc[0]['companyName']\n",
    "company_symbol = profile_df.iloc[0]['symbol']\n",
    "mktCap = profile_df.iloc[0]['mktCap']\n",
    "beta = profile_df.iloc[0]['beta']\n",
    "currency = profile_df.iloc[0]['currency']\n",
    "isin = profile_df.iloc[0]['isin']\n",
    "cusip = profile_df.iloc[0]['cusip']\n",
    "exchange = profile_df.iloc[0]['exchange']\n",
    "industry = profile_df.iloc[0]['industry']\n",
    "website = profile_df.iloc[0]['website']\n",
    "sector = profile_df.iloc[0]['sector']\n",
    "country = profile_df.iloc[0]['country']\n",
    "employees = profile_df.iloc[0]['fullTimeEmployees']\n",
    "ipo_date = profile_df.iloc[0]['ipoDate']\n",
    "ceo = profile_df.iloc[0]['ceo']\n",
    "company_description = profile_df.iloc[0]['description']\n",
    "# peers=stock_peers_df['peers'].tolist() # Paid endpoint\n",
    "# peers=\"Stock Peers: \"+', '.join(peers) # Paid endpoint\n",
    "\n",
    "# Change  datatype and format\n",
    "employees = float(employees)\n",
    "beta = float(beta)\n",
    "mktCap = float(mktCap)\n",
    "employees = ('{:,.0f}'.format(employees))\n",
    "beta = ('{:,.2f}'.format(beta))\n",
    "mktCap = ('{:,.0f}'.format(mktCap))\n",
    "\n",
    "# Create a tuple from values\n",
    "data = (\n",
    "    (\"Company Name:\", company_name),\n",
    "    (\"Company Symbol:\", company_symbol),\n",
    "    (\"Market Cap:\", mktCap),\n",
    "    (\"Beta:\", beta),\n",
    "    (\"Currency:\", currency),\n",
    "    (\"ISIN:\", isin,),\n",
    "    (\"CUSIP:\", cusip),\n",
    "    (\"Exchange:\", exchange),\n",
    "    (\"Industry:\", industry),\n",
    "    (\"Sector:\", sector),\n",
    "    (\"Country:\", country),\n",
    "    (\"No. Employees:\", employees),\n",
    "    (\"IPO Date:\", ipo_date),\n",
    "    (\"CEO:\", ceo),\n",
    "    (\"Website:\", website),\n",
    "    )\n",
    "print(\"PDF Variables Created\\n\")"
   ]
  },
  {
   "cell_type": "markdown",
   "id": "9d6a04c4-4c79-471f-8650-a2535747c233",
   "metadata": {},
   "source": [
    "<a id=\"defining_classes_pdf\"></a>\n",
    "#### Defining Classes [*](#index)\n",
    "[PDF section start](#export_pdf)"
   ]
  },
  {
   "cell_type": "code",
   "execution_count": 27,
   "id": "48e9264b-6df5-42cb-a728-944372847103",
   "metadata": {
    "tags": []
   },
   "outputs": [
    {
     "name": "stdout",
     "output_type": "stream",
     "text": [
      "FPDF Classes Created\n",
      "\n"
     ]
    }
   ],
   "source": [
    "# Defining Classes\n",
    "\n",
    "class PDF(FPDF):\n",
    "    def header(self):\n",
    "        # Logo\n",
    "        self.image('images/input/BS-Logo.png', x=12, y=12, w=30)\n",
    "        # Analysis date\n",
    "        self.ln(4)\n",
    "        self.cell(155)\n",
    "        self.set_font('Helvetica', 'BI', 8)\n",
    "        self.cell(w=35, h=5,\n",
    "                  txt=\"Created : \"+today.strftime(\"%d-%b-%Y\"),\n",
    "                  border=border_chg,\n",
    "                  new_x='RIGHT', new_y='NEXT',\n",
    "                  align='R', fill=False, link='')\n",
    "        self.ln(4)\n",
    "        # Company Name\n",
    "        self.ln(12)\n",
    "        self.cell(55)\n",
    "        self.set_font('Helvetica', 'B', 12)\n",
    "        self.cell(w=100, h=5,\n",
    "                  txt=(\" Company Analysis: \"+company_name),\n",
    "                  border=border_chg,\n",
    "                  new_x='LMARGIN', new_y='NEXT',\n",
    "                  align='C')\n",
    "\n",
    "    def footer(self):\n",
    "        # Position at 1.5 cm from bottom\n",
    "        self.set_y(-20)\n",
    "        # Information Disclaimer\n",
    "        self.set_font('Helvetica', 'I', 8)\n",
    "        self.cell(w=0, h=4,\n",
    "                  txt='*Data provided by Financial Modeling Prep',\n",
    "                  border=border_chg,\n",
    "                  new_x='LMARGIN', new_y='NEXT',\n",
    "                  align='R')\n",
    "        self.ln(1)\n",
    "        # Page number\n",
    "        self.set_font('Helvetica', 'BI', 10)\n",
    "        self.cell(w=0, h=5,\n",
    "                  txt='Page ' + str(self.page_no()) + ' of {nb}',\n",
    "                  border=border_chg,\n",
    "                  new_x='RIGHT', new_y='NEXT',\n",
    "                  align='C')\n",
    "\n",
    "\n",
    "print(\"FPDF Classes Created\\n\")"
   ]
  },
  {
   "cell_type": "markdown",
   "id": "d91ed1b4-a346-4af4-97b9-8f693ee95608",
   "metadata": {},
   "source": [
    "<a id=\"class_instantiation_pdf\"></a>\n",
    "#### Instantiation of Class [*](#index)\n",
    "[PDF section start](#export_pdf)"
   ]
  },
  {
   "cell_type": "code",
   "execution_count": 28,
   "id": "776c4790-878d-475b-a8fa-512f570154e6",
   "metadata": {
    "tags": []
   },
   "outputs": [
    {
     "name": "stdout",
     "output_type": "stream",
     "text": [
      "FPDF Class Instantiated\n",
      "\n"
     ]
    }
   ],
   "source": [
    "# Instantiation of Class\n",
    "pdf = PDF(orientation=\"P\", unit=\"mm\", format=\"Letter\")\n",
    "\n",
    "# Document Description\n",
    "pdf.set_author(author=\"Pablo Cruz Lemini\")\n",
    "pdf.set_subject(subject=\"Fundamental Analyisis for \"+company_symbol)\n",
    "pdf.set_keywords(\"fundamental, analysis,\"+company_symbol)\n",
    "\n",
    "# Add unicode font\n",
    "pdf.set_font('Helvetica', 'B', 11)\n",
    "\n",
    "print(\"FPDF Class Instantiated\\n\")"
   ]
  },
  {
   "cell_type": "markdown",
   "id": "66ec9b6e-8a85-4af1-a923-9c1410703bd2",
   "metadata": {},
   "source": [
    "<a id=\"page1_pdf\"></a>\n",
    "#### Page 1: Company Description [*](#index)\n",
    "[PDF section start](#export_pdf)"
   ]
  },
  {
   "cell_type": "code",
   "execution_count": 29,
   "id": "dbeed9c0-41d5-4610-b5d1-f5d6f254c51f",
   "metadata": {},
   "outputs": [
    {
     "name": "stdout",
     "output_type": "stream",
     "text": [
      "Company Logo imported to PDF\n",
      "\n",
      "Page 1: Company Description Created\n",
      "\n"
     ]
    }
   ],
   "source": [
    "# Page 1: Company Description\n",
    "pdf.add_page()\n",
    "\n",
    "# Title\n",
    "pdf.ln(10)\n",
    "pdf.cell(14)\n",
    "pdf.set_font('Helvetica', 'B', 11)\n",
    "pdf.cell(w=50, h=5,\n",
    "         txt=\"Company Summary:\",\n",
    "         border=border_chg,\n",
    "         new_x='LMARGIN', new_y='NEXT',\n",
    "         align='L')\n",
    "pdf.ln(3)\n",
    "\n",
    "# Company summary table\n",
    "pdf.set_font('Helvetica', size=8)\n",
    "line_height = pdf.font_size * 2\n",
    "col_width = pdf.epw / 4.5  # distribute content evenly.\n",
    "try:\n",
    "    for row in data:\n",
    "        pdf.cell(20)\n",
    "        for datum in row:\n",
    "            pdf.multi_cell(col_width,\n",
    "                           line_height,\n",
    "                           datum,\n",
    "                           border=border_chg,\n",
    "                           new_x='RIGHT', new_y='TOP',\n",
    "                           max_line_height=pdf.font_size)\n",
    "        pdf.ln(line_height)\n",
    "except Exception:\n",
    "    print(\"Exception Ocurred at Company Summary Table\\n\")\n",
    "    pass\n",
    "pdf.ln(5)\n",
    "\n",
    "# Company description\n",
    "pdf.cell(14)\n",
    "pdf.multi_cell(w=165, h=5,\n",
    "               txt=company_description,\n",
    "               border=border_chg,\n",
    "               align='J',\n",
    "               fill=False)\n",
    "# Stock Peers (Paid endpoint)\n",
    "# pdf.ln(5)\n",
    "# pdf.cell(14)\n",
    "# pdf.multi_cell(w=165, h=5,\n",
    "#                txt=peers,\n",
    "#                border=border_chg,\n",
    "#                align='J',\n",
    "#                fill=False)\n",
    "\n",
    "# Company Logo\n",
    "try:\n",
    "    pdf.image('images/output/company_logo.png', x=100, y=215, h=15)\n",
    "    print(\"Company Logo imported to PDF\\n\")\n",
    "except Exception:\n",
    "    print(\"Exception Ocurred importing Company Logo\\n\")\n",
    "    pass\n",
    "print(\"Page 1: Company Description Created\\n\")"
   ]
  },
  {
   "cell_type": "markdown",
   "id": "54133701-09b1-4db3-b477-41bbd328bdaa",
   "metadata": {},
   "source": [
    "<a id=\"page2_pdf\"></a>\n",
    "#### Page 2: Financial Statements [*](#index)\n",
    "[PDF section start](#export_pdf)"
   ]
  },
  {
   "cell_type": "code",
   "execution_count": 30,
   "id": "256702af-35dc-4f85-9d85-3adda67a7179",
   "metadata": {
    "tags": []
   },
   "outputs": [
    {
     "name": "stdout",
     "output_type": "stream",
     "text": [
      "Page 2: Financial Statements Created\n",
      "\n"
     ]
    }
   ],
   "source": [
    "# Page 2: Financial Statements\n",
    "pdf.add_page()\n",
    "\n",
    "# Title\n",
    "pdf.set_font('Helvetica', 'B', 11)\n",
    "pdf.ln(10)\n",
    "pdf.cell(w=45, h=5, txt=\" Financial statements:\",\n",
    "         border=border_chg,\n",
    "         new_x='LMARGIN', new_y='NEXT',\n",
    "         align='L')\n",
    "\n",
    "# Amount in Millions Text\n",
    "pdf.cell(10)\n",
    "pdf.set_font('Helvetica', 'I', 8)\n",
    "pdf.cell(w=40, h=5, txt=\"Amounts in $ \"+currency+\" (Millions)\",\n",
    "         border=border_chg,\n",
    "         new_x='RIGHT', new_y='NEXT',\n",
    "         align='L',\n",
    "         fill=False, link='')\n",
    "\n",
    "# Income Statement Title\n",
    "pdf.ln(15)\n",
    "pdf.cell(10)\n",
    "pdf.set_font('Helvetica', 'B', 8)\n",
    "pdf.cell(w=30, h=5, txt=\"Income Statement\",\n",
    "         border=border_chg,\n",
    "         new_x='RIGHT', new_y='NEXT',\n",
    "         align='L',\n",
    "         fill=False, link='')\n",
    "pdf.cell(70)\n",
    "pdf.set_font('Helvetica', 'B', 8)\n",
    "pdf.cell(w=50, h=5, txt=\"Common Size Income Statement\",\n",
    "         border=border_chg,\n",
    "         new_x='RIGHT', new_y='NEXT',\n",
    "         align='L',\n",
    "         fill=False, link='')\n",
    "\n",
    "# Balance Sheet Title\n",
    "pdf.ln(55)\n",
    "pdf.cell(10)\n",
    "pdf.set_font('Helvetica', 'B', 8)\n",
    "pdf.cell(w=25, h=5, txt=\"Balance Sheet\",\n",
    "         border=border_chg,\n",
    "         new_x='RIGHT', new_y='NEXT',\n",
    "         align='L',\n",
    "         fill=False, link='')\n",
    "pdf.cell(75)\n",
    "pdf.set_font('Helvetica', 'B', 8)\n",
    "pdf.cell(w=50, h=5, txt=\"Common Size Balance Sheet\",\n",
    "         border=border_chg,\n",
    "         new_x='RIGHT', new_y='NEXT',\n",
    "         align='L',\n",
    "         fill=False, link='')\n",
    "\n",
    "# Cash Flow Statement Title\n",
    "pdf.ln(65)\n",
    "pdf.cell(50)\n",
    "pdf.set_font('Helvetica', 'B', 8)\n",
    "pdf.cell(w=35, h=5, txt=\"Cash Flow Statement\",\n",
    "         border=border_chg,\n",
    "         new_x='RIGHT', new_y='NEXT',\n",
    "         align='L',\n",
    "         fill=False, link='')\n",
    "\n",
    "# Income Statement image\n",
    "pdf.image('images/output/is_table.png', x=13, y=70, h=40)\n",
    "\n",
    "# Common Size Income Statement\n",
    "pdf.image('images/output/is_table_cs.png', x=120, y=70, h=40)\n",
    "\n",
    "# Balance Sheet\n",
    "pdf.image('images/output/bs_table.png', x=13, y=125, h=45)\n",
    "\n",
    "# Common Size Balance Sheet\n",
    "pdf.image('images/output/bs_table_cs.png', x=120, y=125, h=45)\n",
    "\n",
    "# Cash Flow Statement\n",
    "pdf.image('images/output/cf_table.png', x=50, y=190, h=40)\n",
    "\n",
    "print(\"Page 2: Financial Statements Created\\n\")"
   ]
  },
  {
   "cell_type": "markdown",
   "id": "bc33c9c9-998c-4805-9462-2b738b717f53",
   "metadata": {},
   "source": [
    "<a id=\"page3_pdf\"></a>\n",
    "#### Page 3: Internal Company Metrics [*](#index)\n",
    "[PDF section start](#export_pdf)"
   ]
  },
  {
   "cell_type": "code",
   "execution_count": 31,
   "id": "595322c8-a4c1-46a7-8785-418a2af2a8af",
   "metadata": {
    "tags": []
   },
   "outputs": [
    {
     "name": "stdout",
     "output_type": "stream",
     "text": [
      "Page 3: Internal Company Metrics Created\n",
      "\n"
     ]
    }
   ],
   "source": [
    "# Page 3: Internal Company Metrics\n",
    "pdf.add_page()\n",
    "\n",
    "# Title\n",
    "pdf.set_font('Helvetica', 'B', 11)\n",
    "pdf.ln(10)\n",
    "pdf.cell(w=45, h=5,\n",
    "         txt=\" Financial Summary:\",\n",
    "         border=border_chg,\n",
    "         new_x='LMARGIN', new_y='NEXT',\n",
    "         align='L')\n",
    "\n",
    "# Debt Ratios Table\n",
    "pdf.ln(10)\n",
    "pdf.cell(20)\n",
    "pdf.set_font('Helvetica', 'B', 8)\n",
    "pdf.cell(w=20, h=5, txt=\"Debt Ratios\",\n",
    "         border=border_chg,\n",
    "         new_x='RIGHT', new_y='NEXT',\n",
    "         align='R',\n",
    "         fill=False, link='')\n",
    "\n",
    "# Profit Ratios Table\n",
    "pdf.ln(60)\n",
    "pdf.cell(20)\n",
    "pdf.set_font('Helvetica', 'B', 8)\n",
    "pdf.cell(w=20, h=5, txt=\"Profit Ratios\",\n",
    "         border=border_chg,\n",
    "         new_x='RIGHT', new_y='NEXT',\n",
    "         align='R',\n",
    "         fill=False, link='')\n",
    "\n",
    "# Efficiency Ratios Table\n",
    "pdf.ln(55)\n",
    "pdf.cell(20)\n",
    "pdf.set_font('Helvetica', 'B', 8)\n",
    "pdf.cell(w=20, h=5, txt=\"Efficiency Ratios\",\n",
    "         border=border_chg,\n",
    "         new_x='RIGHT', new_y='NEXT',\n",
    "         align='R',\n",
    "         fill=False, link='')\n",
    "\n",
    "# Main metrics table\n",
    "pdf.image('images/output/debt_ratios_table.png', x=60, y=60, h=45)\n",
    "pdf.image('images/output/profit_ratios_table.png', x=57, y=120, h=45)\n",
    "pdf.image('images/output/efficiency_ratios_table.png', x=50, y=180, h=60)\n",
    "\n",
    "print(\"Page 3: Internal Company Metrics Created\\n\")"
   ]
  },
  {
   "cell_type": "markdown",
   "id": "ce8bbaa1-bd1a-44d1-a532-501adbadafd4",
   "metadata": {},
   "source": [
    "<a id=\"page4_pdf\"></a>\n",
    "#### Page 4: Market Ratios [*](#index)\n",
    "[PDF section start](#export_pdf)"
   ]
  },
  {
   "cell_type": "code",
   "execution_count": 32,
   "id": "31104715-933a-4021-b07d-dccf234f54dc",
   "metadata": {},
   "outputs": [
    {
     "name": "stdout",
     "output_type": "stream",
     "text": [
      "Page 4: Market Ratios Created\n",
      "\n"
     ]
    }
   ],
   "source": [
    "# Page 4: Market Ratios\n",
    "pdf.add_page()\n",
    "\n",
    "# Title\n",
    "pdf.set_font('Helvetica', 'B', 11)\n",
    "pdf.ln(10)\n",
    "pdf.cell(w=45, h=5,\n",
    "         txt=\" Financial Summary:\",\n",
    "         border=border_chg,\n",
    "         new_x='LMARGIN', new_y='NEXT',\n",
    "         align='L')\n",
    "\n",
    "# Market Ratios Table\n",
    "pdf.ln(10)\n",
    "pdf.cell(20)\n",
    "pdf.set_font('Helvetica', 'B', 8)\n",
    "pdf.cell(w=20, h=5, txt=\"Market Ratios\",\n",
    "         border=border_chg,\n",
    "         new_x='RIGHT', new_y='NEXT',\n",
    "         align='R',\n",
    "         fill=False, link='')\n",
    "\n",
    "# Key Metrics Table\n",
    "pdf.ln(75)\n",
    "pdf.cell(20)\n",
    "pdf.set_font('Helvetica', 'B', 8)\n",
    "pdf.cell(w=20, h=5, txt=\"Key Metrics\",\n",
    "         border=border_chg,\n",
    "         new_x='RIGHT', new_y='NEXT',\n",
    "         align='R',\n",
    "         fill=False, link='')\n",
    "\n",
    "# Main metrics table\n",
    "pdf.image('images/output/market_ratios_table.png', x=50, y=65, h=50)\n",
    "pdf.image('images/output/key_metrics_table.png', x=55, y=140, h=50)\n",
    "\n",
    "print(\"Page 4: Market Ratios Created\\n\")"
   ]
  },
  {
   "cell_type": "markdown",
   "id": "10ad9986-a11b-457e-b2e7-405f895cad58",
   "metadata": {},
   "source": [
    "<a id=\"page5_pdf\"></a>\n",
    "#### Page 5: Financial Statement Graphs [*](#index)\n",
    "[PDF section start](#export_pdf)"
   ]
  },
  {
   "cell_type": "code",
   "execution_count": 33,
   "id": "20c55a5a-8312-44ed-9076-a937cf4c214d",
   "metadata": {
    "tags": []
   },
   "outputs": [
    {
     "name": "stdout",
     "output_type": "stream",
     "text": [
      "Page 5: Financial Statement Graphs created\n",
      "\n"
     ]
    }
   ],
   "source": [
    "# Page 5: Financial Statement Graphs\n",
    "pdf.add_page()\n",
    "\n",
    "# Income Statement Graph\n",
    "pdf.image('images/output/is_graph.png', x=30, y=35, h=80)\n",
    "\n",
    "# Balance Sheet Graph\n",
    "pdf.image('images/output/bs_graph.png', x=30, y=105, h=80)\n",
    "\n",
    "# Cash Flow Statement Graph\n",
    "pdf.image('images/output/cf_graph.png', x=30, y=175, h=80)\n",
    "\n",
    "print(\"Page 5: Financial Statement Graphs created\\n\")"
   ]
  },
  {
   "cell_type": "markdown",
   "id": "1000dd48-a86e-4f21-a0ef-45c4dc9184ab",
   "metadata": {},
   "source": [
    "<a id=\"page6_pdf\"></a>\n",
    "#### Page 6: Common Size Financial Statement Graphs [*](#index)\n",
    "[PDF section start](#export_pdf)"
   ]
  },
  {
   "cell_type": "code",
   "execution_count": 34,
   "id": "403faee3-8d39-4609-9d70-22a62deb0490",
   "metadata": {
    "tags": []
   },
   "outputs": [
    {
     "name": "stdout",
     "output_type": "stream",
     "text": [
      "Page 6: Common Size Financial Statement Graphs Created\n",
      "\n"
     ]
    }
   ],
   "source": [
    "# Page 6: Common Size Financial Statement Graphs\n",
    "pdf.add_page()\n",
    "\n",
    "# Common Size Income Statement Graph\n",
    "pdf.image('images/output/is_graph_cs.png', x=30, y=35, h=80)\n",
    "\n",
    "# Common Size Balance Sheet Graph\n",
    "pdf.image('images/output/bs_graph_cs.png', x=30, y=105, h=80)\n",
    "\n",
    "# Common Size Cash Flow Statement Graph\n",
    "pdf.image('images/output/equity_graph.png', x=30, y=175, h=80)\n",
    "\n",
    "print(\"Page 6: Common Size Financial Statement Graphs Created\\n\")"
   ]
  },
  {
   "cell_type": "markdown",
   "id": "db49006a-0a7c-4101-a47e-c07e654e1a0f",
   "metadata": {},
   "source": [
    "<a id=\"save_output_pdf\"></a>\n",
    "#### Save Output as PDF [*](#index)\n",
    "[PDF section start](#export_pdf)"
   ]
  },
  {
   "cell_type": "code",
   "execution_count": 35,
   "id": "8a37f43c-23ac-4876-b65a-4643764b8bfe",
   "metadata": {},
   "outputs": [
    {
     "name": "stdout",
     "output_type": "stream",
     "text": [
      "Saved output as PDF\n",
      "\n",
      "Script executed successfully\n",
      "\n"
     ]
    }
   ],
   "source": [
    "# Save output as PDF\n",
    "pdf.output('files/'+company_symbol + \" \" + today.strftime(\"%Y-%m-%d\") + \".pdf\")\n",
    "\n",
    "print(\"Saved output as PDF\\n\")\n",
    "print(\"Script executed successfully\\n\")"
   ]
  },
  {
   "cell_type": "markdown",
   "id": "c58b34bd-ff6c-48b5-8cb7-6b5852b5e06a",
   "metadata": {},
   "source": [
    "[Go to Ticker](#ticker)\n",
    "\n",
    "[PDF section start](#export_pdf)"
   ]
  }
 ],
 "metadata": {
  "kernelspec": {
   "display_name": "Python 3 (ipykernel)",
   "language": "python",
   "name": "python3"
  },
  "language_info": {
   "codemirror_mode": {
    "name": "ipython",
    "version": 3
   },
   "file_extension": ".py",
   "mimetype": "text/x-python",
   "name": "python",
   "nbconvert_exporter": "python",
   "pygments_lexer": "ipython3",
   "version": "3.9.13"
  },
  "vscode": {
   "interpreter": {
    "hash": "aee8b7b246df8f9039afb4144a1f6fd8d2ca17a180786b69acc140d282b71a49"
   }
  }
 },
 "nbformat": 4,
 "nbformat_minor": 5
}
